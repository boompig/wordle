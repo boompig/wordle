{
 "cells": [
  {
   "cell_type": "code",
   "execution_count": 9,
   "id": "compact-buffalo",
   "metadata": {},
   "outputs": [],
   "source": [
    "# we have to use some previous code\n",
    "import sys\n",
    "sys.path.append('..')"
   ]
  },
  {
   "cell_type": "code",
   "execution_count": 10,
   "id": "personal-immune",
   "metadata": {},
   "outputs": [
    {
     "name": "stdout",
     "output_type": "stream",
     "text": [
      "The autoreload extension is already loaded. To reload it, use:\n",
      "  %reload_ext autoreload\n"
     ]
    }
   ],
   "source": [
    "# make sure we reload the code\n",
    "%load_ext autoreload\n",
    "%autoreload 2"
   ]
  },
  {
   "cell_type": "code",
   "execution_count": 11,
   "id": "pacific-intersection",
   "metadata": {},
   "outputs": [],
   "source": [
    "from parse_data import read_parsed_words, DEFAULT_PARSED_WORDS_FILE"
   ]
  },
  {
   "cell_type": "code",
   "execution_count": 12,
   "id": "bigger-detective",
   "metadata": {},
   "outputs": [
    {
     "data": {
      "text/plain": [
       "'/Users/Daniel_Kats/prog/wordle/data-parsed/wordle-words.pickle'"
      ]
     },
     "execution_count": 12,
     "metadata": {},
     "output_type": "execute_result"
    }
   ],
   "source": [
    "# should be an absolute path\n",
    "DEFAULT_PARSED_WORDS_FILE"
   ]
  },
  {
   "cell_type": "code",
   "execution_count": 13,
   "id": "parental-anchor",
   "metadata": {},
   "outputs": [
    {
     "name": "stdout",
     "output_type": "stream",
     "text": [
      "Loaded 12972 words\n"
     ]
    }
   ],
   "source": [
    "words = read_parsed_words()\n",
    "print(f'Loaded {len(words)} words')"
   ]
  },
  {
   "cell_type": "code",
   "execution_count": 23,
   "id": "classified-statistics",
   "metadata": {},
   "outputs": [],
   "source": [
    "from play import UNSAFE_eval_guess, eval_guess"
   ]
  },
  {
   "cell_type": "code",
   "execution_count": 15,
   "id": "collect-cloud",
   "metadata": {},
   "outputs": [],
   "source": [
    "from tqdm import tqdm\n",
    "import itertools"
   ]
  },
  {
   "cell_type": "markdown",
   "id": "gross-system",
   "metadata": {},
   "source": [
    "## Creating the possibility matrix"
   ]
  },
  {
   "cell_type": "code",
   "execution_count": 16,
   "id": "ideal-horizon",
   "metadata": {},
   "outputs": [
    {
     "name": "stdout",
     "output_type": "stream",
     "text": [
      "# combinations of all words = 168,272,784\n"
     ]
    }
   ],
   "source": [
    "num_combos = len(words) * len(words)\n",
    "print(f'# combinations of all words = {num_combos:,}')"
   ]
  },
  {
   "cell_type": "code",
   "execution_count": 17,
   "id": "synthetic-presence",
   "metadata": {},
   "outputs": [],
   "source": [
    "# each evaluation can be represented by a relatively small integer\n",
    "# each position is a 2-bit value totalling a 10-bit integer\n",
    "\n",
    "from typing import List\n",
    "\n",
    "def array_to_integer(array: List[int]) -> int:\n",
    "    \"\"\"\n",
    "    normally our evaluation is represented by a 5-integer array\n",
    "    each item represents whether there is a partial (1) or full (2) match of the guess's letter i\n",
    "    0 denotes absence\n",
    "    we will convert this to an integer\n",
    "    This integer is guaranteed to be between 0 and 4**5\n",
    "    \"\"\"\n",
    "    assert isinstance(array, list)\n",
    "    assert len(array) == 5\n",
    "    v = 0\n",
    "    for i, pos_value in enumerate(array):\n",
    "        v += (4 ** i) * pos_value\n",
    "    return v\n"
   ]
  },
  {
   "cell_type": "code",
   "execution_count": 33,
   "id": "spread-bridges",
   "metadata": {},
   "outputs": [
    {
     "name": "stdout",
     "output_type": "stream",
     "text": [
      "Shape of the matrix: (12972, 12972)\n",
      "Matrix entry type: uint32\n"
     ]
    }
   ],
   "source": [
    "# create the table of possible outcomes\n",
    "\n",
    "import numpy as np\n",
    "from typing import Tuple\n",
    "\n",
    "num_words = len(words)\n",
    "\n",
    "word_range_1 = np.arange(num_words)\n",
    "word_range_2 = np.arange(num_words)\n",
    "\n",
    "# create an nxn matrix\n",
    "# each entry will be an unsigned 32-bit integer\n",
    "# the row will denote the index of the guessing word\n",
    "# the column will denote the index of the answer word\n",
    "# to be honest, we could have done 16-bit and saved some space\n",
    "table = np.empty(shape=(num_words, num_words), dtype='uint32')\n",
    "\n",
    "print(f'Shape of the matrix: {table.shape}')\n",
    "print(f'Matrix entry type: {table.dtype}')\n"
   ]
  },
  {
   "cell_type": "code",
   "execution_count": 21,
   "id": "organized-pollution",
   "metadata": {},
   "outputs": [
    {
     "data": {
      "text/plain": [
       "array([[0, 3, 0, ..., 0, 0, 0],\n",
       "       [0, 0, 0, ..., 0, 0, 0],\n",
       "       [0, 0, 0, ..., 0, 0, 0],\n",
       "       ...,\n",
       "       [0, 0, 0, ..., 0, 0, 0],\n",
       "       [0, 0, 0, ..., 0, 0, 0],\n",
       "       [0, 0, 0, ..., 0, 0, 0]], dtype=uint32)"
      ]
     },
     "execution_count": 21,
     "metadata": {},
     "output_type": "execute_result"
    }
   ],
   "source": [
    "# test indices\n",
    "table[0,1] = 3\n",
    "table"
   ]
  },
  {
   "cell_type": "code",
   "execution_count": 28,
   "id": "handed-malpractice",
   "metadata": {},
   "outputs": [
    {
     "data": {
      "text/plain": [
       "array([[ 0, 10,  0, ...,  0,  0,  0],\n",
       "       [ 0,  0,  0, ...,  0,  0,  0],\n",
       "       [ 0,  0,  0, ...,  0,  0,  0],\n",
       "       ...,\n",
       "       [ 0,  0,  0, ...,  0,  0,  0],\n",
       "       [ 0,  0,  0, ...,  0,  0,  0],\n",
       "       [ 0,  0,  0, ...,  0,  0,  0]], dtype=uint32)"
      ]
     },
     "execution_count": 28,
     "metadata": {},
     "output_type": "execute_result"
    }
   ],
   "source": [
    "def f_eval_guess(guess_i: int, answer_i: int) -> int:\n",
    "    \"\"\"Return an integer\"\"\"\n",
    "    guess = words[guess_i]\n",
    "    answer = words[answer_i]\n",
    "    rval = UNSAFE_eval_guess(guess=guess, answer=answer)\n",
    "    # the numbers are guaranteed to be 0, 1, 2\n",
    "    return array_to_integer(rval)\n",
    "\n",
    "table[0, 1] = f_eval_guess(0, 1)\n",
    "table"
   ]
  },
  {
   "cell_type": "code",
   "execution_count": 29,
   "id": "republican-fundamentals",
   "metadata": {},
   "outputs": [
    {
     "name": "stdout",
     "output_type": "stream",
     "text": [
      "aahed\n",
      "aalii\n"
     ]
    },
    {
     "data": {
      "text/plain": [
       "[2, 2, 0, 0, 0]"
      ]
     },
     "execution_count": 29,
     "metadata": {},
     "output_type": "execute_result"
    }
   ],
   "source": [
    "print(words[0])\n",
    "print(words[1])\n",
    "eval_guess(guess=words[0], answer=words[1])"
   ]
  },
  {
   "cell_type": "code",
   "execution_count": 31,
   "id": "eleven-regard",
   "metadata": {},
   "outputs": [
    {
     "name": "stderr",
     "output_type": "stream",
     "text": [
      "168272784it [08:26, 332052.26it/s]\n"
     ]
    }
   ],
   "source": [
    "# we can convert the entire output to a matrix to save space\n",
    "# however it may take longer\n",
    "\n",
    "combos = itertools.product(word_range_1, word_range_2)\n",
    "\n",
    "for guess_i, answer_i in tqdm(combos):\n",
    "    table[guess_i, answer_i] = f_eval_guess(guess_i, answer_i)\n"
   ]
  },
  {
   "cell_type": "code",
   "execution_count": 32,
   "id": "wicked-ireland",
   "metadata": {},
   "outputs": [],
   "source": [
    "# now save this matrix of hard-won computation\n",
    "\n",
    "np.save('../data-parsed/possibilities-table.npy', table)"
   ]
  },
  {
   "cell_type": "code",
   "execution_count": 36,
   "id": "humanitarian-lloyd",
   "metadata": {},
   "outputs": [],
   "source": [
    "# NOTE: for the blog post, this computation took about 8 minutes on a fairly old laptop\n",
    "# I am sure there is a more efficient way to do it, but why?"
   ]
  },
  {
   "cell_type": "markdown",
   "id": "critical-intranet",
   "metadata": {},
   "source": [
    "## Evaluating the First Word Candidates\n",
    "\n"
   ]
  },
  {
   "cell_type": "code",
   "execution_count": 35,
   "id": "adolescent-ordering",
   "metadata": {},
   "outputs": [
    {
     "name": "stdout",
     "output_type": "stream",
     "text": [
      "(12972, 12972)\n",
      "uint32\n"
     ]
    }
   ],
   "source": [
    "table = np.load('../data-parsed/possibilities-table.npy')\n",
    "print(table.shape)\n",
    "print(table.dtype)"
   ]
  },
  {
   "cell_type": "code",
   "execution_count": 38,
   "id": "worthy-scout",
   "metadata": {},
   "outputs": [],
   "source": [
    "import pandas as pd"
   ]
  },
  {
   "cell_type": "code",
   "execution_count": 62,
   "id": "above-awareness",
   "metadata": {},
   "outputs": [
    {
     "data": {
      "text/plain": [
       "False"
      ]
     },
     "execution_count": 62,
     "metadata": {},
     "output_type": "execute_result"
    }
   ],
   "source": [
    "# is our matrix symmetric?\n",
    "# no, because positioning matters in the way we calculate the values (unfortunately)\n",
    "# if I could do it again, I might use a different value system that is invariant to that\n",
    "\n",
    "np.allclose(table, table.T, rtol=1e-1, atol=1e-1)"
   ]
  },
  {
   "cell_type": "code",
   "execution_count": 75,
   "id": "dried-remains",
   "metadata": {},
   "outputs": [
    {
     "data": {
      "text/html": [
       "<div>\n",
       "<style scoped>\n",
       "    .dataframe tbody tr th:only-of-type {\n",
       "        vertical-align: middle;\n",
       "    }\n",
       "\n",
       "    .dataframe tbody tr th {\n",
       "        vertical-align: top;\n",
       "    }\n",
       "\n",
       "    .dataframe thead th {\n",
       "        text-align: right;\n",
       "    }\n",
       "</style>\n",
       "<table border=\"1\" class=\"dataframe\">\n",
       "  <thead>\n",
       "    <tr style=\"text-align: right;\">\n",
       "      <th></th>\n",
       "      <th>aahed</th>\n",
       "      <th>aalii</th>\n",
       "      <th>aargh</th>\n",
       "      <th>aarti</th>\n",
       "      <th>abaca</th>\n",
       "      <th>abaci</th>\n",
       "      <th>aback</th>\n",
       "      <th>abacs</th>\n",
       "      <th>abaft</th>\n",
       "      <th>abaka</th>\n",
       "      <th>...</th>\n",
       "      <th>zulus</th>\n",
       "      <th>zupan</th>\n",
       "      <th>zupas</th>\n",
       "      <th>zuppa</th>\n",
       "      <th>zurfs</th>\n",
       "      <th>zuzim</th>\n",
       "      <th>zygal</th>\n",
       "      <th>zygon</th>\n",
       "      <th>zymes</th>\n",
       "      <th>zymic</th>\n",
       "    </tr>\n",
       "  </thead>\n",
       "  <tbody>\n",
       "    <tr>\n",
       "      <th>aahed</th>\n",
       "      <td>682</td>\n",
       "      <td>10</td>\n",
       "      <td>26</td>\n",
       "      <td>10</td>\n",
       "      <td>6</td>\n",
       "      <td>6</td>\n",
       "      <td>6</td>\n",
       "      <td>6</td>\n",
       "      <td>6</td>\n",
       "      <td>6</td>\n",
       "      <td>...</td>\n",
       "      <td>0</td>\n",
       "      <td>5</td>\n",
       "      <td>5</td>\n",
       "      <td>5</td>\n",
       "      <td>0</td>\n",
       "      <td>0</td>\n",
       "      <td>5</td>\n",
       "      <td>0</td>\n",
       "      <td>128</td>\n",
       "      <td>0</td>\n",
       "    </tr>\n",
       "    <tr>\n",
       "      <th>aalii</th>\n",
       "      <td>10</td>\n",
       "      <td>682</td>\n",
       "      <td>10</td>\n",
       "      <td>586</td>\n",
       "      <td>6</td>\n",
       "      <td>582</td>\n",
       "      <td>6</td>\n",
       "      <td>6</td>\n",
       "      <td>6</td>\n",
       "      <td>6</td>\n",
       "      <td>...</td>\n",
       "      <td>32</td>\n",
       "      <td>5</td>\n",
       "      <td>5</td>\n",
       "      <td>5</td>\n",
       "      <td>0</td>\n",
       "      <td>384</td>\n",
       "      <td>21</td>\n",
       "      <td>0</td>\n",
       "      <td>0</td>\n",
       "      <td>384</td>\n",
       "    </tr>\n",
       "    <tr>\n",
       "      <th>aargh</th>\n",
       "      <td>266</td>\n",
       "      <td>10</td>\n",
       "      <td>682</td>\n",
       "      <td>42</td>\n",
       "      <td>6</td>\n",
       "      <td>6</td>\n",
       "      <td>6</td>\n",
       "      <td>6</td>\n",
       "      <td>6</td>\n",
       "      <td>6</td>\n",
       "      <td>...</td>\n",
       "      <td>0</td>\n",
       "      <td>5</td>\n",
       "      <td>5</td>\n",
       "      <td>5</td>\n",
       "      <td>32</td>\n",
       "      <td>0</td>\n",
       "      <td>69</td>\n",
       "      <td>64</td>\n",
       "      <td>0</td>\n",
       "      <td>0</td>\n",
       "    </tr>\n",
       "    <tr>\n",
       "      <th>aarti</th>\n",
       "      <td>10</td>\n",
       "      <td>522</td>\n",
       "      <td>42</td>\n",
       "      <td>682</td>\n",
       "      <td>6</td>\n",
       "      <td>518</td>\n",
       "      <td>6</td>\n",
       "      <td>6</td>\n",
       "      <td>70</td>\n",
       "      <td>6</td>\n",
       "      <td>...</td>\n",
       "      <td>0</td>\n",
       "      <td>5</td>\n",
       "      <td>5</td>\n",
       "      <td>5</td>\n",
       "      <td>32</td>\n",
       "      <td>256</td>\n",
       "      <td>5</td>\n",
       "      <td>0</td>\n",
       "      <td>0</td>\n",
       "      <td>256</td>\n",
       "    </tr>\n",
       "    <tr>\n",
       "      <th>abaca</th>\n",
       "      <td>274</td>\n",
       "      <td>274</td>\n",
       "      <td>274</td>\n",
       "      <td>274</td>\n",
       "      <td>682</td>\n",
       "      <td>426</td>\n",
       "      <td>426</td>\n",
       "      <td>426</td>\n",
       "      <td>298</td>\n",
       "      <td>554</td>\n",
       "      <td>...</td>\n",
       "      <td>0</td>\n",
       "      <td>273</td>\n",
       "      <td>273</td>\n",
       "      <td>529</td>\n",
       "      <td>0</td>\n",
       "      <td>0</td>\n",
       "      <td>273</td>\n",
       "      <td>0</td>\n",
       "      <td>0</td>\n",
       "      <td>64</td>\n",
       "    </tr>\n",
       "    <tr>\n",
       "      <th>...</th>\n",
       "      <td>...</td>\n",
       "      <td>...</td>\n",
       "      <td>...</td>\n",
       "      <td>...</td>\n",
       "      <td>...</td>\n",
       "      <td>...</td>\n",
       "      <td>...</td>\n",
       "      <td>...</td>\n",
       "      <td>...</td>\n",
       "      <td>...</td>\n",
       "      <td>...</td>\n",
       "      <td>...</td>\n",
       "      <td>...</td>\n",
       "      <td>...</td>\n",
       "      <td>...</td>\n",
       "      <td>...</td>\n",
       "      <td>...</td>\n",
       "      <td>...</td>\n",
       "      <td>...</td>\n",
       "      <td>...</td>\n",
       "      <td>...</td>\n",
       "    </tr>\n",
       "    <tr>\n",
       "      <th>zuzim</th>\n",
       "      <td>0</td>\n",
       "      <td>128</td>\n",
       "      <td>0</td>\n",
       "      <td>64</td>\n",
       "      <td>0</td>\n",
       "      <td>64</td>\n",
       "      <td>0</td>\n",
       "      <td>0</td>\n",
       "      <td>0</td>\n",
       "      <td>0</td>\n",
       "      <td>...</td>\n",
       "      <td>26</td>\n",
       "      <td>26</td>\n",
       "      <td>26</td>\n",
       "      <td>26</td>\n",
       "      <td>26</td>\n",
       "      <td>682</td>\n",
       "      <td>18</td>\n",
       "      <td>18</td>\n",
       "      <td>274</td>\n",
       "      <td>402</td>\n",
       "    </tr>\n",
       "    <tr>\n",
       "      <th>zygal</th>\n",
       "      <td>64</td>\n",
       "      <td>320</td>\n",
       "      <td>80</td>\n",
       "      <td>64</td>\n",
       "      <td>64</td>\n",
       "      <td>64</td>\n",
       "      <td>64</td>\n",
       "      <td>64</td>\n",
       "      <td>64</td>\n",
       "      <td>64</td>\n",
       "      <td>...</td>\n",
       "      <td>258</td>\n",
       "      <td>130</td>\n",
       "      <td>130</td>\n",
       "      <td>66</td>\n",
       "      <td>2</td>\n",
       "      <td>2</td>\n",
       "      <td>682</td>\n",
       "      <td>42</td>\n",
       "      <td>10</td>\n",
       "      <td>10</td>\n",
       "    </tr>\n",
       "    <tr>\n",
       "      <th>zygon</th>\n",
       "      <td>0</td>\n",
       "      <td>0</td>\n",
       "      <td>16</td>\n",
       "      <td>0</td>\n",
       "      <td>0</td>\n",
       "      <td>0</td>\n",
       "      <td>0</td>\n",
       "      <td>0</td>\n",
       "      <td>0</td>\n",
       "      <td>0</td>\n",
       "      <td>...</td>\n",
       "      <td>2</td>\n",
       "      <td>514</td>\n",
       "      <td>2</td>\n",
       "      <td>2</td>\n",
       "      <td>2</td>\n",
       "      <td>2</td>\n",
       "      <td>42</td>\n",
       "      <td>682</td>\n",
       "      <td>10</td>\n",
       "      <td>10</td>\n",
       "    </tr>\n",
       "    <tr>\n",
       "      <th>zymes</th>\n",
       "      <td>128</td>\n",
       "      <td>0</td>\n",
       "      <td>0</td>\n",
       "      <td>0</td>\n",
       "      <td>0</td>\n",
       "      <td>0</td>\n",
       "      <td>0</td>\n",
       "      <td>512</td>\n",
       "      <td>0</td>\n",
       "      <td>0</td>\n",
       "      <td>...</td>\n",
       "      <td>514</td>\n",
       "      <td>2</td>\n",
       "      <td>514</td>\n",
       "      <td>2</td>\n",
       "      <td>514</td>\n",
       "      <td>18</td>\n",
       "      <td>10</td>\n",
       "      <td>10</td>\n",
       "      <td>682</td>\n",
       "      <td>42</td>\n",
       "    </tr>\n",
       "    <tr>\n",
       "      <th>zymic</th>\n",
       "      <td>0</td>\n",
       "      <td>128</td>\n",
       "      <td>0</td>\n",
       "      <td>64</td>\n",
       "      <td>256</td>\n",
       "      <td>320</td>\n",
       "      <td>256</td>\n",
       "      <td>256</td>\n",
       "      <td>0</td>\n",
       "      <td>0</td>\n",
       "      <td>...</td>\n",
       "      <td>2</td>\n",
       "      <td>2</td>\n",
       "      <td>2</td>\n",
       "      <td>2</td>\n",
       "      <td>2</td>\n",
       "      <td>146</td>\n",
       "      <td>10</td>\n",
       "      <td>10</td>\n",
       "      <td>42</td>\n",
       "      <td>682</td>\n",
       "    </tr>\n",
       "  </tbody>\n",
       "</table>\n",
       "<p>12972 rows × 12972 columns</p>\n",
       "</div>"
      ],
      "text/plain": [
       "       aahed  aalii  aargh  aarti  abaca  abaci  aback  abacs  abaft  abaka  \\\n",
       "aahed    682     10     26     10      6      6      6      6      6      6   \n",
       "aalii     10    682     10    586      6    582      6      6      6      6   \n",
       "aargh    266     10    682     42      6      6      6      6      6      6   \n",
       "aarti     10    522     42    682      6    518      6      6     70      6   \n",
       "abaca    274    274    274    274    682    426    426    426    298    554   \n",
       "...      ...    ...    ...    ...    ...    ...    ...    ...    ...    ...   \n",
       "zuzim      0    128      0     64      0     64      0      0      0      0   \n",
       "zygal     64    320     80     64     64     64     64     64     64     64   \n",
       "zygon      0      0     16      0      0      0      0      0      0      0   \n",
       "zymes    128      0      0      0      0      0      0    512      0      0   \n",
       "zymic      0    128      0     64    256    320    256    256      0      0   \n",
       "\n",
       "       ...  zulus  zupan  zupas  zuppa  zurfs  zuzim  zygal  zygon  zymes  \\\n",
       "aahed  ...      0      5      5      5      0      0      5      0    128   \n",
       "aalii  ...     32      5      5      5      0    384     21      0      0   \n",
       "aargh  ...      0      5      5      5     32      0     69     64      0   \n",
       "aarti  ...      0      5      5      5     32    256      5      0      0   \n",
       "abaca  ...      0    273    273    529      0      0    273      0      0   \n",
       "...    ...    ...    ...    ...    ...    ...    ...    ...    ...    ...   \n",
       "zuzim  ...     26     26     26     26     26    682     18     18    274   \n",
       "zygal  ...    258    130    130     66      2      2    682     42     10   \n",
       "zygon  ...      2    514      2      2      2      2     42    682     10   \n",
       "zymes  ...    514      2    514      2    514     18     10     10    682   \n",
       "zymic  ...      2      2      2      2      2    146     10     10     42   \n",
       "\n",
       "       zymic  \n",
       "aahed      0  \n",
       "aalii    384  \n",
       "aargh      0  \n",
       "aarti    256  \n",
       "abaca     64  \n",
       "...      ...  \n",
       "zuzim    402  \n",
       "zygal     10  \n",
       "zygon     10  \n",
       "zymes     42  \n",
       "zymic    682  \n",
       "\n",
       "[12972 rows x 12972 columns]"
      ]
     },
     "execution_count": 75,
     "metadata": {},
     "output_type": "execute_result"
    }
   ],
   "source": [
    "# after this, we go through the table and reverse it to get the list of possibilities for each guess\n",
    "# for each (guess, possibility) what's the number of answers for that guess?\n",
    "\n",
    "# NOTE: indexes are rows (guesses)\n",
    "# columns are answers\n",
    "\n",
    "df = pd.DataFrame(table, index=words, columns=words)\n",
    "df"
   ]
  },
  {
   "cell_type": "code",
   "execution_count": 73,
   "id": "interim-marina",
   "metadata": {},
   "outputs": [
    {
     "data": {
      "text/plain": [
       "[0, 0, 1, 0, 0]"
      ]
     },
     "execution_count": 73,
     "metadata": {},
     "output_type": "execute_result"
    }
   ],
   "source": [
    "def integer_to_arr(rval: int):\n",
    "    arr = [0] * 5\n",
    "    \n",
    "    for i in range(5, -1, -1):\n",
    "        # the number at position i\n",
    "        # should be a value between 0-3\n",
    "        if rval >= (4 ** i):\n",
    "            rem = rval % (4 ** i)\n",
    "            pos_value = int((rval - rem) / (4 ** i))\n",
    "            arr[i] = pos_value\n",
    "            rval -= arr[i] * (4 ** i)\n",
    "    return arr\n",
    "\n",
    "integer_to_arr(16)"
   ]
  },
  {
   "cell_type": "code",
   "execution_count": 77,
   "id": "integral-celebration",
   "metadata": {},
   "outputs": [
    {
     "name": "stdout",
     "output_type": "stream",
     "text": [
      "769\n",
      "16 -> 769\n"
     ]
    }
   ],
   "source": [
    "# we guess soare\n",
    "# what are the various frequencies\n",
    "\n",
    "x = df.loc['soare'].value_counts().to_dict()\n",
    "m = max(x.values())\n",
    "print(m)\n",
    "# the max count for each return value is 769\n",
    "\n",
    "for rval, count in x.items():\n",
    "    # specifically, 16\n",
    "    if count >= m:\n",
    "        print(f\"{rval} -> {count}\")"
   ]
  },
  {
   "cell_type": "code",
   "execution_count": 78,
   "id": "generic-buyer",
   "metadata": {},
   "outputs": [
    {
     "data": {
      "text/plain": [
       "aalii    16\n",
       "abuna    16\n",
       "abuzz    16\n",
       "acidy    16\n",
       "acing    16\n",
       "         ..\n",
       "zigan    16\n",
       "zilla    16\n",
       "zupan    16\n",
       "zuppa    16\n",
       "zygal    16\n",
       "Name: soare, Length: 769, dtype: uint32"
      ]
     },
     "execution_count": 78,
     "metadata": {},
     "output_type": "execute_result"
    }
   ],
   "source": [
    "df.loc['soare'][df.loc['soare'] == 16]"
   ]
  },
  {
   "cell_type": "code",
   "execution_count": 79,
   "id": "focused-freight",
   "metadata": {
    "collapsed": true,
    "jupyter": {
     "outputs_hidden": true
    }
   },
   "outputs": [
    {
     "name": "stdout",
     "output_type": "stream",
     "text": [
      "[0, 0, 1, 0, 0] -> 769\n",
      "[1, 0, 0, 0, 1] -> 640\n",
      "[0, 0, 0, 0, 1] -> 608\n",
      "[1, 0, 1, 0, 0] -> 601\n",
      "[0, 0, 0, 0, 0] -> 577\n",
      "[1, 0, 0, 0, 0] -> 505\n",
      "[0, 0, 0, 1, 1] -> 401\n",
      "[1, 2, 0, 0, 0] -> 400\n",
      "[0, 2, 0, 0, 0] -> 369\n",
      "[0, 0, 1, 0, 1] -> 349\n",
      "[0, 0, 0, 0, 2] -> 302\n",
      "[0, 0, 1, 1, 1] -> 257\n",
      "[0, 1, 0, 0, 0] -> 254\n",
      "[0, 0, 1, 1, 0] -> 251\n",
      "[2, 0, 0, 0, 0] -> 231\n",
      "[1, 0, 1, 0, 1] -> 219\n",
      "[2, 0, 0, 0, 1] -> 211\n",
      "[1, 0, 0, 1, 1] -> 198\n",
      "[0, 1, 1, 0, 0] -> 195\n",
      "[1, 0, 0, 1, 0] -> 178\n",
      "[0, 2, 0, 0, 1] -> 177\n",
      "[0, 0, 0, 1, 0] -> 175\n",
      "[1, 1, 0, 0, 0] -> 170\n",
      "[0, 0, 2, 0, 0] -> 168\n",
      "[1, 0, 1, 1, 0] -> 161\n",
      "[0, 0, 1, 0, 2] -> 156\n",
      "[2, 0, 2, 0, 0] -> 155\n",
      "[1, 0, 2, 0, 0] -> 149\n",
      "[0, 1, 0, 1, 0] -> 143\n",
      "[2, 1, 0, 0, 0] -> 141\n",
      "[1, 2, 0, 0, 1] -> 138\n",
      "[0, 2, 1, 0, 0] -> 132\n",
      "[0, 2, 0, 0, 2] -> 128\n",
      "[0, 0, 0, 1, 2] -> 127\n",
      "[0, 1, 0, 0, 1] -> 123\n",
      "[2, 0, 1, 0, 0] -> 119\n",
      "[0, 0, 2, 1, 0] -> 107\n",
      "[1, 2, 0, 1, 0] -> 91\n",
      "[0, 2, 0, 1, 1] -> 88\n",
      "[0, 2, 0, 1, 0] -> 80\n",
      "[1, 1, 1, 0, 0] -> 80\n",
      "[0, 1, 1, 1, 0] -> 79\n",
      "[0, 0, 1, 2, 0] -> 74\n",
      "[2, 0, 0, 0, 2] -> 74\n",
      "[0, 0, 2, 0, 2] -> 72\n",
      "[1, 0, 2, 0, 1] -> 70\n",
      "[2, 0, 1, 0, 1] -> 66\n",
      "[1, 1, 0, 1, 0] -> 66\n",
      "[1, 0, 2, 1, 0] -> 66\n",
      "[0, 1, 0, 1, 1] -> 64\n",
      "[0, 1, 0, 0, 2] -> 62\n",
      "[1, 0, 1, 1, 1] -> 61\n",
      "[1, 1, 0, 0, 1] -> 60\n",
      "[2, 2, 0, 0, 0] -> 57\n",
      "[2, 0, 0, 1, 1] -> 56\n",
      "[0, 0, 1, 1, 2] -> 56\n",
      "[0, 2, 1, 1, 0] -> 54\n",
      "[0, 0, 2, 0, 1] -> 51\n",
      "[1, 0, 0, 0, 2] -> 49\n",
      "[0, 0, 0, 2, 0] -> 46\n",
      "[0, 0, 0, 2, 1] -> 44\n",
      "[0, 0, 2, 2, 0] -> 43\n",
      "[0, 0, 2, 1, 2] -> 39\n",
      "[1, 2, 1, 0, 0] -> 39\n",
      "[2, 0, 1, 1, 0] -> 39\n",
      "[1, 0, 1, 0, 2] -> 36\n",
      "[2, 0, 2, 0, 2] -> 35\n",
      "[0, 1, 0, 1, 2] -> 34\n",
      "[1, 0, 0, 2, 1] -> 34\n",
      "[0, 2, 0, 1, 2] -> 31\n",
      "[1, 2, 0, 1, 1] -> 31\n",
      "[2, 0, 2, 2, 0] -> 31\n",
      "[1, 2, 0, 0, 2] -> 30\n",
      "[0, 2, 0, 2, 0] -> 29\n",
      "[1, 2, 2, 0, 0] -> 29\n",
      "[2, 0, 0, 2, 0] -> 28\n",
      "[0, 1, 0, 2, 0] -> 28\n",
      "[0, 0, 0, 2, 2] -> 28\n",
      "[2, 0, 0, 1, 0] -> 27\n",
      "[2, 1, 1, 0, 0] -> 27\n",
      "[1, 0, 0, 1, 2] -> 24\n",
      "[0, 0, 1, 2, 2] -> 23\n",
      "[0, 1, 1, 0, 2] -> 23\n",
      "[1, 1, 0, 1, 1] -> 22\n",
      "[1, 0, 2, 2, 0] -> 22\n",
      "[2, 0, 1, 1, 1] -> 21\n",
      "[2, 1, 0, 0, 2] -> 21\n",
      "[1, 0, 0, 2, 0] -> 20\n",
      "[1, 0, 1, 2, 0] -> 20\n",
      "[1, 2, 0, 2, 0] -> 20\n",
      "[0, 0, 2, 2, 2] -> 19\n",
      "[0, 1, 2, 0, 0] -> 19\n",
      "[0, 2, 2, 0, 0] -> 19\n",
      "[2, 1, 0, 0, 1] -> 18\n",
      "[2, 1, 0, 1, 0] -> 18\n",
      "[0, 1, 1, 2, 0] -> 16\n",
      "[2, 2, 0, 0, 2] -> 16\n",
      "[0, 0, 2, 2, 1] -> 16\n",
      "[1, 0, 2, 0, 2] -> 15\n",
      "[0, 0, 1, 2, 1] -> 15\n",
      "[2, 1, 0, 2, 0] -> 15\n",
      "[1, 1, 1, 1, 0] -> 15\n",
      "[2, 0, 1, 0, 2] -> 13\n",
      "[0, 1, 0, 2, 1] -> 13\n",
      "[0, 1, 1, 0, 1] -> 13\n",
      "[2, 2, 1, 0, 0] -> 13\n",
      "[2, 0, 0, 2, 2] -> 12\n",
      "[2, 0, 0, 2, 1] -> 12\n",
      "[1, 0, 2, 2, 1] -> 12\n",
      "[0, 1, 0, 2, 2] -> 11\n",
      "[1, 1, 2, 0, 0] -> 11\n",
      "[2, 2, 0, 1, 0] -> 10\n",
      "[0, 2, 1, 2, 0] -> 10\n",
      "[0, 0, 2, 1, 1] -> 10\n",
      "[1, 2, 0, 1, 2] -> 9\n",
      "[1, 0, 2, 1, 1] -> 9\n",
      "[2, 2, 0, 0, 1] -> 9\n",
      "[2, 0, 1, 2, 0] -> 9\n",
      "[1, 2, 1, 1, 0] -> 9\n",
      "[2, 2, 0, 1, 1] -> 9\n",
      "[2, 2, 1, 1, 0] -> 8\n",
      "[0, 2, 1, 0, 2] -> 8\n",
      "[1, 0, 1, 1, 2] -> 8\n",
      "[2, 0, 2, 0, 1] -> 8\n",
      "[0, 2, 2, 2, 0] -> 7\n",
      "[2, 1, 0, 2, 2] -> 7\n",
      "[2, 0, 2, 2, 2] -> 7\n",
      "[2, 0, 0, 1, 2] -> 7\n",
      "[1, 1, 0, 2, 1] -> 6\n",
      "[0, 2, 1, 0, 1] -> 6\n",
      "[1, 0, 1, 2, 1] -> 6\n",
      "[0, 1, 1, 1, 1] -> 6\n",
      "[0, 1, 2, 1, 0] -> 6\n",
      "[2, 1, 0, 1, 1] -> 5\n",
      "[0, 2, 0, 2, 2] -> 5\n",
      "[1, 1, 0, 0, 2] -> 5\n",
      "[1, 1, 1, 0, 1] -> 5\n",
      "[2, 1, 1, 1, 0] -> 5\n",
      "[1, 2, 0, 2, 1] -> 4\n",
      "[2, 0, 1, 1, 2] -> 4\n",
      "[1, 2, 2, 2, 0] -> 4\n",
      "[1, 2, 2, 1, 0] -> 4\n",
      "[0, 2, 2, 0, 2] -> 4\n",
      "[1, 0, 2, 1, 2] -> 3\n",
      "[1, 1, 0, 1, 2] -> 3\n",
      "[2, 2, 2, 0, 0] -> 3\n",
      "[1, 1, 0, 2, 0] -> 3\n",
      "[0, 1, 1, 2, 2] -> 3\n",
      "[1, 1, 2, 1, 0] -> 3\n",
      "[0, 1, 2, 2, 0] -> 3\n",
      "[0, 2, 1, 1, 2] -> 2\n",
      "[0, 2, 2, 0, 1] -> 2\n",
      "[1, 1, 1, 2, 0] -> 2\n",
      "[2, 2, 1, 2, 0] -> 2\n",
      "[2, 1, 2, 0, 0] -> 2\n",
      "[2, 2, 0, 2, 0] -> 2\n",
      "[2, 0, 2, 1, 0] -> 2\n",
      "[1, 2, 1, 0, 1] -> 2\n",
      "[2, 0, 2, 1, 1] -> 1\n",
      "[2, 2, 2, 2, 0] -> 1\n",
      "[2, 1, 0, 2, 1] -> 1\n",
      "[2, 0, 1, 2, 1] -> 1\n",
      "[0, 2, 2, 1, 0] -> 1\n",
      "[2, 1, 1, 0, 2] -> 1\n",
      "[1, 1, 1, 1, 2] -> 1\n",
      "[2, 2, 2, 2, 2] -> 1\n",
      "[1, 1, 1, 0, 2] -> 1\n",
      "[1, 1, 1, 1, 1] -> 1\n",
      "[2, 0, 2, 2, 1] -> 1\n",
      "[0, 2, 2, 1, 2] -> 1\n",
      "[0, 1, 2, 1, 2] -> 1\n",
      "[0, 1, 2, 0, 2] -> 1\n",
      "[2, 2, 2, 0, 2] -> 1\n",
      "[0, 1, 2, 1, 1] -> 1\n",
      "[0, 1, 2, 0, 1] -> 1\n",
      "[2, 2, 0, 1, 2] -> 1\n",
      "[2, 0, 1, 2, 2] -> 1\n",
      "[1, 0, 0, 2, 2] -> 1\n",
      "[0, 1, 1, 2, 1] -> 1\n"
     ]
    }
   ],
   "source": [
    "for rval, count in x.items():\n",
    "    arr = integer_to_arr(rval)\n",
    "    print(f'{arr} -> {count}')"
   ]
  },
  {
   "cell_type": "code",
   "execution_count": 81,
   "id": "foster-salon",
   "metadata": {},
   "outputs": [
    {
     "data": {
      "text/plain": [
       "aahed    2543\n",
       "aalii    3890\n",
       "aargh    3955\n",
       "aarti    2609\n",
       "abaca    5655\n",
       "         ... \n",
       "zuzim    6081\n",
       "zygal    4070\n",
       "zygon    5081\n",
       "zymes    2113\n",
       "zymic    5269\n",
       "Length: 12972, dtype: int64"
      ]
     },
     "execution_count": 81,
     "metadata": {},
     "output_type": "execute_result"
    }
   ],
   "source": [
    "def get_worst_partition(row) -> int:\n",
    "    x = row.value_counts().to_dict()\n",
    "    m = max(x.values())\n",
    "    return m\n",
    "\n",
    "# apply function to each row\n",
    "df.apply(get_worst_partition, axis=1)"
   ]
  },
  {
   "cell_type": "code",
   "execution_count": 82,
   "id": "dirty-database",
   "metadata": {},
   "outputs": [],
   "source": [
    "part_df = _"
   ]
  },
  {
   "cell_type": "code",
   "execution_count": 89,
   "id": "attempted-tradition",
   "metadata": {},
   "outputs": [
    {
     "data": {
      "text/html": [
       "<div>\n",
       "<style scoped>\n",
       "    .dataframe tbody tr th:only-of-type {\n",
       "        vertical-align: middle;\n",
       "    }\n",
       "\n",
       "    .dataframe tbody tr th {\n",
       "        vertical-align: top;\n",
       "    }\n",
       "\n",
       "    .dataframe thead th {\n",
       "        text-align: right;\n",
       "    }\n",
       "</style>\n",
       "<table border=\"1\" class=\"dataframe\">\n",
       "  <thead>\n",
       "    <tr style=\"text-align: right;\">\n",
       "      <th></th>\n",
       "      <th>worst_partition</th>\n",
       "    </tr>\n",
       "  </thead>\n",
       "  <tbody>\n",
       "    <tr>\n",
       "      <th>aahed</th>\n",
       "      <td>2543</td>\n",
       "    </tr>\n",
       "    <tr>\n",
       "      <th>aalii</th>\n",
       "      <td>3890</td>\n",
       "    </tr>\n",
       "    <tr>\n",
       "      <th>aargh</th>\n",
       "      <td>3955</td>\n",
       "    </tr>\n",
       "    <tr>\n",
       "      <th>aarti</th>\n",
       "      <td>2609</td>\n",
       "    </tr>\n",
       "    <tr>\n",
       "      <th>abaca</th>\n",
       "      <td>5655</td>\n",
       "    </tr>\n",
       "    <tr>\n",
       "      <th>...</th>\n",
       "      <td>...</td>\n",
       "    </tr>\n",
       "    <tr>\n",
       "      <th>zuzim</th>\n",
       "      <td>6081</td>\n",
       "    </tr>\n",
       "    <tr>\n",
       "      <th>zygal</th>\n",
       "      <td>4070</td>\n",
       "    </tr>\n",
       "    <tr>\n",
       "      <th>zygon</th>\n",
       "      <td>5081</td>\n",
       "    </tr>\n",
       "    <tr>\n",
       "      <th>zymes</th>\n",
       "      <td>2113</td>\n",
       "    </tr>\n",
       "    <tr>\n",
       "      <th>zymic</th>\n",
       "      <td>5269</td>\n",
       "    </tr>\n",
       "  </tbody>\n",
       "</table>\n",
       "<p>12972 rows × 1 columns</p>\n",
       "</div>"
      ],
      "text/plain": [
       "       worst_partition\n",
       "aahed             2543\n",
       "aalii             3890\n",
       "aargh             3955\n",
       "aarti             2609\n",
       "abaca             5655\n",
       "...                ...\n",
       "zuzim             6081\n",
       "zygal             4070\n",
       "zygon             5081\n",
       "zymes             2113\n",
       "zymic             5269\n",
       "\n",
       "[12972 rows x 1 columns]"
      ]
     },
     "execution_count": 89,
     "metadata": {},
     "output_type": "execute_result"
    }
   ],
   "source": [
    "part_df = pd.DataFrame(part_df, columns=['worst_partition'])\n",
    "part_df"
   ]
  },
  {
   "cell_type": "code",
   "execution_count": 90,
   "id": "delayed-communist",
   "metadata": {},
   "outputs": [
    {
     "data": {
      "text/plain": [
       "697"
      ]
     },
     "execution_count": 90,
     "metadata": {},
     "output_type": "execute_result"
    }
   ],
   "source": [
    "part_df.worst_partition.min()"
   ]
  },
  {
   "cell_type": "code",
   "execution_count": 93,
   "id": "legislative-index",
   "metadata": {},
   "outputs": [
    {
     "data": {
      "text/html": [
       "<div>\n",
       "<style scoped>\n",
       "    .dataframe tbody tr th:only-of-type {\n",
       "        vertical-align: middle;\n",
       "    }\n",
       "\n",
       "    .dataframe tbody tr th {\n",
       "        vertical-align: top;\n",
       "    }\n",
       "\n",
       "    .dataframe thead th {\n",
       "        text-align: right;\n",
       "    }\n",
       "</style>\n",
       "<table border=\"1\" class=\"dataframe\">\n",
       "  <thead>\n",
       "    <tr style=\"text-align: right;\">\n",
       "      <th></th>\n",
       "      <th>worst_partition</th>\n",
       "    </tr>\n",
       "  </thead>\n",
       "  <tbody>\n",
       "    <tr>\n",
       "      <th>serai</th>\n",
       "      <td>697</td>\n",
       "    </tr>\n",
       "  </tbody>\n",
       "</table>\n",
       "</div>"
      ],
      "text/plain": [
       "       worst_partition\n",
       "serai              697"
      ]
     },
     "execution_count": 93,
     "metadata": {},
     "output_type": "execute_result"
    }
   ],
   "source": [
    "part_df[part_df.worst_partition == 697]"
   ]
  },
  {
   "cell_type": "code",
   "execution_count": 96,
   "id": "apart-geography",
   "metadata": {},
   "outputs": [
    {
     "data": {
      "text/plain": [
       "worst_partition    2.451937\n",
       "Name: adieu, dtype: float64"
      ]
     },
     "execution_count": 96,
     "metadata": {},
     "output_type": "execute_result"
    }
   ],
   "source": [
    "part_df.loc['adieu'] / 697"
   ]
  },
  {
   "cell_type": "code",
   "execution_count": 97,
   "id": "proper-concentrate",
   "metadata": {},
   "outputs": [
    {
     "data": {
      "text/plain": [
       "worst_partition    1.265423\n",
       "Name: arise, dtype: float64"
      ]
     },
     "execution_count": 97,
     "metadata": {},
     "output_type": "execute_result"
    }
   ],
   "source": [
    "part_df.loc['arise'] / 697"
   ]
  },
  {
   "cell_type": "code",
   "execution_count": 99,
   "id": "unlikely-arrival",
   "metadata": {},
   "outputs": [],
   "source": [
    "fp = open('../data-parsed/solver-eval.json', 'r')\n",
    "import json\n",
    "d = json.load(fp)\n",
    "fp.close()\n",
    "\n",
    "fp = open('../data-parsed/solver-eval.json', 'w')\n",
    "json.dump(d, fp, indent=4, sort_keys=True)\n",
    "fp.close()"
   ]
  },
  {
   "cell_type": "code",
   "execution_count": null,
   "id": "aggressive-injection",
   "metadata": {},
   "outputs": [],
   "source": []
  }
 ],
 "metadata": {
  "kernelspec": {
   "display_name": "Python 3",
   "language": "python",
   "name": "python3"
  },
  "language_info": {
   "codemirror_mode": {
    "name": "ipython",
    "version": 3
   },
   "file_extension": ".py",
   "mimetype": "text/x-python",
   "name": "python",
   "nbconvert_exporter": "python",
   "pygments_lexer": "ipython3",
   "version": "3.8.5"
  }
 },
 "nbformat": 4,
 "nbformat_minor": 5
}
