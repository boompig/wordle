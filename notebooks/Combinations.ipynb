{
 "cells": [
  {
   "cell_type": "markdown",
   "id": "convertible-blocking",
   "metadata": {},
   "source": [
    "# Computing the Optimal First Word"
   ]
  },
  {
   "cell_type": "code",
   "execution_count": 30,
   "id": "backed-bridge",
   "metadata": {},
   "outputs": [],
   "source": [
    "# we have to use some previous code\n",
    "import sys\n",
    "sys.path.append('..')"
   ]
  },
  {
   "cell_type": "code",
   "execution_count": 2,
   "id": "minute-sender",
   "metadata": {},
   "outputs": [],
   "source": [
    "# make sure we reload the code\n",
    "%load_ext autoreload\n",
    "%autoreload 2"
   ]
  },
  {
   "cell_type": "code",
   "execution_count": 36,
   "id": "amended-creation",
   "metadata": {},
   "outputs": [],
   "source": [
    "# helpful utilities\n",
    "from parse_data import read_parsed_words, DEFAULT_PARSED_WORDS_FILE\n",
    "from play import UNSAFE_eval_guess, eval_guess"
   ]
  },
  {
   "cell_type": "code",
   "execution_count": 37,
   "id": "entire-architect",
   "metadata": {},
   "outputs": [
    {
     "name": "stdout",
     "output_type": "stream",
     "text": [
      "Loaded 12972 words\n"
     ]
    }
   ],
   "source": [
    "words = read_parsed_words()\n",
    "print(f'Loaded {len(words)} words')"
   ]
  },
  {
   "cell_type": "code",
   "execution_count": 8,
   "id": "retained-constraint",
   "metadata": {},
   "outputs": [],
   "source": [
    "from tqdm import tqdm\n",
    "import itertools"
   ]
  },
  {
   "cell_type": "markdown",
   "id": "ultimate-battlefield",
   "metadata": {},
   "source": [
    "## Creating the possibility matrix"
   ]
  },
  {
   "cell_type": "code",
   "execution_count": 9,
   "id": "brown-guess",
   "metadata": {},
   "outputs": [
    {
     "name": "stdout",
     "output_type": "stream",
     "text": [
      "# combinations of all words = 168,272,784\n"
     ]
    }
   ],
   "source": [
    "num_combos = len(words) * len(words)\n",
    "print(f'# combinations of all words = {num_combos:,}')"
   ]
  },
  {
   "cell_type": "code",
   "execution_count": 10,
   "id": "raising-constraint",
   "metadata": {},
   "outputs": [],
   "source": [
    "from possibilities_table import array_to_integer"
   ]
  },
  {
   "cell_type": "code",
   "execution_count": 11,
   "id": "injured-gamma",
   "metadata": {},
   "outputs": [
    {
     "name": "stdout",
     "output_type": "stream",
     "text": [
      "Shape of the matrix: (12972, 12972)\n",
      "Matrix entry type: uint8\n"
     ]
    }
   ],
   "source": [
    "# create the table of possible outcomes\n",
    "\n",
    "import numpy as np\n",
    "from typing import Tuple\n",
    "\n",
    "num_words = len(words)\n",
    "\n",
    "word_range_1 = np.arange(num_words)\n",
    "word_range_2 = np.arange(num_words)\n",
    "\n",
    "# create an nxn matrix\n",
    "# each entry will be an unsigned 32-bit integer\n",
    "# the row will denote the index of the guessing word\n",
    "# the column will denote the index of the answer word\n",
    "# to be honest, we could have done 16-bit and saved some space\n",
    "table = np.empty(shape=(num_words, num_words), dtype='uint8')\n",
    "\n",
    "print(f'Shape of the matrix: {table.shape}')\n",
    "print(f'Matrix entry type: {table.dtype}')"
   ]
  },
  {
   "cell_type": "code",
   "execution_count": 12,
   "id": "sharp-wildlife",
   "metadata": {},
   "outputs": [],
   "source": [
    "# fill out one entry in the matrix\n",
    "\n",
    "def f_eval_guess(guess_i: int, answer_i: int) -> int:\n",
    "    guess = words[guess_i]\n",
    "    answer = words[answer_i]\n",
    "    rval = UNSAFE_eval_guess(guess=guess, answer=answer)\n",
    "    # the numbers are guaranteed to be 0, 1, 2\n",
    "    return array_to_integer(rval)"
   ]
  },
  {
   "cell_type": "code",
   "execution_count": 31,
   "id": "disturbed-reproduction",
   "metadata": {},
   "outputs": [
    {
     "name": "stderr",
     "output_type": "stream",
     "text": [
      "168272784it [08:26, 332052.26it/s]\n"
     ]
    }
   ],
   "source": [
    "# there is probably a more efficient numpy way to create this matrix\n",
    "# but this is fast enough\n",
    "\n",
    "combos = itertools.product(word_range_1, word_range_2)\n",
    "\n",
    "for guess_i, answer_i in tqdm(combos):\n",
    "    table[guess_i, answer_i] = f_eval_guess(guess_i, answer_i)\n"
   ]
  },
  {
   "cell_type": "code",
   "execution_count": 31,
   "id": "talented-tunnel",
   "metadata": {},
   "outputs": [],
   "source": [
    "from possibilities_table import TABLE_PATH"
   ]
  },
  {
   "cell_type": "code",
   "execution_count": 32,
   "id": "occupied-injection",
   "metadata": {},
   "outputs": [],
   "source": [
    "# now save this matrix of hard-won computation\n",
    "\n",
    "np.save(TABLE_PATH, table)"
   ]
  },
  {
   "cell_type": "code",
   "execution_count": 14,
   "id": "incident-benefit",
   "metadata": {},
   "outputs": [],
   "source": [
    "# NOTE: for the blog post, this computation took about 8 minutes on a fairly old laptop\n",
    "# I am sure there is a more efficient way to do it, but why?"
   ]
  },
  {
   "cell_type": "markdown",
   "id": "reflected-letters",
   "metadata": {},
   "source": [
    "## Shrinking the Possibilities Matrix"
   ]
  },
  {
   "cell_type": "code",
   "execution_count": 19,
   "id": "aggressive-diabetes",
   "metadata": {},
   "outputs": [],
   "source": [
    "import pandas as pd"
   ]
  },
  {
   "cell_type": "code",
   "execution_count": 15,
   "id": "adopted-booth",
   "metadata": {},
   "outputs": [],
   "source": [
    "table = np.load(TABLE_PATH)"
   ]
  },
  {
   "cell_type": "code",
   "execution_count": 16,
   "id": "composed-laser",
   "metadata": {},
   "outputs": [
    {
     "data": {
      "text/plain": [
       "(12972, 12972)"
      ]
     },
     "execution_count": 16,
     "metadata": {},
     "output_type": "execute_result"
    }
   ],
   "source": [
    "table.shape"
   ]
  },
  {
   "cell_type": "code",
   "execution_count": 17,
   "id": "least-invitation",
   "metadata": {},
   "outputs": [
    {
     "data": {
      "text/plain": [
       "dtype('uint8')"
      ]
     },
     "execution_count": 17,
     "metadata": {},
     "output_type": "execute_result"
    }
   ],
   "source": [
    "table.dtype"
   ]
  },
  {
   "cell_type": "code",
   "execution_count": 20,
   "id": "prescribed-grace",
   "metadata": {},
   "outputs": [
    {
     "data": {
      "text/html": [
       "<div>\n",
       "<style scoped>\n",
       "    .dataframe tbody tr th:only-of-type {\n",
       "        vertical-align: middle;\n",
       "    }\n",
       "\n",
       "    .dataframe tbody tr th {\n",
       "        vertical-align: top;\n",
       "    }\n",
       "\n",
       "    .dataframe thead th {\n",
       "        text-align: right;\n",
       "    }\n",
       "</style>\n",
       "<table border=\"1\" class=\"dataframe\">\n",
       "  <thead>\n",
       "    <tr style=\"text-align: right;\">\n",
       "      <th></th>\n",
       "      <th>aahed</th>\n",
       "      <th>aalii</th>\n",
       "      <th>aargh</th>\n",
       "      <th>aarti</th>\n",
       "      <th>abaca</th>\n",
       "      <th>abaci</th>\n",
       "      <th>aback</th>\n",
       "      <th>abacs</th>\n",
       "      <th>abaft</th>\n",
       "      <th>abaka</th>\n",
       "      <th>...</th>\n",
       "      <th>zulus</th>\n",
       "      <th>zupan</th>\n",
       "      <th>zupas</th>\n",
       "      <th>zuppa</th>\n",
       "      <th>zurfs</th>\n",
       "      <th>zuzim</th>\n",
       "      <th>zygal</th>\n",
       "      <th>zygon</th>\n",
       "      <th>zymes</th>\n",
       "      <th>zymic</th>\n",
       "    </tr>\n",
       "  </thead>\n",
       "  <tbody>\n",
       "    <tr>\n",
       "      <th>aahed</th>\n",
       "      <td>242</td>\n",
       "      <td>8</td>\n",
       "      <td>17</td>\n",
       "      <td>8</td>\n",
       "      <td>5</td>\n",
       "      <td>5</td>\n",
       "      <td>5</td>\n",
       "      <td>5</td>\n",
       "      <td>5</td>\n",
       "      <td>5</td>\n",
       "      <td>...</td>\n",
       "      <td>0</td>\n",
       "      <td>4</td>\n",
       "      <td>4</td>\n",
       "      <td>4</td>\n",
       "      <td>0</td>\n",
       "      <td>0</td>\n",
       "      <td>4</td>\n",
       "      <td>0</td>\n",
       "      <td>54</td>\n",
       "      <td>0</td>\n",
       "    </tr>\n",
       "    <tr>\n",
       "      <th>aalii</th>\n",
       "      <td>8</td>\n",
       "      <td>242</td>\n",
       "      <td>8</td>\n",
       "      <td>197</td>\n",
       "      <td>5</td>\n",
       "      <td>194</td>\n",
       "      <td>5</td>\n",
       "      <td>5</td>\n",
       "      <td>5</td>\n",
       "      <td>5</td>\n",
       "      <td>...</td>\n",
       "      <td>18</td>\n",
       "      <td>4</td>\n",
       "      <td>4</td>\n",
       "      <td>4</td>\n",
       "      <td>0</td>\n",
       "      <td>135</td>\n",
       "      <td>13</td>\n",
       "      <td>0</td>\n",
       "      <td>0</td>\n",
       "      <td>135</td>\n",
       "    </tr>\n",
       "    <tr>\n",
       "      <th>aargh</th>\n",
       "      <td>89</td>\n",
       "      <td>8</td>\n",
       "      <td>242</td>\n",
       "      <td>26</td>\n",
       "      <td>5</td>\n",
       "      <td>5</td>\n",
       "      <td>5</td>\n",
       "      <td>5</td>\n",
       "      <td>5</td>\n",
       "      <td>5</td>\n",
       "      <td>...</td>\n",
       "      <td>0</td>\n",
       "      <td>4</td>\n",
       "      <td>4</td>\n",
       "      <td>4</td>\n",
       "      <td>18</td>\n",
       "      <td>0</td>\n",
       "      <td>31</td>\n",
       "      <td>27</td>\n",
       "      <td>0</td>\n",
       "      <td>0</td>\n",
       "    </tr>\n",
       "    <tr>\n",
       "      <th>aarti</th>\n",
       "      <td>8</td>\n",
       "      <td>170</td>\n",
       "      <td>26</td>\n",
       "      <td>242</td>\n",
       "      <td>5</td>\n",
       "      <td>167</td>\n",
       "      <td>5</td>\n",
       "      <td>5</td>\n",
       "      <td>32</td>\n",
       "      <td>5</td>\n",
       "      <td>...</td>\n",
       "      <td>0</td>\n",
       "      <td>4</td>\n",
       "      <td>4</td>\n",
       "      <td>4</td>\n",
       "      <td>18</td>\n",
       "      <td>81</td>\n",
       "      <td>4</td>\n",
       "      <td>0</td>\n",
       "      <td>0</td>\n",
       "      <td>81</td>\n",
       "    </tr>\n",
       "    <tr>\n",
       "      <th>abaca</th>\n",
       "      <td>92</td>\n",
       "      <td>92</td>\n",
       "      <td>92</td>\n",
       "      <td>92</td>\n",
       "      <td>242</td>\n",
       "      <td>161</td>\n",
       "      <td>161</td>\n",
       "      <td>161</td>\n",
       "      <td>107</td>\n",
       "      <td>188</td>\n",
       "      <td>...</td>\n",
       "      <td>0</td>\n",
       "      <td>91</td>\n",
       "      <td>91</td>\n",
       "      <td>172</td>\n",
       "      <td>0</td>\n",
       "      <td>0</td>\n",
       "      <td>91</td>\n",
       "      <td>0</td>\n",
       "      <td>0</td>\n",
       "      <td>27</td>\n",
       "    </tr>\n",
       "    <tr>\n",
       "      <th>...</th>\n",
       "      <td>...</td>\n",
       "      <td>...</td>\n",
       "      <td>...</td>\n",
       "      <td>...</td>\n",
       "      <td>...</td>\n",
       "      <td>...</td>\n",
       "      <td>...</td>\n",
       "      <td>...</td>\n",
       "      <td>...</td>\n",
       "      <td>...</td>\n",
       "      <td>...</td>\n",
       "      <td>...</td>\n",
       "      <td>...</td>\n",
       "      <td>...</td>\n",
       "      <td>...</td>\n",
       "      <td>...</td>\n",
       "      <td>...</td>\n",
       "      <td>...</td>\n",
       "      <td>...</td>\n",
       "      <td>...</td>\n",
       "      <td>...</td>\n",
       "    </tr>\n",
       "    <tr>\n",
       "      <th>zuzim</th>\n",
       "      <td>0</td>\n",
       "      <td>54</td>\n",
       "      <td>0</td>\n",
       "      <td>27</td>\n",
       "      <td>0</td>\n",
       "      <td>27</td>\n",
       "      <td>0</td>\n",
       "      <td>0</td>\n",
       "      <td>0</td>\n",
       "      <td>0</td>\n",
       "      <td>...</td>\n",
       "      <td>17</td>\n",
       "      <td>17</td>\n",
       "      <td>17</td>\n",
       "      <td>17</td>\n",
       "      <td>17</td>\n",
       "      <td>242</td>\n",
       "      <td>11</td>\n",
       "      <td>11</td>\n",
       "      <td>92</td>\n",
       "      <td>146</td>\n",
       "    </tr>\n",
       "    <tr>\n",
       "      <th>zygal</th>\n",
       "      <td>27</td>\n",
       "      <td>108</td>\n",
       "      <td>36</td>\n",
       "      <td>27</td>\n",
       "      <td>27</td>\n",
       "      <td>27</td>\n",
       "      <td>27</td>\n",
       "      <td>27</td>\n",
       "      <td>27</td>\n",
       "      <td>27</td>\n",
       "      <td>...</td>\n",
       "      <td>83</td>\n",
       "      <td>56</td>\n",
       "      <td>56</td>\n",
       "      <td>29</td>\n",
       "      <td>2</td>\n",
       "      <td>2</td>\n",
       "      <td>242</td>\n",
       "      <td>26</td>\n",
       "      <td>8</td>\n",
       "      <td>8</td>\n",
       "    </tr>\n",
       "    <tr>\n",
       "      <th>zygon</th>\n",
       "      <td>0</td>\n",
       "      <td>0</td>\n",
       "      <td>9</td>\n",
       "      <td>0</td>\n",
       "      <td>0</td>\n",
       "      <td>0</td>\n",
       "      <td>0</td>\n",
       "      <td>0</td>\n",
       "      <td>0</td>\n",
       "      <td>0</td>\n",
       "      <td>...</td>\n",
       "      <td>2</td>\n",
       "      <td>164</td>\n",
       "      <td>2</td>\n",
       "      <td>2</td>\n",
       "      <td>2</td>\n",
       "      <td>2</td>\n",
       "      <td>26</td>\n",
       "      <td>242</td>\n",
       "      <td>8</td>\n",
       "      <td>8</td>\n",
       "    </tr>\n",
       "    <tr>\n",
       "      <th>zymes</th>\n",
       "      <td>54</td>\n",
       "      <td>0</td>\n",
       "      <td>0</td>\n",
       "      <td>0</td>\n",
       "      <td>0</td>\n",
       "      <td>0</td>\n",
       "      <td>0</td>\n",
       "      <td>162</td>\n",
       "      <td>0</td>\n",
       "      <td>0</td>\n",
       "      <td>...</td>\n",
       "      <td>164</td>\n",
       "      <td>2</td>\n",
       "      <td>164</td>\n",
       "      <td>2</td>\n",
       "      <td>164</td>\n",
       "      <td>11</td>\n",
       "      <td>8</td>\n",
       "      <td>8</td>\n",
       "      <td>242</td>\n",
       "      <td>26</td>\n",
       "    </tr>\n",
       "    <tr>\n",
       "      <th>zymic</th>\n",
       "      <td>0</td>\n",
       "      <td>54</td>\n",
       "      <td>0</td>\n",
       "      <td>27</td>\n",
       "      <td>81</td>\n",
       "      <td>108</td>\n",
       "      <td>81</td>\n",
       "      <td>81</td>\n",
       "      <td>0</td>\n",
       "      <td>0</td>\n",
       "      <td>...</td>\n",
       "      <td>2</td>\n",
       "      <td>2</td>\n",
       "      <td>2</td>\n",
       "      <td>2</td>\n",
       "      <td>2</td>\n",
       "      <td>65</td>\n",
       "      <td>8</td>\n",
       "      <td>8</td>\n",
       "      <td>26</td>\n",
       "      <td>242</td>\n",
       "    </tr>\n",
       "  </tbody>\n",
       "</table>\n",
       "<p>12972 rows × 12972 columns</p>\n",
       "</div>"
      ],
      "text/plain": [
       "       aahed  aalii  aargh  aarti  abaca  abaci  aback  abacs  abaft  abaka  \\\n",
       "aahed    242      8     17      8      5      5      5      5      5      5   \n",
       "aalii      8    242      8    197      5    194      5      5      5      5   \n",
       "aargh     89      8    242     26      5      5      5      5      5      5   \n",
       "aarti      8    170     26    242      5    167      5      5     32      5   \n",
       "abaca     92     92     92     92    242    161    161    161    107    188   \n",
       "...      ...    ...    ...    ...    ...    ...    ...    ...    ...    ...   \n",
       "zuzim      0     54      0     27      0     27      0      0      0      0   \n",
       "zygal     27    108     36     27     27     27     27     27     27     27   \n",
       "zygon      0      0      9      0      0      0      0      0      0      0   \n",
       "zymes     54      0      0      0      0      0      0    162      0      0   \n",
       "zymic      0     54      0     27     81    108     81     81      0      0   \n",
       "\n",
       "       ...  zulus  zupan  zupas  zuppa  zurfs  zuzim  zygal  zygon  zymes  \\\n",
       "aahed  ...      0      4      4      4      0      0      4      0     54   \n",
       "aalii  ...     18      4      4      4      0    135     13      0      0   \n",
       "aargh  ...      0      4      4      4     18      0     31     27      0   \n",
       "aarti  ...      0      4      4      4     18     81      4      0      0   \n",
       "abaca  ...      0     91     91    172      0      0     91      0      0   \n",
       "...    ...    ...    ...    ...    ...    ...    ...    ...    ...    ...   \n",
       "zuzim  ...     17     17     17     17     17    242     11     11     92   \n",
       "zygal  ...     83     56     56     29      2      2    242     26      8   \n",
       "zygon  ...      2    164      2      2      2      2     26    242      8   \n",
       "zymes  ...    164      2    164      2    164     11      8      8    242   \n",
       "zymic  ...      2      2      2      2      2     65      8      8     26   \n",
       "\n",
       "       zymic  \n",
       "aahed      0  \n",
       "aalii    135  \n",
       "aargh      0  \n",
       "aarti     81  \n",
       "abaca     27  \n",
       "...      ...  \n",
       "zuzim    146  \n",
       "zygal      8  \n",
       "zygon      8  \n",
       "zymes     26  \n",
       "zymic    242  \n",
       "\n",
       "[12972 rows x 12972 columns]"
      ]
     },
     "execution_count": 20,
     "metadata": {},
     "output_type": "execute_result"
    }
   ],
   "source": [
    "df = pd.DataFrame(table, index=words, columns=words)\n",
    "df"
   ]
  },
  {
   "cell_type": "code",
   "execution_count": 77,
   "id": "saved-gnome",
   "metadata": {},
   "outputs": [],
   "source": [
    "# save to parquet-gzip to save space\n",
    "df.to_parquet(\n",
    "    '../data-parsed/possibilities-table-base-3.parquet.gzip',\n",
    "    engine='pyarrow',\n",
    "    compression='gzip',\n",
    "    index=False,\n",
    ")"
   ]
  },
  {
   "cell_type": "markdown",
   "id": "possible-application",
   "metadata": {},
   "source": [
    "## Evaluating the First Word Candidates\n",
    "\n"
   ]
  },
  {
   "cell_type": "code",
   "execution_count": 32,
   "id": "standing-jacob",
   "metadata": {},
   "outputs": [],
   "source": [
    "import numpy as np\n",
    "import pandas as pd"
   ]
  },
  {
   "cell_type": "code",
   "execution_count": 33,
   "id": "african-blackjack",
   "metadata": {},
   "outputs": [
    {
     "name": "stdout",
     "output_type": "stream",
     "text": [
      "(12972, 12972)\n",
      "uint8\n"
     ]
    }
   ],
   "source": [
    "table = np.load(TABLE_PATH)\n",
    "print(table.shape)\n",
    "print(table.dtype)"
   ]
  },
  {
   "cell_type": "code",
   "execution_count": 23,
   "id": "processed-physiology",
   "metadata": {},
   "outputs": [
    {
     "data": {
      "text/plain": [
       "False"
      ]
     },
     "execution_count": 23,
     "metadata": {},
     "output_type": "execute_result"
    }
   ],
   "source": [
    "# is our matrix symmetric?\n",
    "# no, because positioning matters in the way we calculate the values (unfortunately)\n",
    "# if I could do it again, I might use a different value system that is invariant to that\n",
    "\n",
    "np.allclose(table, table.T, rtol=1e-1, atol=1e-1)"
   ]
  },
  {
   "cell_type": "code",
   "execution_count": 38,
   "id": "divided-furniture",
   "metadata": {},
   "outputs": [
    {
     "data": {
      "text/html": [
       "<div>\n",
       "<style scoped>\n",
       "    .dataframe tbody tr th:only-of-type {\n",
       "        vertical-align: middle;\n",
       "    }\n",
       "\n",
       "    .dataframe tbody tr th {\n",
       "        vertical-align: top;\n",
       "    }\n",
       "\n",
       "    .dataframe thead th {\n",
       "        text-align: right;\n",
       "    }\n",
       "</style>\n",
       "<table border=\"1\" class=\"dataframe\">\n",
       "  <thead>\n",
       "    <tr style=\"text-align: right;\">\n",
       "      <th></th>\n",
       "      <th>aahed</th>\n",
       "      <th>aalii</th>\n",
       "      <th>aargh</th>\n",
       "      <th>aarti</th>\n",
       "      <th>abaca</th>\n",
       "      <th>abaci</th>\n",
       "      <th>aback</th>\n",
       "      <th>abacs</th>\n",
       "      <th>abaft</th>\n",
       "      <th>abaka</th>\n",
       "      <th>...</th>\n",
       "      <th>zulus</th>\n",
       "      <th>zupan</th>\n",
       "      <th>zupas</th>\n",
       "      <th>zuppa</th>\n",
       "      <th>zurfs</th>\n",
       "      <th>zuzim</th>\n",
       "      <th>zygal</th>\n",
       "      <th>zygon</th>\n",
       "      <th>zymes</th>\n",
       "      <th>zymic</th>\n",
       "    </tr>\n",
       "  </thead>\n",
       "  <tbody>\n",
       "    <tr>\n",
       "      <th>aahed</th>\n",
       "      <td>242</td>\n",
       "      <td>8</td>\n",
       "      <td>17</td>\n",
       "      <td>8</td>\n",
       "      <td>5</td>\n",
       "      <td>5</td>\n",
       "      <td>5</td>\n",
       "      <td>5</td>\n",
       "      <td>5</td>\n",
       "      <td>5</td>\n",
       "      <td>...</td>\n",
       "      <td>0</td>\n",
       "      <td>4</td>\n",
       "      <td>4</td>\n",
       "      <td>4</td>\n",
       "      <td>0</td>\n",
       "      <td>0</td>\n",
       "      <td>4</td>\n",
       "      <td>0</td>\n",
       "      <td>54</td>\n",
       "      <td>0</td>\n",
       "    </tr>\n",
       "    <tr>\n",
       "      <th>aalii</th>\n",
       "      <td>8</td>\n",
       "      <td>242</td>\n",
       "      <td>8</td>\n",
       "      <td>197</td>\n",
       "      <td>5</td>\n",
       "      <td>194</td>\n",
       "      <td>5</td>\n",
       "      <td>5</td>\n",
       "      <td>5</td>\n",
       "      <td>5</td>\n",
       "      <td>...</td>\n",
       "      <td>18</td>\n",
       "      <td>4</td>\n",
       "      <td>4</td>\n",
       "      <td>4</td>\n",
       "      <td>0</td>\n",
       "      <td>135</td>\n",
       "      <td>13</td>\n",
       "      <td>0</td>\n",
       "      <td>0</td>\n",
       "      <td>135</td>\n",
       "    </tr>\n",
       "    <tr>\n",
       "      <th>aargh</th>\n",
       "      <td>89</td>\n",
       "      <td>8</td>\n",
       "      <td>242</td>\n",
       "      <td>26</td>\n",
       "      <td>5</td>\n",
       "      <td>5</td>\n",
       "      <td>5</td>\n",
       "      <td>5</td>\n",
       "      <td>5</td>\n",
       "      <td>5</td>\n",
       "      <td>...</td>\n",
       "      <td>0</td>\n",
       "      <td>4</td>\n",
       "      <td>4</td>\n",
       "      <td>4</td>\n",
       "      <td>18</td>\n",
       "      <td>0</td>\n",
       "      <td>31</td>\n",
       "      <td>27</td>\n",
       "      <td>0</td>\n",
       "      <td>0</td>\n",
       "    </tr>\n",
       "    <tr>\n",
       "      <th>aarti</th>\n",
       "      <td>8</td>\n",
       "      <td>170</td>\n",
       "      <td>26</td>\n",
       "      <td>242</td>\n",
       "      <td>5</td>\n",
       "      <td>167</td>\n",
       "      <td>5</td>\n",
       "      <td>5</td>\n",
       "      <td>32</td>\n",
       "      <td>5</td>\n",
       "      <td>...</td>\n",
       "      <td>0</td>\n",
       "      <td>4</td>\n",
       "      <td>4</td>\n",
       "      <td>4</td>\n",
       "      <td>18</td>\n",
       "      <td>81</td>\n",
       "      <td>4</td>\n",
       "      <td>0</td>\n",
       "      <td>0</td>\n",
       "      <td>81</td>\n",
       "    </tr>\n",
       "    <tr>\n",
       "      <th>abaca</th>\n",
       "      <td>92</td>\n",
       "      <td>92</td>\n",
       "      <td>92</td>\n",
       "      <td>92</td>\n",
       "      <td>242</td>\n",
       "      <td>161</td>\n",
       "      <td>161</td>\n",
       "      <td>161</td>\n",
       "      <td>107</td>\n",
       "      <td>188</td>\n",
       "      <td>...</td>\n",
       "      <td>0</td>\n",
       "      <td>91</td>\n",
       "      <td>91</td>\n",
       "      <td>172</td>\n",
       "      <td>0</td>\n",
       "      <td>0</td>\n",
       "      <td>91</td>\n",
       "      <td>0</td>\n",
       "      <td>0</td>\n",
       "      <td>27</td>\n",
       "    </tr>\n",
       "    <tr>\n",
       "      <th>...</th>\n",
       "      <td>...</td>\n",
       "      <td>...</td>\n",
       "      <td>...</td>\n",
       "      <td>...</td>\n",
       "      <td>...</td>\n",
       "      <td>...</td>\n",
       "      <td>...</td>\n",
       "      <td>...</td>\n",
       "      <td>...</td>\n",
       "      <td>...</td>\n",
       "      <td>...</td>\n",
       "      <td>...</td>\n",
       "      <td>...</td>\n",
       "      <td>...</td>\n",
       "      <td>...</td>\n",
       "      <td>...</td>\n",
       "      <td>...</td>\n",
       "      <td>...</td>\n",
       "      <td>...</td>\n",
       "      <td>...</td>\n",
       "      <td>...</td>\n",
       "    </tr>\n",
       "    <tr>\n",
       "      <th>zuzim</th>\n",
       "      <td>0</td>\n",
       "      <td>54</td>\n",
       "      <td>0</td>\n",
       "      <td>27</td>\n",
       "      <td>0</td>\n",
       "      <td>27</td>\n",
       "      <td>0</td>\n",
       "      <td>0</td>\n",
       "      <td>0</td>\n",
       "      <td>0</td>\n",
       "      <td>...</td>\n",
       "      <td>17</td>\n",
       "      <td>17</td>\n",
       "      <td>17</td>\n",
       "      <td>17</td>\n",
       "      <td>17</td>\n",
       "      <td>242</td>\n",
       "      <td>11</td>\n",
       "      <td>11</td>\n",
       "      <td>92</td>\n",
       "      <td>146</td>\n",
       "    </tr>\n",
       "    <tr>\n",
       "      <th>zygal</th>\n",
       "      <td>27</td>\n",
       "      <td>108</td>\n",
       "      <td>36</td>\n",
       "      <td>27</td>\n",
       "      <td>27</td>\n",
       "      <td>27</td>\n",
       "      <td>27</td>\n",
       "      <td>27</td>\n",
       "      <td>27</td>\n",
       "      <td>27</td>\n",
       "      <td>...</td>\n",
       "      <td>83</td>\n",
       "      <td>56</td>\n",
       "      <td>56</td>\n",
       "      <td>29</td>\n",
       "      <td>2</td>\n",
       "      <td>2</td>\n",
       "      <td>242</td>\n",
       "      <td>26</td>\n",
       "      <td>8</td>\n",
       "      <td>8</td>\n",
       "    </tr>\n",
       "    <tr>\n",
       "      <th>zygon</th>\n",
       "      <td>0</td>\n",
       "      <td>0</td>\n",
       "      <td>9</td>\n",
       "      <td>0</td>\n",
       "      <td>0</td>\n",
       "      <td>0</td>\n",
       "      <td>0</td>\n",
       "      <td>0</td>\n",
       "      <td>0</td>\n",
       "      <td>0</td>\n",
       "      <td>...</td>\n",
       "      <td>2</td>\n",
       "      <td>164</td>\n",
       "      <td>2</td>\n",
       "      <td>2</td>\n",
       "      <td>2</td>\n",
       "      <td>2</td>\n",
       "      <td>26</td>\n",
       "      <td>242</td>\n",
       "      <td>8</td>\n",
       "      <td>8</td>\n",
       "    </tr>\n",
       "    <tr>\n",
       "      <th>zymes</th>\n",
       "      <td>54</td>\n",
       "      <td>0</td>\n",
       "      <td>0</td>\n",
       "      <td>0</td>\n",
       "      <td>0</td>\n",
       "      <td>0</td>\n",
       "      <td>0</td>\n",
       "      <td>162</td>\n",
       "      <td>0</td>\n",
       "      <td>0</td>\n",
       "      <td>...</td>\n",
       "      <td>164</td>\n",
       "      <td>2</td>\n",
       "      <td>164</td>\n",
       "      <td>2</td>\n",
       "      <td>164</td>\n",
       "      <td>11</td>\n",
       "      <td>8</td>\n",
       "      <td>8</td>\n",
       "      <td>242</td>\n",
       "      <td>26</td>\n",
       "    </tr>\n",
       "    <tr>\n",
       "      <th>zymic</th>\n",
       "      <td>0</td>\n",
       "      <td>54</td>\n",
       "      <td>0</td>\n",
       "      <td>27</td>\n",
       "      <td>81</td>\n",
       "      <td>108</td>\n",
       "      <td>81</td>\n",
       "      <td>81</td>\n",
       "      <td>0</td>\n",
       "      <td>0</td>\n",
       "      <td>...</td>\n",
       "      <td>2</td>\n",
       "      <td>2</td>\n",
       "      <td>2</td>\n",
       "      <td>2</td>\n",
       "      <td>2</td>\n",
       "      <td>65</td>\n",
       "      <td>8</td>\n",
       "      <td>8</td>\n",
       "      <td>26</td>\n",
       "      <td>242</td>\n",
       "    </tr>\n",
       "  </tbody>\n",
       "</table>\n",
       "<p>12972 rows × 12972 columns</p>\n",
       "</div>"
      ],
      "text/plain": [
       "       aahed  aalii  aargh  aarti  abaca  abaci  aback  abacs  abaft  abaka  \\\n",
       "aahed    242      8     17      8      5      5      5      5      5      5   \n",
       "aalii      8    242      8    197      5    194      5      5      5      5   \n",
       "aargh     89      8    242     26      5      5      5      5      5      5   \n",
       "aarti      8    170     26    242      5    167      5      5     32      5   \n",
       "abaca     92     92     92     92    242    161    161    161    107    188   \n",
       "...      ...    ...    ...    ...    ...    ...    ...    ...    ...    ...   \n",
       "zuzim      0     54      0     27      0     27      0      0      0      0   \n",
       "zygal     27    108     36     27     27     27     27     27     27     27   \n",
       "zygon      0      0      9      0      0      0      0      0      0      0   \n",
       "zymes     54      0      0      0      0      0      0    162      0      0   \n",
       "zymic      0     54      0     27     81    108     81     81      0      0   \n",
       "\n",
       "       ...  zulus  zupan  zupas  zuppa  zurfs  zuzim  zygal  zygon  zymes  \\\n",
       "aahed  ...      0      4      4      4      0      0      4      0     54   \n",
       "aalii  ...     18      4      4      4      0    135     13      0      0   \n",
       "aargh  ...      0      4      4      4     18      0     31     27      0   \n",
       "aarti  ...      0      4      4      4     18     81      4      0      0   \n",
       "abaca  ...      0     91     91    172      0      0     91      0      0   \n",
       "...    ...    ...    ...    ...    ...    ...    ...    ...    ...    ...   \n",
       "zuzim  ...     17     17     17     17     17    242     11     11     92   \n",
       "zygal  ...     83     56     56     29      2      2    242     26      8   \n",
       "zygon  ...      2    164      2      2      2      2     26    242      8   \n",
       "zymes  ...    164      2    164      2    164     11      8      8    242   \n",
       "zymic  ...      2      2      2      2      2     65      8      8     26   \n",
       "\n",
       "       zymic  \n",
       "aahed      0  \n",
       "aalii    135  \n",
       "aargh      0  \n",
       "aarti     81  \n",
       "abaca     27  \n",
       "...      ...  \n",
       "zuzim    146  \n",
       "zygal      8  \n",
       "zygon      8  \n",
       "zymes     26  \n",
       "zymic    242  \n",
       "\n",
       "[12972 rows x 12972 columns]"
      ]
     },
     "execution_count": 38,
     "metadata": {},
     "output_type": "execute_result"
    }
   ],
   "source": [
    "# after this, we go through the table and reverse it to get the list of possibilities for each guess\n",
    "# for each (guess, possibility) what's the number of answers for that guess?\n",
    "\n",
    "# NOTE: indexes are rows (guesses)\n",
    "# columns are answers\n",
    "\n",
    "df = pd.DataFrame(table, index=words, columns=words)\n",
    "df"
   ]
  },
  {
   "cell_type": "markdown",
   "id": "liquid-incident",
   "metadata": {},
   "source": [
    "### Mean Partition"
   ]
  },
  {
   "cell_type": "code",
   "execution_count": 39,
   "id": "pleased-suspect",
   "metadata": {},
   "outputs": [],
   "source": [
    "def get_mean_partition(row) -> int:\n",
    "    x = row.value_counts().to_dict()\n",
    "    arr = np.array([v for v in x.values()])\n",
    "    m = np.mean(arr)\n",
    "    return m\n",
    "\n",
    "mean_part_df = df.apply(get_mean_partition, axis=1)"
   ]
  },
  {
   "cell_type": "code",
   "execution_count": 40,
   "id": "active-battlefield",
   "metadata": {},
   "outputs": [
    {
     "data": {
      "text/html": [
       "<div>\n",
       "<style scoped>\n",
       "    .dataframe tbody tr th:only-of-type {\n",
       "        vertical-align: middle;\n",
       "    }\n",
       "\n",
       "    .dataframe tbody tr th {\n",
       "        vertical-align: top;\n",
       "    }\n",
       "\n",
       "    .dataframe thead th {\n",
       "        text-align: right;\n",
       "    }\n",
       "</style>\n",
       "<table border=\"1\" class=\"dataframe\">\n",
       "  <thead>\n",
       "    <tr style=\"text-align: right;\">\n",
       "      <th></th>\n",
       "      <th>mean_partition</th>\n",
       "    </tr>\n",
       "  </thead>\n",
       "  <tbody>\n",
       "    <tr>\n",
       "      <th>aahed</th>\n",
       "      <td>147.409091</td>\n",
       "    </tr>\n",
       "    <tr>\n",
       "      <th>aalii</th>\n",
       "      <td>249.461538</td>\n",
       "    </tr>\n",
       "    <tr>\n",
       "      <th>aargh</th>\n",
       "      <td>156.289157</td>\n",
       "    </tr>\n",
       "    <tr>\n",
       "      <th>aarti</th>\n",
       "      <td>128.435644</td>\n",
       "    </tr>\n",
       "    <tr>\n",
       "      <th>abaca</th>\n",
       "      <td>249.461538</td>\n",
       "    </tr>\n",
       "    <tr>\n",
       "      <th>...</th>\n",
       "      <td>...</td>\n",
       "    </tr>\n",
       "    <tr>\n",
       "      <th>zuzim</th>\n",
       "      <td>212.655738</td>\n",
       "    </tr>\n",
       "    <tr>\n",
       "      <th>zygal</th>\n",
       "      <td>127.176471</td>\n",
       "    </tr>\n",
       "    <tr>\n",
       "      <th>zygon</th>\n",
       "      <td>136.547368</td>\n",
       "    </tr>\n",
       "    <tr>\n",
       "      <th>zymes</th>\n",
       "      <td>112.800000</td>\n",
       "    </tr>\n",
       "    <tr>\n",
       "      <th>zymic</th>\n",
       "      <td>150.837209</td>\n",
       "    </tr>\n",
       "  </tbody>\n",
       "</table>\n",
       "<p>12972 rows × 1 columns</p>\n",
       "</div>"
      ],
      "text/plain": [
       "       mean_partition\n",
       "aahed      147.409091\n",
       "aalii      249.461538\n",
       "aargh      156.289157\n",
       "aarti      128.435644\n",
       "abaca      249.461538\n",
       "...               ...\n",
       "zuzim      212.655738\n",
       "zygal      127.176471\n",
       "zygon      136.547368\n",
       "zymes      112.800000\n",
       "zymic      150.837209\n",
       "\n",
       "[12972 rows x 1 columns]"
      ]
     },
     "execution_count": 40,
     "metadata": {},
     "output_type": "execute_result"
    }
   ],
   "source": [
    "mean_part_df = pd.DataFrame(mean_part_df, columns=['mean_partition'])\n",
    "mean_part_df"
   ]
  },
  {
   "cell_type": "code",
   "execution_count": 27,
   "id": "applied-desert",
   "metadata": {},
   "outputs": [
    {
     "data": {
      "text/plain": [
       "61.18867924528302"
      ]
     },
     "execution_count": 27,
     "metadata": {},
     "output_type": "execute_result"
    }
   ],
   "source": [
    "mean_part_df.mean_partition.min()"
   ]
  },
  {
   "cell_type": "code",
   "execution_count": 28,
   "id": "royal-duplicate",
   "metadata": {},
   "outputs": [
    {
     "data": {
      "text/html": [
       "<div>\n",
       "<style scoped>\n",
       "    .dataframe tbody tr th:only-of-type {\n",
       "        vertical-align: middle;\n",
       "    }\n",
       "\n",
       "    .dataframe tbody tr th {\n",
       "        vertical-align: top;\n",
       "    }\n",
       "\n",
       "    .dataframe thead th {\n",
       "        text-align: right;\n",
       "    }\n",
       "</style>\n",
       "<table border=\"1\" class=\"dataframe\">\n",
       "  <thead>\n",
       "    <tr style=\"text-align: right;\">\n",
       "      <th></th>\n",
       "      <th>mean_partition</th>\n",
       "    </tr>\n",
       "  </thead>\n",
       "  <tbody>\n",
       "    <tr>\n",
       "      <th>tares</th>\n",
       "      <td>61.188679</td>\n",
       "    </tr>\n",
       "  </tbody>\n",
       "</table>\n",
       "</div>"
      ],
      "text/plain": [
       "       mean_partition\n",
       "tares       61.188679"
      ]
     },
     "execution_count": 28,
     "metadata": {},
     "output_type": "execute_result"
    }
   ],
   "source": [
    "mean_part_df[mean_part_df.mean_partition < 62]"
   ]
  },
  {
   "cell_type": "code",
   "execution_count": 29,
   "id": "focal-lounge",
   "metadata": {},
   "outputs": [
    {
     "data": {
      "text/html": [
       "<div>\n",
       "<style scoped>\n",
       "    .dataframe tbody tr th:only-of-type {\n",
       "        vertical-align: middle;\n",
       "    }\n",
       "\n",
       "    .dataframe tbody tr th {\n",
       "        vertical-align: top;\n",
       "    }\n",
       "\n",
       "    .dataframe thead th {\n",
       "        text-align: right;\n",
       "    }\n",
       "</style>\n",
       "<table border=\"1\" class=\"dataframe\">\n",
       "  <thead>\n",
       "    <tr style=\"text-align: right;\">\n",
       "      <th></th>\n",
       "      <th>mean_partition</th>\n",
       "    </tr>\n",
       "  </thead>\n",
       "  <tbody>\n",
       "    <tr>\n",
       "      <th>tares</th>\n",
       "      <td>61.188679</td>\n",
       "    </tr>\n",
       "    <tr>\n",
       "      <th>teras</th>\n",
       "      <td>62.066986</td>\n",
       "    </tr>\n",
       "    <tr>\n",
       "      <th>tears</th>\n",
       "      <td>63.588235</td>\n",
       "    </tr>\n",
       "    <tr>\n",
       "      <th>pelas</th>\n",
       "      <td>64.217822</td>\n",
       "    </tr>\n",
       "    <tr>\n",
       "      <th>pares</th>\n",
       "      <td>64.537313</td>\n",
       "    </tr>\n",
       "    <tr>\n",
       "      <th>dores</th>\n",
       "      <td>64.860000</td>\n",
       "    </tr>\n",
       "    <tr>\n",
       "      <th>peats</th>\n",
       "      <td>64.860000</td>\n",
       "    </tr>\n",
       "    <tr>\n",
       "      <th>pores</th>\n",
       "      <td>65.185930</td>\n",
       "    </tr>\n",
       "    <tr>\n",
       "      <th>tores</th>\n",
       "      <td>65.185930</td>\n",
       "    </tr>\n",
       "    <tr>\n",
       "      <th>bares</th>\n",
       "      <td>65.185930</td>\n",
       "    </tr>\n",
       "    <tr>\n",
       "      <th>pears</th>\n",
       "      <td>65.185930</td>\n",
       "    </tr>\n",
       "    <tr>\n",
       "      <th>dares</th>\n",
       "      <td>65.185930</td>\n",
       "    </tr>\n",
       "    <tr>\n",
       "      <th>toras</th>\n",
       "      <td>65.515152</td>\n",
       "    </tr>\n",
       "    <tr>\n",
       "      <th>rates</th>\n",
       "      <td>66.183673</td>\n",
       "    </tr>\n",
       "    <tr>\n",
       "      <th>cares</th>\n",
       "      <td>66.183673</td>\n",
       "    </tr>\n",
       "  </tbody>\n",
       "</table>\n",
       "</div>"
      ],
      "text/plain": [
       "       mean_partition\n",
       "tares       61.188679\n",
       "teras       62.066986\n",
       "tears       63.588235\n",
       "pelas       64.217822\n",
       "pares       64.537313\n",
       "dores       64.860000\n",
       "peats       64.860000\n",
       "pores       65.185930\n",
       "tores       65.185930\n",
       "bares       65.185930\n",
       "pears       65.185930\n",
       "dares       65.185930\n",
       "toras       65.515152\n",
       "rates       66.183673\n",
       "cares       66.183673"
      ]
     },
     "execution_count": 29,
     "metadata": {},
     "output_type": "execute_result"
    }
   ],
   "source": [
    "mean_part_df[mean_part_df.mean_partition < 75].sort_values('mean_partition').head(15)"
   ]
  },
  {
   "cell_type": "code",
   "execution_count": 30,
   "id": "amended-japanese",
   "metadata": {},
   "outputs": [
    {
     "data": {
      "text/plain": [
       "mean_partition    74.982659\n",
       "Name: serai, dtype: float64"
      ]
     },
     "execution_count": 30,
     "metadata": {},
     "output_type": "execute_result"
    }
   ],
   "source": [
    "mean_part_df.loc['serai']"
   ]
  },
  {
   "cell_type": "code",
   "execution_count": 31,
   "id": "paperback-finder",
   "metadata": {},
   "outputs": [
    {
     "data": {
      "text/plain": [
       "mean_partition    72.066667\n",
       "Name: arise, dtype: float64"
      ]
     },
     "execution_count": 31,
     "metadata": {},
     "output_type": "execute_result"
    }
   ],
   "source": [
    "mean_part_df.loc['arise']"
   ]
  },
  {
   "cell_type": "code",
   "execution_count": 32,
   "id": "collective-plastic",
   "metadata": {},
   "outputs": [
    {
     "data": {
      "text/plain": [
       "mean_partition    77.676647\n",
       "Name: aesir, dtype: float64"
      ]
     },
     "execution_count": 32,
     "metadata": {},
     "output_type": "execute_result"
    }
   ],
   "source": [
    "mean_part_df.loc['aesir']"
   ]
  },
  {
   "cell_type": "code",
   "execution_count": 33,
   "id": "extraordinary-cambodia",
   "metadata": {},
   "outputs": [
    {
     "data": {
      "text/plain": [
       "mean_partition    107.206612\n",
       "Name: adieu, dtype: float64"
      ]
     },
     "execution_count": 33,
     "metadata": {},
     "output_type": "execute_result"
    }
   ],
   "source": [
    "mean_part_df.loc['adieu']"
   ]
  },
  {
   "cell_type": "code",
   "execution_count": 34,
   "id": "seventh-serum",
   "metadata": {},
   "outputs": [
    {
     "data": {
      "text/plain": [
       "mean_partition    1.752066\n",
       "dtype: float64"
      ]
     },
     "execution_count": 34,
     "metadata": {},
     "output_type": "execute_result"
    }
   ],
   "source": [
    "mean_part_df.loc['adieu'] / mean_part_df.loc['tares']"
   ]
  },
  {
   "cell_type": "code",
   "execution_count": 35,
   "id": "premium-brush",
   "metadata": {},
   "outputs": [
    {
     "data": {
      "text/plain": [
       "mean_partition    qajaq\n",
       "dtype: object"
      ]
     },
     "execution_count": 35,
     "metadata": {},
     "output_type": "execute_result"
    }
   ],
   "source": [
    "mean_part_df.idxmax()"
   ]
  },
  {
   "cell_type": "markdown",
   "id": "rising-memorial",
   "metadata": {},
   "source": [
    "### Worst Partitions"
   ]
  },
  {
   "cell_type": "code",
   "execution_count": 36,
   "id": "considerable-lotus",
   "metadata": {},
   "outputs": [],
   "source": [
    "def get_worst_partition(row) -> int:\n",
    "    x = row.value_counts().to_dict()\n",
    "    m = max(x.values())\n",
    "    return m\n",
    "\n",
    "# apply function to each row\n",
    "part_df = df.apply(get_worst_partition, axis=1)"
   ]
  },
  {
   "cell_type": "code",
   "execution_count": 37,
   "id": "graphic-money",
   "metadata": {},
   "outputs": [
    {
     "data": {
      "text/html": [
       "<div>\n",
       "<style scoped>\n",
       "    .dataframe tbody tr th:only-of-type {\n",
       "        vertical-align: middle;\n",
       "    }\n",
       "\n",
       "    .dataframe tbody tr th {\n",
       "        vertical-align: top;\n",
       "    }\n",
       "\n",
       "    .dataframe thead th {\n",
       "        text-align: right;\n",
       "    }\n",
       "</style>\n",
       "<table border=\"1\" class=\"dataframe\">\n",
       "  <thead>\n",
       "    <tr style=\"text-align: right;\">\n",
       "      <th></th>\n",
       "      <th>worst_partition</th>\n",
       "    </tr>\n",
       "  </thead>\n",
       "  <tbody>\n",
       "    <tr>\n",
       "      <th>aahed</th>\n",
       "      <td>2543</td>\n",
       "    </tr>\n",
       "    <tr>\n",
       "      <th>aalii</th>\n",
       "      <td>3890</td>\n",
       "    </tr>\n",
       "    <tr>\n",
       "      <th>aargh</th>\n",
       "      <td>3955</td>\n",
       "    </tr>\n",
       "    <tr>\n",
       "      <th>aarti</th>\n",
       "      <td>2609</td>\n",
       "    </tr>\n",
       "    <tr>\n",
       "      <th>abaca</th>\n",
       "      <td>5655</td>\n",
       "    </tr>\n",
       "    <tr>\n",
       "      <th>...</th>\n",
       "      <td>...</td>\n",
       "    </tr>\n",
       "    <tr>\n",
       "      <th>zuzim</th>\n",
       "      <td>6081</td>\n",
       "    </tr>\n",
       "    <tr>\n",
       "      <th>zygal</th>\n",
       "      <td>4070</td>\n",
       "    </tr>\n",
       "    <tr>\n",
       "      <th>zygon</th>\n",
       "      <td>5081</td>\n",
       "    </tr>\n",
       "    <tr>\n",
       "      <th>zymes</th>\n",
       "      <td>2113</td>\n",
       "    </tr>\n",
       "    <tr>\n",
       "      <th>zymic</th>\n",
       "      <td>5269</td>\n",
       "    </tr>\n",
       "  </tbody>\n",
       "</table>\n",
       "<p>12972 rows × 1 columns</p>\n",
       "</div>"
      ],
      "text/plain": [
       "       worst_partition\n",
       "aahed             2543\n",
       "aalii             3890\n",
       "aargh             3955\n",
       "aarti             2609\n",
       "abaca             5655\n",
       "...                ...\n",
       "zuzim             6081\n",
       "zygal             4070\n",
       "zygon             5081\n",
       "zymes             2113\n",
       "zymic             5269\n",
       "\n",
       "[12972 rows x 1 columns]"
      ]
     },
     "execution_count": 37,
     "metadata": {},
     "output_type": "execute_result"
    }
   ],
   "source": [
    "part_df = pd.DataFrame(part_df, columns=['worst_partition'])\n",
    "part_df"
   ]
  },
  {
   "cell_type": "code",
   "execution_count": 38,
   "id": "cardiac-stuff",
   "metadata": {},
   "outputs": [
    {
     "data": {
      "text/html": [
       "<div>\n",
       "<style scoped>\n",
       "    .dataframe tbody tr th:only-of-type {\n",
       "        vertical-align: middle;\n",
       "    }\n",
       "\n",
       "    .dataframe tbody tr th {\n",
       "        vertical-align: top;\n",
       "    }\n",
       "\n",
       "    .dataframe thead th {\n",
       "        text-align: right;\n",
       "    }\n",
       "</style>\n",
       "<table border=\"1\" class=\"dataframe\">\n",
       "  <thead>\n",
       "    <tr style=\"text-align: right;\">\n",
       "      <th></th>\n",
       "      <th>worst_partition</th>\n",
       "    </tr>\n",
       "  </thead>\n",
       "  <tbody>\n",
       "    <tr>\n",
       "      <th>serai</th>\n",
       "      <td>697</td>\n",
       "    </tr>\n",
       "    <tr>\n",
       "      <th>reais</th>\n",
       "      <td>769</td>\n",
       "    </tr>\n",
       "    <tr>\n",
       "      <th>soare</th>\n",
       "      <td>769</td>\n",
       "    </tr>\n",
       "    <tr>\n",
       "      <th>paseo</th>\n",
       "      <td>776</td>\n",
       "    </tr>\n",
       "    <tr>\n",
       "      <th>aeros</th>\n",
       "      <td>801</td>\n",
       "    </tr>\n",
       "    <tr>\n",
       "      <th>kaies</th>\n",
       "      <td>821</td>\n",
       "    </tr>\n",
       "    <tr>\n",
       "      <th>nares</th>\n",
       "      <td>823</td>\n",
       "    </tr>\n",
       "    <tr>\n",
       "      <th>reans</th>\n",
       "      <td>823</td>\n",
       "    </tr>\n",
       "    <tr>\n",
       "      <th>nears</th>\n",
       "      <td>823</td>\n",
       "    </tr>\n",
       "    <tr>\n",
       "      <th>stoae</th>\n",
       "      <td>825</td>\n",
       "    </tr>\n",
       "    <tr>\n",
       "      <th>reals</th>\n",
       "      <td>832</td>\n",
       "    </tr>\n",
       "    <tr>\n",
       "      <th>lares</th>\n",
       "      <td>832</td>\n",
       "    </tr>\n",
       "    <tr>\n",
       "      <th>lears</th>\n",
       "      <td>832</td>\n",
       "    </tr>\n",
       "    <tr>\n",
       "      <th>arles</th>\n",
       "      <td>832</td>\n",
       "    </tr>\n",
       "    <tr>\n",
       "      <th>seral</th>\n",
       "      <td>832</td>\n",
       "    </tr>\n",
       "  </tbody>\n",
       "</table>\n",
       "</div>"
      ],
      "text/plain": [
       "       worst_partition\n",
       "serai              697\n",
       "reais              769\n",
       "soare              769\n",
       "paseo              776\n",
       "aeros              801\n",
       "kaies              821\n",
       "nares              823\n",
       "reans              823\n",
       "nears              823\n",
       "stoae              825\n",
       "reals              832\n",
       "lares              832\n",
       "lears              832\n",
       "arles              832\n",
       "seral              832"
      ]
     },
     "execution_count": 38,
     "metadata": {},
     "output_type": "execute_result"
    }
   ],
   "source": [
    "part_df.sort_values('worst_partition').head(15)"
   ]
  },
  {
   "cell_type": "code",
   "execution_count": 39,
   "id": "internal-supplement",
   "metadata": {},
   "outputs": [
    {
     "data": {
      "text/plain": [
       "697"
      ]
     },
     "execution_count": 39,
     "metadata": {},
     "output_type": "execute_result"
    }
   ],
   "source": [
    "part_df.worst_partition.min()"
   ]
  },
  {
   "cell_type": "code",
   "execution_count": 40,
   "id": "obvious-negative",
   "metadata": {},
   "outputs": [
    {
     "data": {
      "text/html": [
       "<div>\n",
       "<style scoped>\n",
       "    .dataframe tbody tr th:only-of-type {\n",
       "        vertical-align: middle;\n",
       "    }\n",
       "\n",
       "    .dataframe tbody tr th {\n",
       "        vertical-align: top;\n",
       "    }\n",
       "\n",
       "    .dataframe thead th {\n",
       "        text-align: right;\n",
       "    }\n",
       "</style>\n",
       "<table border=\"1\" class=\"dataframe\">\n",
       "  <thead>\n",
       "    <tr style=\"text-align: right;\">\n",
       "      <th></th>\n",
       "      <th>worst_partition</th>\n",
       "    </tr>\n",
       "  </thead>\n",
       "  <tbody>\n",
       "    <tr>\n",
       "      <th>serai</th>\n",
       "      <td>697</td>\n",
       "    </tr>\n",
       "  </tbody>\n",
       "</table>\n",
       "</div>"
      ],
      "text/plain": [
       "       worst_partition\n",
       "serai              697"
      ]
     },
     "execution_count": 40,
     "metadata": {},
     "output_type": "execute_result"
    }
   ],
   "source": [
    "part_df[part_df.worst_partition == 697]"
   ]
  },
  {
   "cell_type": "code",
   "execution_count": 41,
   "id": "facial-visit",
   "metadata": {},
   "outputs": [
    {
     "data": {
      "text/plain": [
       "worst_partition    1709\n",
       "Name: adieu, dtype: int64"
      ]
     },
     "execution_count": 41,
     "metadata": {},
     "output_type": "execute_result"
    }
   ],
   "source": [
    "part_df.loc['adieu']"
   ]
  },
  {
   "cell_type": "code",
   "execution_count": 42,
   "id": "meaning-divide",
   "metadata": {},
   "outputs": [
    {
     "data": {
      "text/plain": [
       "worst_partition    2.451937\n",
       "Name: adieu, dtype: float64"
      ]
     },
     "execution_count": 42,
     "metadata": {},
     "output_type": "execute_result"
    }
   ],
   "source": [
    "part_df.loc['adieu'] / 697"
   ]
  },
  {
   "cell_type": "code",
   "execution_count": 43,
   "id": "closed-israeli",
   "metadata": {},
   "outputs": [
    {
     "data": {
      "text/plain": [
       "worst_partition    1.265423\n",
       "Name: arise, dtype: float64"
      ]
     },
     "execution_count": 43,
     "metadata": {},
     "output_type": "execute_result"
    }
   ],
   "source": [
    "part_df.loc['arise'] / 697"
   ]
  },
  {
   "cell_type": "code",
   "execution_count": 44,
   "id": "liberal-container",
   "metadata": {},
   "outputs": [
    {
     "data": {
      "text/plain": [
       "worst_partition    858\n",
       "Name: tares, dtype: int64"
      ]
     },
     "execution_count": 44,
     "metadata": {},
     "output_type": "execute_result"
    }
   ],
   "source": [
    "part_df.loc['tares']"
   ]
  },
  {
   "cell_type": "code",
   "execution_count": 45,
   "id": "superb-brunswick",
   "metadata": {},
   "outputs": [
    {
     "data": {
      "text/plain": [
       "worst_partition    868\n",
       "Name: aesir, dtype: int64"
      ]
     },
     "execution_count": 45,
     "metadata": {},
     "output_type": "execute_result"
    }
   ],
   "source": [
    "part_df.loc['aesir']"
   ]
  },
  {
   "cell_type": "code",
   "execution_count": 46,
   "id": "exciting-covering",
   "metadata": {},
   "outputs": [
    {
     "data": {
      "text/plain": [
       "worst_partition    882\n",
       "Name: arise, dtype: int64"
      ]
     },
     "execution_count": 46,
     "metadata": {},
     "output_type": "execute_result"
    }
   ],
   "source": [
    "part_df.loc['arise']"
   ]
  },
  {
   "cell_type": "code",
   "execution_count": 47,
   "id": "conventional-thermal",
   "metadata": {},
   "outputs": [
    {
     "data": {
      "text/plain": [
       "worst_partition    gyppy\n",
       "dtype: object"
      ]
     },
     "execution_count": 47,
     "metadata": {},
     "output_type": "execute_result"
    }
   ],
   "source": [
    "part_df.idxmax()"
   ]
  },
  {
   "cell_type": "markdown",
   "id": "dress-preparation",
   "metadata": {},
   "source": [
    "## Solver Evaluation\n",
    "\n",
    "After running our solver over the past answers, let's see how we did"
   ]
  },
  {
   "cell_type": "code",
   "execution_count": 4,
   "id": "central-engagement",
   "metadata": {},
   "outputs": [],
   "source": [
    "import json\n",
    "import pandas as pd"
   ]
  },
  {
   "cell_type": "markdown",
   "id": "purple-break",
   "metadata": {},
   "source": [
    "### serai - worst partition"
   ]
  },
  {
   "cell_type": "code",
   "execution_count": 5,
   "id": "narrative-replica",
   "metadata": {},
   "outputs": [],
   "source": [
    "d = {}\n",
    "with open('../data-parsed/solver-eval-past-answers.json', 'r') as fp:\n",
    "    d = json.load(fp)"
   ]
  },
  {
   "cell_type": "code",
   "execution_count": 6,
   "id": "honest-staff",
   "metadata": {},
   "outputs": [
    {
     "data": {
      "text/html": [
       "<div>\n",
       "<style scoped>\n",
       "    .dataframe tbody tr th:only-of-type {\n",
       "        vertical-align: middle;\n",
       "    }\n",
       "\n",
       "    .dataframe tbody tr th {\n",
       "        vertical-align: top;\n",
       "    }\n",
       "\n",
       "    .dataframe thead th {\n",
       "        text-align: right;\n",
       "    }\n",
       "</style>\n",
       "<table border=\"1\" class=\"dataframe\">\n",
       "  <thead>\n",
       "    <tr style=\"text-align: right;\">\n",
       "      <th></th>\n",
       "      <th>answer</th>\n",
       "      <th>num_guesses</th>\n",
       "      <th>is_solved</th>\n",
       "    </tr>\n",
       "  </thead>\n",
       "  <tbody>\n",
       "    <tr>\n",
       "      <th>0</th>\n",
       "      <td>ABACK</td>\n",
       "      <td>4</td>\n",
       "      <td>True</td>\n",
       "    </tr>\n",
       "    <tr>\n",
       "      <th>1</th>\n",
       "      <td>ABASE</td>\n",
       "      <td>4</td>\n",
       "      <td>True</td>\n",
       "    </tr>\n",
       "    <tr>\n",
       "      <th>2</th>\n",
       "      <td>ABATE</td>\n",
       "      <td>4</td>\n",
       "      <td>True</td>\n",
       "    </tr>\n",
       "    <tr>\n",
       "      <th>3</th>\n",
       "      <td>ABBEY</td>\n",
       "      <td>4</td>\n",
       "      <td>True</td>\n",
       "    </tr>\n",
       "    <tr>\n",
       "      <th>4</th>\n",
       "      <td>ABYSS</td>\n",
       "      <td>4</td>\n",
       "      <td>True</td>\n",
       "    </tr>\n",
       "    <tr>\n",
       "      <th>...</th>\n",
       "      <td>...</td>\n",
       "      <td>...</td>\n",
       "      <td>...</td>\n",
       "    </tr>\n",
       "    <tr>\n",
       "      <th>214</th>\n",
       "      <td>WINCE</td>\n",
       "      <td>4</td>\n",
       "      <td>True</td>\n",
       "    </tr>\n",
       "    <tr>\n",
       "      <th>215</th>\n",
       "      <td>WOOER</td>\n",
       "      <td>5</td>\n",
       "      <td>True</td>\n",
       "    </tr>\n",
       "    <tr>\n",
       "      <th>216</th>\n",
       "      <td>WORLD</td>\n",
       "      <td>3</td>\n",
       "      <td>True</td>\n",
       "    </tr>\n",
       "    <tr>\n",
       "      <th>217</th>\n",
       "      <td>WROTE</td>\n",
       "      <td>6</td>\n",
       "      <td>False</td>\n",
       "    </tr>\n",
       "    <tr>\n",
       "      <th>218</th>\n",
       "      <td>YEARN</td>\n",
       "      <td>4</td>\n",
       "      <td>True</td>\n",
       "    </tr>\n",
       "  </tbody>\n",
       "</table>\n",
       "<p>219 rows × 3 columns</p>\n",
       "</div>"
      ],
      "text/plain": [
       "    answer  num_guesses  is_solved\n",
       "0    ABACK            4       True\n",
       "1    ABASE            4       True\n",
       "2    ABATE            4       True\n",
       "3    ABBEY            4       True\n",
       "4    ABYSS            4       True\n",
       "..     ...          ...        ...\n",
       "214  WINCE            4       True\n",
       "215  WOOER            5       True\n",
       "216  WORLD            3       True\n",
       "217  WROTE            6      False\n",
       "218  YEARN            4       True\n",
       "\n",
       "[219 rows x 3 columns]"
      ]
     },
     "execution_count": 6,
     "metadata": {},
     "output_type": "execute_result"
    }
   ],
   "source": [
    "rows = []\n",
    "for answer, v in d.items():\n",
    "    rows.append({\n",
    "        'answer': answer,\n",
    "        'num_guesses': v['num_guesses'],\n",
    "        'is_solved': v['is_solved']\n",
    "    })\n",
    "\n",
    "solver_df = pd.DataFrame(rows)\n",
    "solver_df"
   ]
  },
  {
   "cell_type": "code",
   "execution_count": 7,
   "id": "turned-jewel",
   "metadata": {},
   "outputs": [
    {
     "data": {
      "text/plain": [
       "4.19811320754717"
      ]
     },
     "execution_count": 7,
     "metadata": {},
     "output_type": "execute_result"
    }
   ],
   "source": [
    "solver_df[solver_df.is_solved].num_guesses.mean()"
   ]
  },
  {
   "cell_type": "code",
   "execution_count": 48,
   "id": "figured-screen",
   "metadata": {},
   "outputs": [
    {
     "data": {
      "text/plain": [
       "212"
      ]
     },
     "execution_count": 48,
     "metadata": {},
     "output_type": "execute_result"
    }
   ],
   "source": [
    "solver_df.is_solved.sum()"
   ]
  },
  {
   "cell_type": "code",
   "execution_count": 21,
   "id": "marked-season",
   "metadata": {},
   "outputs": [
    {
     "data": {
      "text/html": [
       "<div>\n",
       "<style scoped>\n",
       "    .dataframe tbody tr th:only-of-type {\n",
       "        vertical-align: middle;\n",
       "    }\n",
       "\n",
       "    .dataframe tbody tr th {\n",
       "        vertical-align: top;\n",
       "    }\n",
       "\n",
       "    .dataframe thead th {\n",
       "        text-align: right;\n",
       "    }\n",
       "</style>\n",
       "<table border=\"1\" class=\"dataframe\">\n",
       "  <thead>\n",
       "    <tr style=\"text-align: right;\">\n",
       "      <th></th>\n",
       "      <th>answer</th>\n",
       "      <th>num_guesses</th>\n",
       "      <th>is_solved</th>\n",
       "    </tr>\n",
       "  </thead>\n",
       "  <tbody>\n",
       "    <tr>\n",
       "      <th>29</th>\n",
       "      <td>BOOZY</td>\n",
       "      <td>6</td>\n",
       "      <td>False</td>\n",
       "    </tr>\n",
       "    <tr>\n",
       "      <th>51</th>\n",
       "      <td>CRAZE</td>\n",
       "      <td>6</td>\n",
       "      <td>False</td>\n",
       "    </tr>\n",
       "    <tr>\n",
       "      <th>99</th>\n",
       "      <td>GRIME</td>\n",
       "      <td>6</td>\n",
       "      <td>False</td>\n",
       "    </tr>\n",
       "    <tr>\n",
       "      <th>149</th>\n",
       "      <td>PROVE</td>\n",
       "      <td>6</td>\n",
       "      <td>False</td>\n",
       "    </tr>\n",
       "    <tr>\n",
       "      <th>188</th>\n",
       "      <td>STORE</td>\n",
       "      <td>6</td>\n",
       "      <td>False</td>\n",
       "    </tr>\n",
       "    <tr>\n",
       "      <th>189</th>\n",
       "      <td>STOUT</td>\n",
       "      <td>6</td>\n",
       "      <td>False</td>\n",
       "    </tr>\n",
       "    <tr>\n",
       "      <th>217</th>\n",
       "      <td>WROTE</td>\n",
       "      <td>6</td>\n",
       "      <td>False</td>\n",
       "    </tr>\n",
       "  </tbody>\n",
       "</table>\n",
       "</div>"
      ],
      "text/plain": [
       "    answer  num_guesses  is_solved\n",
       "29   BOOZY            6      False\n",
       "51   CRAZE            6      False\n",
       "99   GRIME            6      False\n",
       "149  PROVE            6      False\n",
       "188  STORE            6      False\n",
       "189  STOUT            6      False\n",
       "217  WROTE            6      False"
      ]
     },
     "execution_count": 21,
     "metadata": {},
     "output_type": "execute_result"
    }
   ],
   "source": [
    "solver_df[solver_df.is_solved == False]"
   ]
  },
  {
   "cell_type": "code",
   "execution_count": 22,
   "id": "funky-education",
   "metadata": {},
   "outputs": [
    {
     "data": {
      "text/html": [
       "<div>\n",
       "<style scoped>\n",
       "    .dataframe tbody tr th:only-of-type {\n",
       "        vertical-align: middle;\n",
       "    }\n",
       "\n",
       "    .dataframe tbody tr th {\n",
       "        vertical-align: top;\n",
       "    }\n",
       "\n",
       "    .dataframe thead th {\n",
       "        text-align: right;\n",
       "    }\n",
       "</style>\n",
       "<table border=\"1\" class=\"dataframe\">\n",
       "  <thead>\n",
       "    <tr style=\"text-align: right;\">\n",
       "      <th></th>\n",
       "      <th>answer</th>\n",
       "    </tr>\n",
       "  </thead>\n",
       "  <tbody>\n",
       "    <tr>\n",
       "      <th>29</th>\n",
       "      <td>BOOZY</td>\n",
       "    </tr>\n",
       "    <tr>\n",
       "      <th>51</th>\n",
       "      <td>CRAZE</td>\n",
       "    </tr>\n",
       "    <tr>\n",
       "      <th>99</th>\n",
       "      <td>GRIME</td>\n",
       "    </tr>\n",
       "    <tr>\n",
       "      <th>149</th>\n",
       "      <td>PROVE</td>\n",
       "    </tr>\n",
       "    <tr>\n",
       "      <th>188</th>\n",
       "      <td>STORE</td>\n",
       "    </tr>\n",
       "    <tr>\n",
       "      <th>189</th>\n",
       "      <td>STOUT</td>\n",
       "    </tr>\n",
       "    <tr>\n",
       "      <th>217</th>\n",
       "      <td>WROTE</td>\n",
       "    </tr>\n",
       "  </tbody>\n",
       "</table>\n",
       "</div>"
      ],
      "text/plain": [
       "    answer\n",
       "29   BOOZY\n",
       "51   CRAZE\n",
       "99   GRIME\n",
       "149  PROVE\n",
       "188  STORE\n",
       "189  STOUT\n",
       "217  WROTE"
      ]
     },
     "execution_count": 22,
     "metadata": {},
     "output_type": "execute_result"
    }
   ],
   "source": [
    "_[['answer']]"
   ]
  },
  {
   "cell_type": "markdown",
   "id": "continuous-surname",
   "metadata": {},
   "source": [
    "### tares - worst partition"
   ]
  },
  {
   "cell_type": "code",
   "execution_count": 23,
   "id": "animated-teacher",
   "metadata": {},
   "outputs": [],
   "source": [
    "d = {}\n",
    "with open('../data-parsed/solver-eval-past-answers-220-tares.json') as fp:\n",
    "    d = json.load(fp)"
   ]
  },
  {
   "cell_type": "code",
   "execution_count": 24,
   "id": "caroline-robinson",
   "metadata": {},
   "outputs": [
    {
     "data": {
      "text/html": [
       "<div>\n",
       "<style scoped>\n",
       "    .dataframe tbody tr th:only-of-type {\n",
       "        vertical-align: middle;\n",
       "    }\n",
       "\n",
       "    .dataframe tbody tr th {\n",
       "        vertical-align: top;\n",
       "    }\n",
       "\n",
       "    .dataframe thead th {\n",
       "        text-align: right;\n",
       "    }\n",
       "</style>\n",
       "<table border=\"1\" class=\"dataframe\">\n",
       "  <thead>\n",
       "    <tr style=\"text-align: right;\">\n",
       "      <th></th>\n",
       "      <th>answer</th>\n",
       "      <th>num_guesses</th>\n",
       "      <th>is_solved</th>\n",
       "    </tr>\n",
       "  </thead>\n",
       "  <tbody>\n",
       "    <tr>\n",
       "      <th>0</th>\n",
       "      <td>ABACK</td>\n",
       "      <td>4</td>\n",
       "      <td>True</td>\n",
       "    </tr>\n",
       "    <tr>\n",
       "      <th>1</th>\n",
       "      <td>ABASE</td>\n",
       "      <td>4</td>\n",
       "      <td>True</td>\n",
       "    </tr>\n",
       "    <tr>\n",
       "      <th>2</th>\n",
       "      <td>ABATE</td>\n",
       "      <td>3</td>\n",
       "      <td>True</td>\n",
       "    </tr>\n",
       "    <tr>\n",
       "      <th>3</th>\n",
       "      <td>ABBEY</td>\n",
       "      <td>4</td>\n",
       "      <td>True</td>\n",
       "    </tr>\n",
       "    <tr>\n",
       "      <th>4</th>\n",
       "      <td>ABYSS</td>\n",
       "      <td>5</td>\n",
       "      <td>True</td>\n",
       "    </tr>\n",
       "    <tr>\n",
       "      <th>...</th>\n",
       "      <td>...</td>\n",
       "      <td>...</td>\n",
       "      <td>...</td>\n",
       "    </tr>\n",
       "    <tr>\n",
       "      <th>215</th>\n",
       "      <td>WINCE</td>\n",
       "      <td>5</td>\n",
       "      <td>True</td>\n",
       "    </tr>\n",
       "    <tr>\n",
       "      <th>216</th>\n",
       "      <td>WOOER</td>\n",
       "      <td>5</td>\n",
       "      <td>True</td>\n",
       "    </tr>\n",
       "    <tr>\n",
       "      <th>217</th>\n",
       "      <td>WORLD</td>\n",
       "      <td>4</td>\n",
       "      <td>True</td>\n",
       "    </tr>\n",
       "    <tr>\n",
       "      <th>218</th>\n",
       "      <td>WROTE</td>\n",
       "      <td>4</td>\n",
       "      <td>True</td>\n",
       "    </tr>\n",
       "    <tr>\n",
       "      <th>219</th>\n",
       "      <td>YEARN</td>\n",
       "      <td>4</td>\n",
       "      <td>True</td>\n",
       "    </tr>\n",
       "  </tbody>\n",
       "</table>\n",
       "<p>220 rows × 3 columns</p>\n",
       "</div>"
      ],
      "text/plain": [
       "    answer  num_guesses  is_solved\n",
       "0    ABACK            4       True\n",
       "1    ABASE            4       True\n",
       "2    ABATE            3       True\n",
       "3    ABBEY            4       True\n",
       "4    ABYSS            5       True\n",
       "..     ...          ...        ...\n",
       "215  WINCE            5       True\n",
       "216  WOOER            5       True\n",
       "217  WORLD            4       True\n",
       "218  WROTE            4       True\n",
       "219  YEARN            4       True\n",
       "\n",
       "[220 rows x 3 columns]"
      ]
     },
     "execution_count": 24,
     "metadata": {},
     "output_type": "execute_result"
    }
   ],
   "source": [
    "rows = []\n",
    "for answer, v in d['per_word_results'].items():\n",
    "    rows.append({\n",
    "        'answer': answer,\n",
    "        'num_guesses': v['num_guesses'],\n",
    "        'is_solved': v['is_solved']\n",
    "    })\n",
    "\n",
    "solver_df2 = pd.DataFrame(rows)\n",
    "solver_df2"
   ]
  },
  {
   "cell_type": "code",
   "execution_count": 50,
   "id": "departmental-speech",
   "metadata": {},
   "outputs": [
    {
     "data": {
      "text/plain": [
       "213"
      ]
     },
     "execution_count": 50,
     "metadata": {},
     "output_type": "execute_result"
    }
   ],
   "source": [
    "solver_df2.is_solved.sum() - 1"
   ]
  },
  {
   "cell_type": "code",
   "execution_count": 46,
   "id": "pediatric-johnston",
   "metadata": {},
   "outputs": [
    {
     "data": {
      "text/plain": [
       "4.252336448598131"
      ]
     },
     "execution_count": 46,
     "metadata": {},
     "output_type": "execute_result"
    }
   ],
   "source": [
    "solver_df2[solver_df2.is_solved].num_guesses.mean()"
   ]
  },
  {
   "cell_type": "code",
   "execution_count": 25,
   "id": "correct-sarah",
   "metadata": {},
   "outputs": [
    {
     "data": {
      "text/html": [
       "<div>\n",
       "<style scoped>\n",
       "    .dataframe tbody tr th:only-of-type {\n",
       "        vertical-align: middle;\n",
       "    }\n",
       "\n",
       "    .dataframe tbody tr th {\n",
       "        vertical-align: top;\n",
       "    }\n",
       "\n",
       "    .dataframe thead th {\n",
       "        text-align: right;\n",
       "    }\n",
       "</style>\n",
       "<table border=\"1\" class=\"dataframe\">\n",
       "  <thead>\n",
       "    <tr style=\"text-align: right;\">\n",
       "      <th></th>\n",
       "      <th>answer</th>\n",
       "      <th>num_guesses</th>\n",
       "      <th>is_solved</th>\n",
       "    </tr>\n",
       "  </thead>\n",
       "  <tbody>\n",
       "    <tr>\n",
       "      <th>29</th>\n",
       "      <td>BOOZY</td>\n",
       "      <td>6</td>\n",
       "      <td>False</td>\n",
       "    </tr>\n",
       "    <tr>\n",
       "      <th>51</th>\n",
       "      <td>CRAZE</td>\n",
       "      <td>6</td>\n",
       "      <td>False</td>\n",
       "    </tr>\n",
       "    <tr>\n",
       "      <th>93</th>\n",
       "      <td>GONER</td>\n",
       "      <td>6</td>\n",
       "      <td>False</td>\n",
       "    </tr>\n",
       "    <tr>\n",
       "      <th>121</th>\n",
       "      <td>LUSTY</td>\n",
       "      <td>6</td>\n",
       "      <td>False</td>\n",
       "    </tr>\n",
       "    <tr>\n",
       "      <th>150</th>\n",
       "      <td>PROVE</td>\n",
       "      <td>6</td>\n",
       "      <td>False</td>\n",
       "    </tr>\n",
       "    <tr>\n",
       "      <th>178</th>\n",
       "      <td>SOWER</td>\n",
       "      <td>6</td>\n",
       "      <td>False</td>\n",
       "    </tr>\n",
       "  </tbody>\n",
       "</table>\n",
       "</div>"
      ],
      "text/plain": [
       "    answer  num_guesses  is_solved\n",
       "29   BOOZY            6      False\n",
       "51   CRAZE            6      False\n",
       "93   GONER            6      False\n",
       "121  LUSTY            6      False\n",
       "150  PROVE            6      False\n",
       "178  SOWER            6      False"
      ]
     },
     "execution_count": 25,
     "metadata": {},
     "output_type": "execute_result"
    }
   ],
   "source": [
    "solver_df2[~solver_df2.is_solved]"
   ]
  },
  {
   "cell_type": "code",
   "execution_count": 26,
   "id": "prostate-exchange",
   "metadata": {},
   "outputs": [
    {
     "data": {
      "text/html": [
       "<div>\n",
       "<style scoped>\n",
       "    .dataframe tbody tr th:only-of-type {\n",
       "        vertical-align: middle;\n",
       "    }\n",
       "\n",
       "    .dataframe tbody tr th {\n",
       "        vertical-align: top;\n",
       "    }\n",
       "\n",
       "    .dataframe thead th {\n",
       "        text-align: right;\n",
       "    }\n",
       "</style>\n",
       "<table border=\"1\" class=\"dataframe\">\n",
       "  <thead>\n",
       "    <tr style=\"text-align: right;\">\n",
       "      <th></th>\n",
       "      <th>answer</th>\n",
       "    </tr>\n",
       "  </thead>\n",
       "  <tbody>\n",
       "    <tr>\n",
       "      <th>29</th>\n",
       "      <td>BOOZY</td>\n",
       "    </tr>\n",
       "    <tr>\n",
       "      <th>51</th>\n",
       "      <td>CRAZE</td>\n",
       "    </tr>\n",
       "    <tr>\n",
       "      <th>93</th>\n",
       "      <td>GONER</td>\n",
       "    </tr>\n",
       "    <tr>\n",
       "      <th>121</th>\n",
       "      <td>LUSTY</td>\n",
       "    </tr>\n",
       "    <tr>\n",
       "      <th>150</th>\n",
       "      <td>PROVE</td>\n",
       "    </tr>\n",
       "    <tr>\n",
       "      <th>178</th>\n",
       "      <td>SOWER</td>\n",
       "    </tr>\n",
       "  </tbody>\n",
       "</table>\n",
       "</div>"
      ],
      "text/plain": [
       "    answer\n",
       "29   BOOZY\n",
       "51   CRAZE\n",
       "93   GONER\n",
       "121  LUSTY\n",
       "150  PROVE\n",
       "178  SOWER"
      ]
     },
     "execution_count": 26,
     "metadata": {},
     "output_type": "execute_result"
    }
   ],
   "source": [
    "_[['answer']]"
   ]
  },
  {
   "cell_type": "markdown",
   "id": "false-georgia",
   "metadata": {},
   "source": [
    "### tares - mean partition"
   ]
  },
  {
   "cell_type": "code",
   "execution_count": 41,
   "id": "colonial-waterproof",
   "metadata": {},
   "outputs": [],
   "source": [
    "d = {}\n",
    "with open('../data-parsed/solver-eval-strat-mean_partition-past-answers-220-tares.json') as fp:\n",
    "    d = json.load(fp)"
   ]
  },
  {
   "cell_type": "code",
   "execution_count": 42,
   "id": "sunset-virus",
   "metadata": {},
   "outputs": [
    {
     "data": {
      "text/html": [
       "<div>\n",
       "<style scoped>\n",
       "    .dataframe tbody tr th:only-of-type {\n",
       "        vertical-align: middle;\n",
       "    }\n",
       "\n",
       "    .dataframe tbody tr th {\n",
       "        vertical-align: top;\n",
       "    }\n",
       "\n",
       "    .dataframe thead th {\n",
       "        text-align: right;\n",
       "    }\n",
       "</style>\n",
       "<table border=\"1\" class=\"dataframe\">\n",
       "  <thead>\n",
       "    <tr style=\"text-align: right;\">\n",
       "      <th></th>\n",
       "      <th>answer</th>\n",
       "      <th>num_guesses</th>\n",
       "      <th>is_solved</th>\n",
       "    </tr>\n",
       "  </thead>\n",
       "  <tbody>\n",
       "    <tr>\n",
       "      <th>0</th>\n",
       "      <td>ABACK</td>\n",
       "      <td>4</td>\n",
       "      <td>True</td>\n",
       "    </tr>\n",
       "    <tr>\n",
       "      <th>1</th>\n",
       "      <td>ABASE</td>\n",
       "      <td>4</td>\n",
       "      <td>True</td>\n",
       "    </tr>\n",
       "    <tr>\n",
       "      <th>2</th>\n",
       "      <td>ABATE</td>\n",
       "      <td>3</td>\n",
       "      <td>True</td>\n",
       "    </tr>\n",
       "    <tr>\n",
       "      <th>3</th>\n",
       "      <td>ABBEY</td>\n",
       "      <td>3</td>\n",
       "      <td>True</td>\n",
       "    </tr>\n",
       "    <tr>\n",
       "      <th>4</th>\n",
       "      <td>ABYSS</td>\n",
       "      <td>4</td>\n",
       "      <td>True</td>\n",
       "    </tr>\n",
       "    <tr>\n",
       "      <th>...</th>\n",
       "      <td>...</td>\n",
       "      <td>...</td>\n",
       "      <td>...</td>\n",
       "    </tr>\n",
       "    <tr>\n",
       "      <th>215</th>\n",
       "      <td>WINCE</td>\n",
       "      <td>4</td>\n",
       "      <td>True</td>\n",
       "    </tr>\n",
       "    <tr>\n",
       "      <th>216</th>\n",
       "      <td>WOOER</td>\n",
       "      <td>6</td>\n",
       "      <td>False</td>\n",
       "    </tr>\n",
       "    <tr>\n",
       "      <th>217</th>\n",
       "      <td>WORLD</td>\n",
       "      <td>4</td>\n",
       "      <td>True</td>\n",
       "    </tr>\n",
       "    <tr>\n",
       "      <th>218</th>\n",
       "      <td>WROTE</td>\n",
       "      <td>4</td>\n",
       "      <td>True</td>\n",
       "    </tr>\n",
       "    <tr>\n",
       "      <th>219</th>\n",
       "      <td>YEARN</td>\n",
       "      <td>4</td>\n",
       "      <td>True</td>\n",
       "    </tr>\n",
       "  </tbody>\n",
       "</table>\n",
       "<p>220 rows × 3 columns</p>\n",
       "</div>"
      ],
      "text/plain": [
       "    answer  num_guesses  is_solved\n",
       "0    ABACK            4       True\n",
       "1    ABASE            4       True\n",
       "2    ABATE            3       True\n",
       "3    ABBEY            3       True\n",
       "4    ABYSS            4       True\n",
       "..     ...          ...        ...\n",
       "215  WINCE            4       True\n",
       "216  WOOER            6      False\n",
       "217  WORLD            4       True\n",
       "218  WROTE            4       True\n",
       "219  YEARN            4       True\n",
       "\n",
       "[220 rows x 3 columns]"
      ]
     },
     "execution_count": 42,
     "metadata": {},
     "output_type": "execute_result"
    }
   ],
   "source": [
    "rows = []\n",
    "for answer, v in d['per_word_results'].items():\n",
    "    rows.append({\n",
    "        'answer': answer,\n",
    "        'num_guesses': v['num_guesses'],\n",
    "        'is_solved': v['is_solved']\n",
    "    })\n",
    "\n",
    "solver_df3 = pd.DataFrame(rows)\n",
    "solver_df3"
   ]
  },
  {
   "cell_type": "code",
   "execution_count": 52,
   "id": "honey-mistake",
   "metadata": {},
   "outputs": [
    {
     "data": {
      "text/plain": [
       "208"
      ]
     },
     "execution_count": 52,
     "metadata": {},
     "output_type": "execute_result"
    }
   ],
   "source": [
    "solver_df3.is_solved.sum() - 1"
   ]
  },
  {
   "cell_type": "code",
   "execution_count": 44,
   "id": "dimensional-diabetes",
   "metadata": {},
   "outputs": [
    {
     "data": {
      "text/html": [
       "<div>\n",
       "<style scoped>\n",
       "    .dataframe tbody tr th:only-of-type {\n",
       "        vertical-align: middle;\n",
       "    }\n",
       "\n",
       "    .dataframe tbody tr th {\n",
       "        vertical-align: top;\n",
       "    }\n",
       "\n",
       "    .dataframe thead th {\n",
       "        text-align: right;\n",
       "    }\n",
       "</style>\n",
       "<table border=\"1\" class=\"dataframe\">\n",
       "  <thead>\n",
       "    <tr style=\"text-align: right;\">\n",
       "      <th></th>\n",
       "      <th>answer</th>\n",
       "      <th>num_guesses</th>\n",
       "      <th>is_solved</th>\n",
       "    </tr>\n",
       "  </thead>\n",
       "  <tbody>\n",
       "    <tr>\n",
       "      <th>29</th>\n",
       "      <td>BOOZY</td>\n",
       "      <td>6</td>\n",
       "      <td>False</td>\n",
       "    </tr>\n",
       "    <tr>\n",
       "      <th>49</th>\n",
       "      <td>CRASS</td>\n",
       "      <td>6</td>\n",
       "      <td>False</td>\n",
       "    </tr>\n",
       "    <tr>\n",
       "      <th>51</th>\n",
       "      <td>CRAZE</td>\n",
       "      <td>6</td>\n",
       "      <td>False</td>\n",
       "    </tr>\n",
       "    <tr>\n",
       "      <th>75</th>\n",
       "      <td>FERRY</td>\n",
       "      <td>6</td>\n",
       "      <td>False</td>\n",
       "    </tr>\n",
       "    <tr>\n",
       "      <th>78</th>\n",
       "      <td>FIXER</td>\n",
       "      <td>6</td>\n",
       "      <td>False</td>\n",
       "    </tr>\n",
       "    <tr>\n",
       "      <th>93</th>\n",
       "      <td>GONER</td>\n",
       "      <td>6</td>\n",
       "      <td>False</td>\n",
       "    </tr>\n",
       "    <tr>\n",
       "      <th>146</th>\n",
       "      <td>POUND</td>\n",
       "      <td>6</td>\n",
       "      <td>False</td>\n",
       "    </tr>\n",
       "    <tr>\n",
       "      <th>150</th>\n",
       "      <td>PROVE</td>\n",
       "      <td>6</td>\n",
       "      <td>False</td>\n",
       "    </tr>\n",
       "    <tr>\n",
       "      <th>185</th>\n",
       "      <td>START</td>\n",
       "      <td>6</td>\n",
       "      <td>False</td>\n",
       "    </tr>\n",
       "    <tr>\n",
       "      <th>190</th>\n",
       "      <td>STOUT</td>\n",
       "      <td>6</td>\n",
       "      <td>False</td>\n",
       "    </tr>\n",
       "    <tr>\n",
       "      <th>216</th>\n",
       "      <td>WOOER</td>\n",
       "      <td>6</td>\n",
       "      <td>False</td>\n",
       "    </tr>\n",
       "  </tbody>\n",
       "</table>\n",
       "</div>"
      ],
      "text/plain": [
       "    answer  num_guesses  is_solved\n",
       "29   BOOZY            6      False\n",
       "49   CRASS            6      False\n",
       "51   CRAZE            6      False\n",
       "75   FERRY            6      False\n",
       "78   FIXER            6      False\n",
       "93   GONER            6      False\n",
       "146  POUND            6      False\n",
       "150  PROVE            6      False\n",
       "185  START            6      False\n",
       "190  STOUT            6      False\n",
       "216  WOOER            6      False"
      ]
     },
     "execution_count": 44,
     "metadata": {},
     "output_type": "execute_result"
    }
   ],
   "source": [
    "solver_df3[~solver_df3.is_solved]"
   ]
  },
  {
   "cell_type": "code",
   "execution_count": 45,
   "id": "capital-benefit",
   "metadata": {},
   "outputs": [
    {
     "data": {
      "text/html": [
       "<div>\n",
       "<style scoped>\n",
       "    .dataframe tbody tr th:only-of-type {\n",
       "        vertical-align: middle;\n",
       "    }\n",
       "\n",
       "    .dataframe tbody tr th {\n",
       "        vertical-align: top;\n",
       "    }\n",
       "\n",
       "    .dataframe thead th {\n",
       "        text-align: right;\n",
       "    }\n",
       "</style>\n",
       "<table border=\"1\" class=\"dataframe\">\n",
       "  <thead>\n",
       "    <tr style=\"text-align: right;\">\n",
       "      <th></th>\n",
       "      <th>answer</th>\n",
       "    </tr>\n",
       "  </thead>\n",
       "  <tbody>\n",
       "    <tr>\n",
       "      <th>29</th>\n",
       "      <td>BOOZY</td>\n",
       "    </tr>\n",
       "    <tr>\n",
       "      <th>49</th>\n",
       "      <td>CRASS</td>\n",
       "    </tr>\n",
       "    <tr>\n",
       "      <th>51</th>\n",
       "      <td>CRAZE</td>\n",
       "    </tr>\n",
       "    <tr>\n",
       "      <th>75</th>\n",
       "      <td>FERRY</td>\n",
       "    </tr>\n",
       "    <tr>\n",
       "      <th>78</th>\n",
       "      <td>FIXER</td>\n",
       "    </tr>\n",
       "    <tr>\n",
       "      <th>93</th>\n",
       "      <td>GONER</td>\n",
       "    </tr>\n",
       "    <tr>\n",
       "      <th>146</th>\n",
       "      <td>POUND</td>\n",
       "    </tr>\n",
       "    <tr>\n",
       "      <th>150</th>\n",
       "      <td>PROVE</td>\n",
       "    </tr>\n",
       "    <tr>\n",
       "      <th>185</th>\n",
       "      <td>START</td>\n",
       "    </tr>\n",
       "    <tr>\n",
       "      <th>190</th>\n",
       "      <td>STOUT</td>\n",
       "    </tr>\n",
       "    <tr>\n",
       "      <th>216</th>\n",
       "      <td>WOOER</td>\n",
       "    </tr>\n",
       "  </tbody>\n",
       "</table>\n",
       "</div>"
      ],
      "text/plain": [
       "    answer\n",
       "29   BOOZY\n",
       "49   CRASS\n",
       "51   CRAZE\n",
       "75   FERRY\n",
       "78   FIXER\n",
       "93   GONER\n",
       "146  POUND\n",
       "150  PROVE\n",
       "185  START\n",
       "190  STOUT\n",
       "216  WOOER"
      ]
     },
     "execution_count": 45,
     "metadata": {},
     "output_type": "execute_result"
    }
   ],
   "source": [
    "_[['answer']]"
   ]
  },
  {
   "cell_type": "code",
   "execution_count": 47,
   "id": "brief-modern",
   "metadata": {},
   "outputs": [
    {
     "data": {
      "text/plain": [
       "4.023923444976076"
      ]
     },
     "execution_count": 47,
     "metadata": {},
     "output_type": "execute_result"
    }
   ],
   "source": [
    "solver_df3[solver_df3.is_solved].num_guesses.mean()"
   ]
  },
  {
   "cell_type": "code",
   "execution_count": null,
   "id": "confused-canadian",
   "metadata": {},
   "outputs": [],
   "source": []
  }
 ],
 "metadata": {
  "kernelspec": {
   "display_name": "Python 3",
   "language": "python",
   "name": "python3"
  },
  "language_info": {
   "codemirror_mode": {
    "name": "ipython",
    "version": 3
   },
   "file_extension": ".py",
   "mimetype": "text/x-python",
   "name": "python",
   "nbconvert_exporter": "python",
   "pygments_lexer": "ipython3",
   "version": "3.8.5"
  }
 },
 "nbformat": 4,
 "nbformat_minor": 5
}
