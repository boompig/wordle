{
 "cells": [
  {
   "cell_type": "code",
   "execution_count": 7,
   "id": "proper-prospect",
   "metadata": {},
   "outputs": [],
   "source": [
    "# we have to use some previous code\n",
    "import sys\n",
    "sys.path.append('..')"
   ]
  },
  {
   "cell_type": "code",
   "execution_count": 8,
   "id": "quick-seating",
   "metadata": {},
   "outputs": [],
   "source": [
    "# make sure we reload the code\n",
    "%load_ext autoreload\n",
    "%autoreload 2"
   ]
  },
  {
   "cell_type": "code",
   "execution_count": 9,
   "id": "academic-arrest",
   "metadata": {},
   "outputs": [],
   "source": [
    "from parse_data import read_parsed_words, DEFAULT_PARSED_WORDS_FILE"
   ]
  },
  {
   "cell_type": "code",
   "execution_count": 10,
   "id": "subtle-science",
   "metadata": {},
   "outputs": [
    {
     "data": {
      "text/plain": [
       "'/Users/Daniel_Kats/prog/wordle/data-parsed/wordle-words.pickle'"
      ]
     },
     "execution_count": 10,
     "metadata": {},
     "output_type": "execute_result"
    }
   ],
   "source": [
    "# should be an absolute path\n",
    "DEFAULT_PARSED_WORDS_FILE"
   ]
  },
  {
   "cell_type": "code",
   "execution_count": 11,
   "id": "nasty-railway",
   "metadata": {},
   "outputs": [
    {
     "name": "stdout",
     "output_type": "stream",
     "text": [
      "Loaded 12972 words\n"
     ]
    }
   ],
   "source": [
    "words = read_parsed_words()\n",
    "print(f'Loaded {len(words)} words')"
   ]
  },
  {
   "cell_type": "code",
   "execution_count": 12,
   "id": "accurate-delay",
   "metadata": {},
   "outputs": [],
   "source": [
    "from play import UNSAFE_eval_guess, eval_guess"
   ]
  },
  {
   "cell_type": "code",
   "execution_count": 13,
   "id": "round-acrylic",
   "metadata": {},
   "outputs": [],
   "source": [
    "from tqdm import tqdm\n",
    "import itertools"
   ]
  },
  {
   "cell_type": "markdown",
   "id": "veterinary-damage",
   "metadata": {},
   "source": [
    "## Creating the possibility matrix"
   ]
  },
  {
   "cell_type": "code",
   "execution_count": 16,
   "id": "radio-arizona",
   "metadata": {},
   "outputs": [
    {
     "name": "stdout",
     "output_type": "stream",
     "text": [
      "# combinations of all words = 168,272,784\n"
     ]
    }
   ],
   "source": [
    "num_combos = len(words) * len(words)\n",
    "print(f'# combinations of all words = {num_combos:,}')"
   ]
  },
  {
   "cell_type": "code",
   "execution_count": 17,
   "id": "shaped-lebanon",
   "metadata": {},
   "outputs": [],
   "source": [
    "# each evaluation can be represented by a relatively small integer\n",
    "# each position is a 2-bit value totalling a 10-bit integer\n",
    "\n",
    "from typing import List\n",
    "\n",
    "def array_to_integer(array: List[int]) -> int:\n",
    "    \"\"\"\n",
    "    normally our evaluation is represented by a 5-integer array\n",
    "    each item represents whether there is a partial (1) or full (2) match of the guess's letter i\n",
    "    0 denotes absence\n",
    "    we will convert this to an integer\n",
    "    This integer is guaranteed to be between 0 and 4**5\n",
    "    \"\"\"\n",
    "    assert isinstance(array, list)\n",
    "    assert len(array) == 5\n",
    "    v = 0\n",
    "    for i, pos_value in enumerate(array):\n",
    "        v += (4 ** i) * pos_value\n",
    "    return v\n"
   ]
  },
  {
   "cell_type": "code",
   "execution_count": 33,
   "id": "preliminary-pioneer",
   "metadata": {},
   "outputs": [
    {
     "name": "stdout",
     "output_type": "stream",
     "text": [
      "Shape of the matrix: (12972, 12972)\n",
      "Matrix entry type: uint32\n"
     ]
    }
   ],
   "source": [
    "# create the table of possible outcomes\n",
    "\n",
    "import numpy as np\n",
    "from typing import Tuple\n",
    "\n",
    "num_words = len(words)\n",
    "\n",
    "word_range_1 = np.arange(num_words)\n",
    "word_range_2 = np.arange(num_words)\n",
    "\n",
    "# create an nxn matrix\n",
    "# each entry will be an unsigned 32-bit integer\n",
    "# the row will denote the index of the guessing word\n",
    "# the column will denote the index of the answer word\n",
    "# to be honest, we could have done 16-bit and saved some space\n",
    "table = np.empty(shape=(num_words, num_words), dtype='uint32')\n",
    "\n",
    "print(f'Shape of the matrix: {table.shape}')\n",
    "print(f'Matrix entry type: {table.dtype}')\n"
   ]
  },
  {
   "cell_type": "code",
   "execution_count": 21,
   "id": "fifth-hello",
   "metadata": {},
   "outputs": [
    {
     "data": {
      "text/plain": [
       "array([[0, 3, 0, ..., 0, 0, 0],\n",
       "       [0, 0, 0, ..., 0, 0, 0],\n",
       "       [0, 0, 0, ..., 0, 0, 0],\n",
       "       ...,\n",
       "       [0, 0, 0, ..., 0, 0, 0],\n",
       "       [0, 0, 0, ..., 0, 0, 0],\n",
       "       [0, 0, 0, ..., 0, 0, 0]], dtype=uint32)"
      ]
     },
     "execution_count": 21,
     "metadata": {},
     "output_type": "execute_result"
    }
   ],
   "source": [
    "# test indices\n",
    "table[0,1] = 3\n",
    "table"
   ]
  },
  {
   "cell_type": "code",
   "execution_count": 28,
   "id": "structural-outside",
   "metadata": {},
   "outputs": [
    {
     "data": {
      "text/plain": [
       "array([[ 0, 10,  0, ...,  0,  0,  0],\n",
       "       [ 0,  0,  0, ...,  0,  0,  0],\n",
       "       [ 0,  0,  0, ...,  0,  0,  0],\n",
       "       ...,\n",
       "       [ 0,  0,  0, ...,  0,  0,  0],\n",
       "       [ 0,  0,  0, ...,  0,  0,  0],\n",
       "       [ 0,  0,  0, ...,  0,  0,  0]], dtype=uint32)"
      ]
     },
     "execution_count": 28,
     "metadata": {},
     "output_type": "execute_result"
    }
   ],
   "source": [
    "def f_eval_guess(guess_i: int, answer_i: int) -> int:\n",
    "    \"\"\"Return an integer\"\"\"\n",
    "    guess = words[guess_i]\n",
    "    answer = words[answer_i]\n",
    "    rval = UNSAFE_eval_guess(guess=guess, answer=answer)\n",
    "    # the numbers are guaranteed to be 0, 1, 2\n",
    "    return array_to_integer(rval)\n",
    "\n",
    "table[0, 1] = f_eval_guess(0, 1)\n",
    "table"
   ]
  },
  {
   "cell_type": "code",
   "execution_count": 29,
   "id": "specified-mozambique",
   "metadata": {},
   "outputs": [
    {
     "name": "stdout",
     "output_type": "stream",
     "text": [
      "aahed\n",
      "aalii\n"
     ]
    },
    {
     "data": {
      "text/plain": [
       "[2, 2, 0, 0, 0]"
      ]
     },
     "execution_count": 29,
     "metadata": {},
     "output_type": "execute_result"
    }
   ],
   "source": [
    "print(words[0])\n",
    "print(words[1])\n",
    "eval_guess(guess=words[0], answer=words[1])"
   ]
  },
  {
   "cell_type": "code",
   "execution_count": 31,
   "id": "protective-heavy",
   "metadata": {},
   "outputs": [
    {
     "name": "stderr",
     "output_type": "stream",
     "text": [
      "168272784it [08:26, 332052.26it/s]\n"
     ]
    }
   ],
   "source": [
    "# we can convert the entire output to a matrix to save space\n",
    "# however it may take longer\n",
    "\n",
    "combos = itertools.product(word_range_1, word_range_2)\n",
    "\n",
    "for guess_i, answer_i in tqdm(combos):\n",
    "    table[guess_i, answer_i] = f_eval_guess(guess_i, answer_i)\n"
   ]
  },
  {
   "cell_type": "code",
   "execution_count": 32,
   "id": "bronze-beginning",
   "metadata": {},
   "outputs": [],
   "source": [
    "# now save this matrix of hard-won computation\n",
    "\n",
    "np.save('../data-parsed/possibilities-table.npy', table)"
   ]
  },
  {
   "cell_type": "code",
   "execution_count": 36,
   "id": "prescription-landing",
   "metadata": {},
   "outputs": [],
   "source": [
    "# NOTE: for the blog post, this computation took about 8 minutes on a fairly old laptop\n",
    "# I am sure there is a more efficient way to do it, but why?"
   ]
  },
  {
   "cell_type": "markdown",
   "id": "current-moldova",
   "metadata": {},
   "source": [
    "## Shrinking the Possibilities Matrix"
   ]
  },
  {
   "cell_type": "code",
   "execution_count": 68,
   "id": "african-remove",
   "metadata": {},
   "outputs": [],
   "source": [
    "table = np.load('../data-parsed/possibilities-table-base-3.npy')"
   ]
  },
  {
   "cell_type": "code",
   "execution_count": 69,
   "id": "municipal-arena",
   "metadata": {},
   "outputs": [
    {
     "data": {
      "text/plain": [
       "(12972, 12972)"
      ]
     },
     "execution_count": 69,
     "metadata": {},
     "output_type": "execute_result"
    }
   ],
   "source": [
    "table.shape"
   ]
  },
  {
   "cell_type": "code",
   "execution_count": 70,
   "id": "combined-prefix",
   "metadata": {},
   "outputs": [
    {
     "data": {
      "text/plain": [
       "dtype('uint8')"
      ]
     },
     "execution_count": 70,
     "metadata": {},
     "output_type": "execute_result"
    }
   ],
   "source": [
    "table.dtype"
   ]
  },
  {
   "cell_type": "code",
   "execution_count": 75,
   "id": "exempt-newspaper",
   "metadata": {},
   "outputs": [
    {
     "data": {
      "text/html": [
       "<div>\n",
       "<style scoped>\n",
       "    .dataframe tbody tr th:only-of-type {\n",
       "        vertical-align: middle;\n",
       "    }\n",
       "\n",
       "    .dataframe tbody tr th {\n",
       "        vertical-align: top;\n",
       "    }\n",
       "\n",
       "    .dataframe thead th {\n",
       "        text-align: right;\n",
       "    }\n",
       "</style>\n",
       "<table border=\"1\" class=\"dataframe\">\n",
       "  <thead>\n",
       "    <tr style=\"text-align: right;\">\n",
       "      <th></th>\n",
       "      <th>aahed</th>\n",
       "      <th>aalii</th>\n",
       "      <th>aargh</th>\n",
       "      <th>aarti</th>\n",
       "      <th>abaca</th>\n",
       "      <th>abaci</th>\n",
       "      <th>aback</th>\n",
       "      <th>abacs</th>\n",
       "      <th>abaft</th>\n",
       "      <th>abaka</th>\n",
       "      <th>...</th>\n",
       "      <th>zulus</th>\n",
       "      <th>zupan</th>\n",
       "      <th>zupas</th>\n",
       "      <th>zuppa</th>\n",
       "      <th>zurfs</th>\n",
       "      <th>zuzim</th>\n",
       "      <th>zygal</th>\n",
       "      <th>zygon</th>\n",
       "      <th>zymes</th>\n",
       "      <th>zymic</th>\n",
       "    </tr>\n",
       "  </thead>\n",
       "  <tbody>\n",
       "    <tr>\n",
       "      <th>aahed</th>\n",
       "      <td>242</td>\n",
       "      <td>8</td>\n",
       "      <td>17</td>\n",
       "      <td>8</td>\n",
       "      <td>5</td>\n",
       "      <td>5</td>\n",
       "      <td>5</td>\n",
       "      <td>5</td>\n",
       "      <td>5</td>\n",
       "      <td>5</td>\n",
       "      <td>...</td>\n",
       "      <td>0</td>\n",
       "      <td>4</td>\n",
       "      <td>4</td>\n",
       "      <td>4</td>\n",
       "      <td>0</td>\n",
       "      <td>0</td>\n",
       "      <td>4</td>\n",
       "      <td>0</td>\n",
       "      <td>54</td>\n",
       "      <td>0</td>\n",
       "    </tr>\n",
       "    <tr>\n",
       "      <th>aalii</th>\n",
       "      <td>8</td>\n",
       "      <td>242</td>\n",
       "      <td>8</td>\n",
       "      <td>197</td>\n",
       "      <td>5</td>\n",
       "      <td>194</td>\n",
       "      <td>5</td>\n",
       "      <td>5</td>\n",
       "      <td>5</td>\n",
       "      <td>5</td>\n",
       "      <td>...</td>\n",
       "      <td>18</td>\n",
       "      <td>4</td>\n",
       "      <td>4</td>\n",
       "      <td>4</td>\n",
       "      <td>0</td>\n",
       "      <td>135</td>\n",
       "      <td>13</td>\n",
       "      <td>0</td>\n",
       "      <td>0</td>\n",
       "      <td>135</td>\n",
       "    </tr>\n",
       "    <tr>\n",
       "      <th>aargh</th>\n",
       "      <td>89</td>\n",
       "      <td>8</td>\n",
       "      <td>242</td>\n",
       "      <td>26</td>\n",
       "      <td>5</td>\n",
       "      <td>5</td>\n",
       "      <td>5</td>\n",
       "      <td>5</td>\n",
       "      <td>5</td>\n",
       "      <td>5</td>\n",
       "      <td>...</td>\n",
       "      <td>0</td>\n",
       "      <td>4</td>\n",
       "      <td>4</td>\n",
       "      <td>4</td>\n",
       "      <td>18</td>\n",
       "      <td>0</td>\n",
       "      <td>31</td>\n",
       "      <td>27</td>\n",
       "      <td>0</td>\n",
       "      <td>0</td>\n",
       "    </tr>\n",
       "    <tr>\n",
       "      <th>aarti</th>\n",
       "      <td>8</td>\n",
       "      <td>170</td>\n",
       "      <td>26</td>\n",
       "      <td>242</td>\n",
       "      <td>5</td>\n",
       "      <td>167</td>\n",
       "      <td>5</td>\n",
       "      <td>5</td>\n",
       "      <td>32</td>\n",
       "      <td>5</td>\n",
       "      <td>...</td>\n",
       "      <td>0</td>\n",
       "      <td>4</td>\n",
       "      <td>4</td>\n",
       "      <td>4</td>\n",
       "      <td>18</td>\n",
       "      <td>81</td>\n",
       "      <td>4</td>\n",
       "      <td>0</td>\n",
       "      <td>0</td>\n",
       "      <td>81</td>\n",
       "    </tr>\n",
       "    <tr>\n",
       "      <th>abaca</th>\n",
       "      <td>92</td>\n",
       "      <td>92</td>\n",
       "      <td>92</td>\n",
       "      <td>92</td>\n",
       "      <td>242</td>\n",
       "      <td>161</td>\n",
       "      <td>161</td>\n",
       "      <td>161</td>\n",
       "      <td>107</td>\n",
       "      <td>188</td>\n",
       "      <td>...</td>\n",
       "      <td>0</td>\n",
       "      <td>91</td>\n",
       "      <td>91</td>\n",
       "      <td>172</td>\n",
       "      <td>0</td>\n",
       "      <td>0</td>\n",
       "      <td>91</td>\n",
       "      <td>0</td>\n",
       "      <td>0</td>\n",
       "      <td>27</td>\n",
       "    </tr>\n",
       "    <tr>\n",
       "      <th>...</th>\n",
       "      <td>...</td>\n",
       "      <td>...</td>\n",
       "      <td>...</td>\n",
       "      <td>...</td>\n",
       "      <td>...</td>\n",
       "      <td>...</td>\n",
       "      <td>...</td>\n",
       "      <td>...</td>\n",
       "      <td>...</td>\n",
       "      <td>...</td>\n",
       "      <td>...</td>\n",
       "      <td>...</td>\n",
       "      <td>...</td>\n",
       "      <td>...</td>\n",
       "      <td>...</td>\n",
       "      <td>...</td>\n",
       "      <td>...</td>\n",
       "      <td>...</td>\n",
       "      <td>...</td>\n",
       "      <td>...</td>\n",
       "      <td>...</td>\n",
       "    </tr>\n",
       "    <tr>\n",
       "      <th>zuzim</th>\n",
       "      <td>0</td>\n",
       "      <td>54</td>\n",
       "      <td>0</td>\n",
       "      <td>27</td>\n",
       "      <td>0</td>\n",
       "      <td>27</td>\n",
       "      <td>0</td>\n",
       "      <td>0</td>\n",
       "      <td>0</td>\n",
       "      <td>0</td>\n",
       "      <td>...</td>\n",
       "      <td>17</td>\n",
       "      <td>17</td>\n",
       "      <td>17</td>\n",
       "      <td>17</td>\n",
       "      <td>17</td>\n",
       "      <td>242</td>\n",
       "      <td>11</td>\n",
       "      <td>11</td>\n",
       "      <td>92</td>\n",
       "      <td>146</td>\n",
       "    </tr>\n",
       "    <tr>\n",
       "      <th>zygal</th>\n",
       "      <td>27</td>\n",
       "      <td>108</td>\n",
       "      <td>36</td>\n",
       "      <td>27</td>\n",
       "      <td>27</td>\n",
       "      <td>27</td>\n",
       "      <td>27</td>\n",
       "      <td>27</td>\n",
       "      <td>27</td>\n",
       "      <td>27</td>\n",
       "      <td>...</td>\n",
       "      <td>83</td>\n",
       "      <td>56</td>\n",
       "      <td>56</td>\n",
       "      <td>29</td>\n",
       "      <td>2</td>\n",
       "      <td>2</td>\n",
       "      <td>242</td>\n",
       "      <td>26</td>\n",
       "      <td>8</td>\n",
       "      <td>8</td>\n",
       "    </tr>\n",
       "    <tr>\n",
       "      <th>zygon</th>\n",
       "      <td>0</td>\n",
       "      <td>0</td>\n",
       "      <td>9</td>\n",
       "      <td>0</td>\n",
       "      <td>0</td>\n",
       "      <td>0</td>\n",
       "      <td>0</td>\n",
       "      <td>0</td>\n",
       "      <td>0</td>\n",
       "      <td>0</td>\n",
       "      <td>...</td>\n",
       "      <td>2</td>\n",
       "      <td>164</td>\n",
       "      <td>2</td>\n",
       "      <td>2</td>\n",
       "      <td>2</td>\n",
       "      <td>2</td>\n",
       "      <td>26</td>\n",
       "      <td>242</td>\n",
       "      <td>8</td>\n",
       "      <td>8</td>\n",
       "    </tr>\n",
       "    <tr>\n",
       "      <th>zymes</th>\n",
       "      <td>54</td>\n",
       "      <td>0</td>\n",
       "      <td>0</td>\n",
       "      <td>0</td>\n",
       "      <td>0</td>\n",
       "      <td>0</td>\n",
       "      <td>0</td>\n",
       "      <td>162</td>\n",
       "      <td>0</td>\n",
       "      <td>0</td>\n",
       "      <td>...</td>\n",
       "      <td>164</td>\n",
       "      <td>2</td>\n",
       "      <td>164</td>\n",
       "      <td>2</td>\n",
       "      <td>164</td>\n",
       "      <td>11</td>\n",
       "      <td>8</td>\n",
       "      <td>8</td>\n",
       "      <td>242</td>\n",
       "      <td>26</td>\n",
       "    </tr>\n",
       "    <tr>\n",
       "      <th>zymic</th>\n",
       "      <td>0</td>\n",
       "      <td>54</td>\n",
       "      <td>0</td>\n",
       "      <td>27</td>\n",
       "      <td>81</td>\n",
       "      <td>108</td>\n",
       "      <td>81</td>\n",
       "      <td>81</td>\n",
       "      <td>0</td>\n",
       "      <td>0</td>\n",
       "      <td>...</td>\n",
       "      <td>2</td>\n",
       "      <td>2</td>\n",
       "      <td>2</td>\n",
       "      <td>2</td>\n",
       "      <td>2</td>\n",
       "      <td>65</td>\n",
       "      <td>8</td>\n",
       "      <td>8</td>\n",
       "      <td>26</td>\n",
       "      <td>242</td>\n",
       "    </tr>\n",
       "  </tbody>\n",
       "</table>\n",
       "<p>12972 rows × 12972 columns</p>\n",
       "</div>"
      ],
      "text/plain": [
       "       aahed  aalii  aargh  aarti  abaca  abaci  aback  abacs  abaft  abaka  \\\n",
       "aahed    242      8     17      8      5      5      5      5      5      5   \n",
       "aalii      8    242      8    197      5    194      5      5      5      5   \n",
       "aargh     89      8    242     26      5      5      5      5      5      5   \n",
       "aarti      8    170     26    242      5    167      5      5     32      5   \n",
       "abaca     92     92     92     92    242    161    161    161    107    188   \n",
       "...      ...    ...    ...    ...    ...    ...    ...    ...    ...    ...   \n",
       "zuzim      0     54      0     27      0     27      0      0      0      0   \n",
       "zygal     27    108     36     27     27     27     27     27     27     27   \n",
       "zygon      0      0      9      0      0      0      0      0      0      0   \n",
       "zymes     54      0      0      0      0      0      0    162      0      0   \n",
       "zymic      0     54      0     27     81    108     81     81      0      0   \n",
       "\n",
       "       ...  zulus  zupan  zupas  zuppa  zurfs  zuzim  zygal  zygon  zymes  \\\n",
       "aahed  ...      0      4      4      4      0      0      4      0     54   \n",
       "aalii  ...     18      4      4      4      0    135     13      0      0   \n",
       "aargh  ...      0      4      4      4     18      0     31     27      0   \n",
       "aarti  ...      0      4      4      4     18     81      4      0      0   \n",
       "abaca  ...      0     91     91    172      0      0     91      0      0   \n",
       "...    ...    ...    ...    ...    ...    ...    ...    ...    ...    ...   \n",
       "zuzim  ...     17     17     17     17     17    242     11     11     92   \n",
       "zygal  ...     83     56     56     29      2      2    242     26      8   \n",
       "zygon  ...      2    164      2      2      2      2     26    242      8   \n",
       "zymes  ...    164      2    164      2    164     11      8      8    242   \n",
       "zymic  ...      2      2      2      2      2     65      8      8     26   \n",
       "\n",
       "       zymic  \n",
       "aahed      0  \n",
       "aalii    135  \n",
       "aargh      0  \n",
       "aarti     81  \n",
       "abaca     27  \n",
       "...      ...  \n",
       "zuzim    146  \n",
       "zygal      8  \n",
       "zygon      8  \n",
       "zymes     26  \n",
       "zymic    242  \n",
       "\n",
       "[12972 rows x 12972 columns]"
      ]
     },
     "execution_count": 75,
     "metadata": {},
     "output_type": "execute_result"
    }
   ],
   "source": [
    "df = pd.DataFrame(table, index=words, columns=words)\n",
    "df"
   ]
  },
  {
   "cell_type": "code",
   "execution_count": 77,
   "id": "exact-folks",
   "metadata": {},
   "outputs": [],
   "source": [
    "df.to_parquet(\n",
    "    '../data-parsed/possibilities-table-base-3.parquet.br',\n",
    "    engine='pyarrow',\n",
    "    compression='brotli',\n",
    "    index=False,\n",
    ")"
   ]
  },
  {
   "cell_type": "markdown",
   "id": "instant-course",
   "metadata": {},
   "source": [
    "## Evaluating the First Word Candidates\n",
    "\n"
   ]
  },
  {
   "cell_type": "code",
   "execution_count": 2,
   "id": "saved-windows",
   "metadata": {},
   "outputs": [],
   "source": [
    "import numpy as np"
   ]
  },
  {
   "cell_type": "code",
   "execution_count": 4,
   "id": "fixed-princeton",
   "metadata": {},
   "outputs": [],
   "source": [
    "import pandas as pd"
   ]
  },
  {
   "cell_type": "code",
   "execution_count": 3,
   "id": "interim-former",
   "metadata": {},
   "outputs": [
    {
     "name": "stdout",
     "output_type": "stream",
     "text": [
      "(12972, 12972)\n",
      "uint32\n"
     ]
    }
   ],
   "source": [
    "table = np.load('../data-parsed/possibilities-table.npy')\n",
    "print(table.shape)\n",
    "print(table.dtype)"
   ]
  },
  {
   "cell_type": "code",
   "execution_count": 5,
   "id": "developmental-surprise",
   "metadata": {},
   "outputs": [
    {
     "data": {
      "text/plain": [
       "False"
      ]
     },
     "execution_count": 5,
     "metadata": {},
     "output_type": "execute_result"
    }
   ],
   "source": [
    "# is our matrix symmetric?\n",
    "# no, because positioning matters in the way we calculate the values (unfortunately)\n",
    "# if I could do it again, I might use a different value system that is invariant to that\n",
    "\n",
    "np.allclose(table, table.T, rtol=1e-1, atol=1e-1)"
   ]
  },
  {
   "cell_type": "code",
   "execution_count": 14,
   "id": "domestic-respect",
   "metadata": {},
   "outputs": [
    {
     "data": {
      "text/html": [
       "<div>\n",
       "<style scoped>\n",
       "    .dataframe tbody tr th:only-of-type {\n",
       "        vertical-align: middle;\n",
       "    }\n",
       "\n",
       "    .dataframe tbody tr th {\n",
       "        vertical-align: top;\n",
       "    }\n",
       "\n",
       "    .dataframe thead th {\n",
       "        text-align: right;\n",
       "    }\n",
       "</style>\n",
       "<table border=\"1\" class=\"dataframe\">\n",
       "  <thead>\n",
       "    <tr style=\"text-align: right;\">\n",
       "      <th></th>\n",
       "      <th>aahed</th>\n",
       "      <th>aalii</th>\n",
       "      <th>aargh</th>\n",
       "      <th>aarti</th>\n",
       "      <th>abaca</th>\n",
       "      <th>abaci</th>\n",
       "      <th>aback</th>\n",
       "      <th>abacs</th>\n",
       "      <th>abaft</th>\n",
       "      <th>abaka</th>\n",
       "      <th>...</th>\n",
       "      <th>zulus</th>\n",
       "      <th>zupan</th>\n",
       "      <th>zupas</th>\n",
       "      <th>zuppa</th>\n",
       "      <th>zurfs</th>\n",
       "      <th>zuzim</th>\n",
       "      <th>zygal</th>\n",
       "      <th>zygon</th>\n",
       "      <th>zymes</th>\n",
       "      <th>zymic</th>\n",
       "    </tr>\n",
       "  </thead>\n",
       "  <tbody>\n",
       "    <tr>\n",
       "      <th>aahed</th>\n",
       "      <td>682</td>\n",
       "      <td>10</td>\n",
       "      <td>26</td>\n",
       "      <td>10</td>\n",
       "      <td>6</td>\n",
       "      <td>6</td>\n",
       "      <td>6</td>\n",
       "      <td>6</td>\n",
       "      <td>6</td>\n",
       "      <td>6</td>\n",
       "      <td>...</td>\n",
       "      <td>0</td>\n",
       "      <td>5</td>\n",
       "      <td>5</td>\n",
       "      <td>5</td>\n",
       "      <td>0</td>\n",
       "      <td>0</td>\n",
       "      <td>5</td>\n",
       "      <td>0</td>\n",
       "      <td>128</td>\n",
       "      <td>0</td>\n",
       "    </tr>\n",
       "    <tr>\n",
       "      <th>aalii</th>\n",
       "      <td>10</td>\n",
       "      <td>682</td>\n",
       "      <td>10</td>\n",
       "      <td>586</td>\n",
       "      <td>6</td>\n",
       "      <td>582</td>\n",
       "      <td>6</td>\n",
       "      <td>6</td>\n",
       "      <td>6</td>\n",
       "      <td>6</td>\n",
       "      <td>...</td>\n",
       "      <td>32</td>\n",
       "      <td>5</td>\n",
       "      <td>5</td>\n",
       "      <td>5</td>\n",
       "      <td>0</td>\n",
       "      <td>384</td>\n",
       "      <td>21</td>\n",
       "      <td>0</td>\n",
       "      <td>0</td>\n",
       "      <td>384</td>\n",
       "    </tr>\n",
       "    <tr>\n",
       "      <th>aargh</th>\n",
       "      <td>266</td>\n",
       "      <td>10</td>\n",
       "      <td>682</td>\n",
       "      <td>42</td>\n",
       "      <td>6</td>\n",
       "      <td>6</td>\n",
       "      <td>6</td>\n",
       "      <td>6</td>\n",
       "      <td>6</td>\n",
       "      <td>6</td>\n",
       "      <td>...</td>\n",
       "      <td>0</td>\n",
       "      <td>5</td>\n",
       "      <td>5</td>\n",
       "      <td>5</td>\n",
       "      <td>32</td>\n",
       "      <td>0</td>\n",
       "      <td>69</td>\n",
       "      <td>64</td>\n",
       "      <td>0</td>\n",
       "      <td>0</td>\n",
       "    </tr>\n",
       "    <tr>\n",
       "      <th>aarti</th>\n",
       "      <td>10</td>\n",
       "      <td>522</td>\n",
       "      <td>42</td>\n",
       "      <td>682</td>\n",
       "      <td>6</td>\n",
       "      <td>518</td>\n",
       "      <td>6</td>\n",
       "      <td>6</td>\n",
       "      <td>70</td>\n",
       "      <td>6</td>\n",
       "      <td>...</td>\n",
       "      <td>0</td>\n",
       "      <td>5</td>\n",
       "      <td>5</td>\n",
       "      <td>5</td>\n",
       "      <td>32</td>\n",
       "      <td>256</td>\n",
       "      <td>5</td>\n",
       "      <td>0</td>\n",
       "      <td>0</td>\n",
       "      <td>256</td>\n",
       "    </tr>\n",
       "    <tr>\n",
       "      <th>abaca</th>\n",
       "      <td>274</td>\n",
       "      <td>274</td>\n",
       "      <td>274</td>\n",
       "      <td>274</td>\n",
       "      <td>682</td>\n",
       "      <td>426</td>\n",
       "      <td>426</td>\n",
       "      <td>426</td>\n",
       "      <td>298</td>\n",
       "      <td>554</td>\n",
       "      <td>...</td>\n",
       "      <td>0</td>\n",
       "      <td>273</td>\n",
       "      <td>273</td>\n",
       "      <td>529</td>\n",
       "      <td>0</td>\n",
       "      <td>0</td>\n",
       "      <td>273</td>\n",
       "      <td>0</td>\n",
       "      <td>0</td>\n",
       "      <td>64</td>\n",
       "    </tr>\n",
       "    <tr>\n",
       "      <th>...</th>\n",
       "      <td>...</td>\n",
       "      <td>...</td>\n",
       "      <td>...</td>\n",
       "      <td>...</td>\n",
       "      <td>...</td>\n",
       "      <td>...</td>\n",
       "      <td>...</td>\n",
       "      <td>...</td>\n",
       "      <td>...</td>\n",
       "      <td>...</td>\n",
       "      <td>...</td>\n",
       "      <td>...</td>\n",
       "      <td>...</td>\n",
       "      <td>...</td>\n",
       "      <td>...</td>\n",
       "      <td>...</td>\n",
       "      <td>...</td>\n",
       "      <td>...</td>\n",
       "      <td>...</td>\n",
       "      <td>...</td>\n",
       "      <td>...</td>\n",
       "    </tr>\n",
       "    <tr>\n",
       "      <th>zuzim</th>\n",
       "      <td>0</td>\n",
       "      <td>128</td>\n",
       "      <td>0</td>\n",
       "      <td>64</td>\n",
       "      <td>0</td>\n",
       "      <td>64</td>\n",
       "      <td>0</td>\n",
       "      <td>0</td>\n",
       "      <td>0</td>\n",
       "      <td>0</td>\n",
       "      <td>...</td>\n",
       "      <td>26</td>\n",
       "      <td>26</td>\n",
       "      <td>26</td>\n",
       "      <td>26</td>\n",
       "      <td>26</td>\n",
       "      <td>682</td>\n",
       "      <td>18</td>\n",
       "      <td>18</td>\n",
       "      <td>274</td>\n",
       "      <td>402</td>\n",
       "    </tr>\n",
       "    <tr>\n",
       "      <th>zygal</th>\n",
       "      <td>64</td>\n",
       "      <td>320</td>\n",
       "      <td>80</td>\n",
       "      <td>64</td>\n",
       "      <td>64</td>\n",
       "      <td>64</td>\n",
       "      <td>64</td>\n",
       "      <td>64</td>\n",
       "      <td>64</td>\n",
       "      <td>64</td>\n",
       "      <td>...</td>\n",
       "      <td>258</td>\n",
       "      <td>130</td>\n",
       "      <td>130</td>\n",
       "      <td>66</td>\n",
       "      <td>2</td>\n",
       "      <td>2</td>\n",
       "      <td>682</td>\n",
       "      <td>42</td>\n",
       "      <td>10</td>\n",
       "      <td>10</td>\n",
       "    </tr>\n",
       "    <tr>\n",
       "      <th>zygon</th>\n",
       "      <td>0</td>\n",
       "      <td>0</td>\n",
       "      <td>16</td>\n",
       "      <td>0</td>\n",
       "      <td>0</td>\n",
       "      <td>0</td>\n",
       "      <td>0</td>\n",
       "      <td>0</td>\n",
       "      <td>0</td>\n",
       "      <td>0</td>\n",
       "      <td>...</td>\n",
       "      <td>2</td>\n",
       "      <td>514</td>\n",
       "      <td>2</td>\n",
       "      <td>2</td>\n",
       "      <td>2</td>\n",
       "      <td>2</td>\n",
       "      <td>42</td>\n",
       "      <td>682</td>\n",
       "      <td>10</td>\n",
       "      <td>10</td>\n",
       "    </tr>\n",
       "    <tr>\n",
       "      <th>zymes</th>\n",
       "      <td>128</td>\n",
       "      <td>0</td>\n",
       "      <td>0</td>\n",
       "      <td>0</td>\n",
       "      <td>0</td>\n",
       "      <td>0</td>\n",
       "      <td>0</td>\n",
       "      <td>512</td>\n",
       "      <td>0</td>\n",
       "      <td>0</td>\n",
       "      <td>...</td>\n",
       "      <td>514</td>\n",
       "      <td>2</td>\n",
       "      <td>514</td>\n",
       "      <td>2</td>\n",
       "      <td>514</td>\n",
       "      <td>18</td>\n",
       "      <td>10</td>\n",
       "      <td>10</td>\n",
       "      <td>682</td>\n",
       "      <td>42</td>\n",
       "    </tr>\n",
       "    <tr>\n",
       "      <th>zymic</th>\n",
       "      <td>0</td>\n",
       "      <td>128</td>\n",
       "      <td>0</td>\n",
       "      <td>64</td>\n",
       "      <td>256</td>\n",
       "      <td>320</td>\n",
       "      <td>256</td>\n",
       "      <td>256</td>\n",
       "      <td>0</td>\n",
       "      <td>0</td>\n",
       "      <td>...</td>\n",
       "      <td>2</td>\n",
       "      <td>2</td>\n",
       "      <td>2</td>\n",
       "      <td>2</td>\n",
       "      <td>2</td>\n",
       "      <td>146</td>\n",
       "      <td>10</td>\n",
       "      <td>10</td>\n",
       "      <td>42</td>\n",
       "      <td>682</td>\n",
       "    </tr>\n",
       "  </tbody>\n",
       "</table>\n",
       "<p>12972 rows × 12972 columns</p>\n",
       "</div>"
      ],
      "text/plain": [
       "       aahed  aalii  aargh  aarti  abaca  abaci  aback  abacs  abaft  abaka  \\\n",
       "aahed    682     10     26     10      6      6      6      6      6      6   \n",
       "aalii     10    682     10    586      6    582      6      6      6      6   \n",
       "aargh    266     10    682     42      6      6      6      6      6      6   \n",
       "aarti     10    522     42    682      6    518      6      6     70      6   \n",
       "abaca    274    274    274    274    682    426    426    426    298    554   \n",
       "...      ...    ...    ...    ...    ...    ...    ...    ...    ...    ...   \n",
       "zuzim      0    128      0     64      0     64      0      0      0      0   \n",
       "zygal     64    320     80     64     64     64     64     64     64     64   \n",
       "zygon      0      0     16      0      0      0      0      0      0      0   \n",
       "zymes    128      0      0      0      0      0      0    512      0      0   \n",
       "zymic      0    128      0     64    256    320    256    256      0      0   \n",
       "\n",
       "       ...  zulus  zupan  zupas  zuppa  zurfs  zuzim  zygal  zygon  zymes  \\\n",
       "aahed  ...      0      5      5      5      0      0      5      0    128   \n",
       "aalii  ...     32      5      5      5      0    384     21      0      0   \n",
       "aargh  ...      0      5      5      5     32      0     69     64      0   \n",
       "aarti  ...      0      5      5      5     32    256      5      0      0   \n",
       "abaca  ...      0    273    273    529      0      0    273      0      0   \n",
       "...    ...    ...    ...    ...    ...    ...    ...    ...    ...    ...   \n",
       "zuzim  ...     26     26     26     26     26    682     18     18    274   \n",
       "zygal  ...    258    130    130     66      2      2    682     42     10   \n",
       "zygon  ...      2    514      2      2      2      2     42    682     10   \n",
       "zymes  ...    514      2    514      2    514     18     10     10    682   \n",
       "zymic  ...      2      2      2      2      2    146     10     10     42   \n",
       "\n",
       "       zymic  \n",
       "aahed      0  \n",
       "aalii    384  \n",
       "aargh      0  \n",
       "aarti    256  \n",
       "abaca     64  \n",
       "...      ...  \n",
       "zuzim    402  \n",
       "zygal     10  \n",
       "zygon     10  \n",
       "zymes     42  \n",
       "zymic    682  \n",
       "\n",
       "[12972 rows x 12972 columns]"
      ]
     },
     "execution_count": 14,
     "metadata": {},
     "output_type": "execute_result"
    }
   ],
   "source": [
    "# after this, we go through the table and reverse it to get the list of possibilities for each guess\n",
    "# for each (guess, possibility) what's the number of answers for that guess?\n",
    "\n",
    "# NOTE: indexes are rows (guesses)\n",
    "# columns are answers\n",
    "\n",
    "df = pd.DataFrame(table, index=words, columns=words)\n",
    "df"
   ]
  },
  {
   "cell_type": "code",
   "execution_count": 15,
   "id": "instant-motel",
   "metadata": {},
   "outputs": [
    {
     "data": {
      "text/plain": [
       "[0, 0, 1, 0, 0]"
      ]
     },
     "execution_count": 15,
     "metadata": {},
     "output_type": "execute_result"
    }
   ],
   "source": [
    "def integer_to_arr(rval: int):\n",
    "    arr = [0] * 5\n",
    "    \n",
    "    for i in range(5, -1, -1):\n",
    "        # the number at position i\n",
    "        # should be a value between 0-3\n",
    "        if rval >= (4 ** i):\n",
    "            rem = rval % (4 ** i)\n",
    "            pos_value = int((rval - rem) / (4 ** i))\n",
    "            arr[i] = pos_value\n",
    "            rval -= arr[i] * (4 ** i)\n",
    "    return arr\n",
    "\n",
    "integer_to_arr(16)"
   ]
  },
  {
   "cell_type": "code",
   "execution_count": 16,
   "id": "after-auckland",
   "metadata": {},
   "outputs": [
    {
     "name": "stdout",
     "output_type": "stream",
     "text": [
      "769\n",
      "16 -> 769\n"
     ]
    }
   ],
   "source": [
    "# we guess soare\n",
    "# what are the various frequencies\n",
    "\n",
    "x = df.loc['soare'].value_counts().to_dict()\n",
    "m = max(x.values())\n",
    "print(m)\n",
    "# the max count for each return value is 769\n",
    "\n",
    "for rval, count in x.items():\n",
    "    # specifically, 16\n",
    "    if count >= m:\n",
    "        print(f\"{rval} -> {count}\")"
   ]
  },
  {
   "cell_type": "code",
   "execution_count": 17,
   "id": "satisfactory-marijuana",
   "metadata": {},
   "outputs": [
    {
     "data": {
      "text/plain": [
       "aalii    16\n",
       "abuna    16\n",
       "abuzz    16\n",
       "acidy    16\n",
       "acing    16\n",
       "         ..\n",
       "zigan    16\n",
       "zilla    16\n",
       "zupan    16\n",
       "zuppa    16\n",
       "zygal    16\n",
       "Name: soare, Length: 769, dtype: uint32"
      ]
     },
     "execution_count": 17,
     "metadata": {},
     "output_type": "execute_result"
    }
   ],
   "source": [
    "df.loc['soare'][df.loc['soare'] == 16]"
   ]
  },
  {
   "cell_type": "code",
   "execution_count": 18,
   "id": "purple-lightning",
   "metadata": {
    "collapsed": true,
    "jupyter": {
     "outputs_hidden": true
    }
   },
   "outputs": [
    {
     "name": "stdout",
     "output_type": "stream",
     "text": [
      "[0, 0, 1, 0, 0] -> 769\n",
      "[1, 0, 0, 0, 1] -> 640\n",
      "[0, 0, 0, 0, 1] -> 608\n",
      "[1, 0, 1, 0, 0] -> 601\n",
      "[0, 0, 0, 0, 0] -> 577\n",
      "[1, 0, 0, 0, 0] -> 505\n",
      "[0, 0, 0, 1, 1] -> 401\n",
      "[1, 2, 0, 0, 0] -> 400\n",
      "[0, 2, 0, 0, 0] -> 369\n",
      "[0, 0, 1, 0, 1] -> 349\n",
      "[0, 0, 0, 0, 2] -> 302\n",
      "[0, 0, 1, 1, 1] -> 257\n",
      "[0, 1, 0, 0, 0] -> 254\n",
      "[0, 0, 1, 1, 0] -> 251\n",
      "[2, 0, 0, 0, 0] -> 231\n",
      "[1, 0, 1, 0, 1] -> 219\n",
      "[2, 0, 0, 0, 1] -> 211\n",
      "[1, 0, 0, 1, 1] -> 198\n",
      "[0, 1, 1, 0, 0] -> 195\n",
      "[1, 0, 0, 1, 0] -> 178\n",
      "[0, 2, 0, 0, 1] -> 177\n",
      "[0, 0, 0, 1, 0] -> 175\n",
      "[1, 1, 0, 0, 0] -> 170\n",
      "[0, 0, 2, 0, 0] -> 168\n",
      "[1, 0, 1, 1, 0] -> 161\n",
      "[0, 0, 1, 0, 2] -> 156\n",
      "[2, 0, 2, 0, 0] -> 155\n",
      "[1, 0, 2, 0, 0] -> 149\n",
      "[0, 1, 0, 1, 0] -> 143\n",
      "[2, 1, 0, 0, 0] -> 141\n",
      "[1, 2, 0, 0, 1] -> 138\n",
      "[0, 2, 1, 0, 0] -> 132\n",
      "[0, 2, 0, 0, 2] -> 128\n",
      "[0, 0, 0, 1, 2] -> 127\n",
      "[0, 1, 0, 0, 1] -> 123\n",
      "[2, 0, 1, 0, 0] -> 119\n",
      "[0, 0, 2, 1, 0] -> 107\n",
      "[1, 2, 0, 1, 0] -> 91\n",
      "[0, 2, 0, 1, 1] -> 88\n",
      "[0, 2, 0, 1, 0] -> 80\n",
      "[1, 1, 1, 0, 0] -> 80\n",
      "[0, 1, 1, 1, 0] -> 79\n",
      "[0, 0, 1, 2, 0] -> 74\n",
      "[2, 0, 0, 0, 2] -> 74\n",
      "[0, 0, 2, 0, 2] -> 72\n",
      "[1, 0, 2, 0, 1] -> 70\n",
      "[2, 0, 1, 0, 1] -> 66\n",
      "[1, 1, 0, 1, 0] -> 66\n",
      "[1, 0, 2, 1, 0] -> 66\n",
      "[0, 1, 0, 1, 1] -> 64\n",
      "[0, 1, 0, 0, 2] -> 62\n",
      "[1, 0, 1, 1, 1] -> 61\n",
      "[1, 1, 0, 0, 1] -> 60\n",
      "[2, 2, 0, 0, 0] -> 57\n",
      "[2, 0, 0, 1, 1] -> 56\n",
      "[0, 0, 1, 1, 2] -> 56\n",
      "[0, 2, 1, 1, 0] -> 54\n",
      "[0, 0, 2, 0, 1] -> 51\n",
      "[1, 0, 0, 0, 2] -> 49\n",
      "[0, 0, 0, 2, 0] -> 46\n",
      "[0, 0, 0, 2, 1] -> 44\n",
      "[0, 0, 2, 2, 0] -> 43\n",
      "[0, 0, 2, 1, 2] -> 39\n",
      "[1, 2, 1, 0, 0] -> 39\n",
      "[2, 0, 1, 1, 0] -> 39\n",
      "[1, 0, 1, 0, 2] -> 36\n",
      "[2, 0, 2, 0, 2] -> 35\n",
      "[0, 1, 0, 1, 2] -> 34\n",
      "[1, 0, 0, 2, 1] -> 34\n",
      "[0, 2, 0, 1, 2] -> 31\n",
      "[1, 2, 0, 1, 1] -> 31\n",
      "[2, 0, 2, 2, 0] -> 31\n",
      "[1, 2, 0, 0, 2] -> 30\n",
      "[0, 2, 0, 2, 0] -> 29\n",
      "[1, 2, 2, 0, 0] -> 29\n",
      "[2, 0, 0, 2, 0] -> 28\n",
      "[0, 1, 0, 2, 0] -> 28\n",
      "[0, 0, 0, 2, 2] -> 28\n",
      "[2, 0, 0, 1, 0] -> 27\n",
      "[2, 1, 1, 0, 0] -> 27\n",
      "[1, 0, 0, 1, 2] -> 24\n",
      "[0, 0, 1, 2, 2] -> 23\n",
      "[0, 1, 1, 0, 2] -> 23\n",
      "[1, 1, 0, 1, 1] -> 22\n",
      "[1, 0, 2, 2, 0] -> 22\n",
      "[2, 0, 1, 1, 1] -> 21\n",
      "[2, 1, 0, 0, 2] -> 21\n",
      "[1, 0, 0, 2, 0] -> 20\n",
      "[1, 0, 1, 2, 0] -> 20\n",
      "[1, 2, 0, 2, 0] -> 20\n",
      "[0, 0, 2, 2, 2] -> 19\n",
      "[0, 1, 2, 0, 0] -> 19\n",
      "[0, 2, 2, 0, 0] -> 19\n",
      "[2, 1, 0, 0, 1] -> 18\n",
      "[2, 1, 0, 1, 0] -> 18\n",
      "[0, 1, 1, 2, 0] -> 16\n",
      "[2, 2, 0, 0, 2] -> 16\n",
      "[0, 0, 2, 2, 1] -> 16\n",
      "[1, 0, 2, 0, 2] -> 15\n",
      "[0, 0, 1, 2, 1] -> 15\n",
      "[2, 1, 0, 2, 0] -> 15\n",
      "[1, 1, 1, 1, 0] -> 15\n",
      "[2, 0, 1, 0, 2] -> 13\n",
      "[0, 1, 0, 2, 1] -> 13\n",
      "[0, 1, 1, 0, 1] -> 13\n",
      "[2, 2, 1, 0, 0] -> 13\n",
      "[2, 0, 0, 2, 2] -> 12\n",
      "[2, 0, 0, 2, 1] -> 12\n",
      "[1, 0, 2, 2, 1] -> 12\n",
      "[0, 1, 0, 2, 2] -> 11\n",
      "[1, 1, 2, 0, 0] -> 11\n",
      "[2, 2, 0, 1, 0] -> 10\n",
      "[0, 2, 1, 2, 0] -> 10\n",
      "[0, 0, 2, 1, 1] -> 10\n",
      "[1, 2, 0, 1, 2] -> 9\n",
      "[1, 0, 2, 1, 1] -> 9\n",
      "[2, 2, 0, 0, 1] -> 9\n",
      "[2, 0, 1, 2, 0] -> 9\n",
      "[1, 2, 1, 1, 0] -> 9\n",
      "[2, 2, 0, 1, 1] -> 9\n",
      "[2, 2, 1, 1, 0] -> 8\n",
      "[0, 2, 1, 0, 2] -> 8\n",
      "[1, 0, 1, 1, 2] -> 8\n",
      "[2, 0, 2, 0, 1] -> 8\n",
      "[0, 2, 2, 2, 0] -> 7\n",
      "[2, 1, 0, 2, 2] -> 7\n",
      "[2, 0, 2, 2, 2] -> 7\n",
      "[2, 0, 0, 1, 2] -> 7\n",
      "[1, 1, 0, 2, 1] -> 6\n",
      "[0, 2, 1, 0, 1] -> 6\n",
      "[1, 0, 1, 2, 1] -> 6\n",
      "[0, 1, 1, 1, 1] -> 6\n",
      "[0, 1, 2, 1, 0] -> 6\n",
      "[2, 1, 0, 1, 1] -> 5\n",
      "[0, 2, 0, 2, 2] -> 5\n",
      "[1, 1, 0, 0, 2] -> 5\n",
      "[1, 1, 1, 0, 1] -> 5\n",
      "[2, 1, 1, 1, 0] -> 5\n",
      "[1, 2, 0, 2, 1] -> 4\n",
      "[2, 0, 1, 1, 2] -> 4\n",
      "[1, 2, 2, 2, 0] -> 4\n",
      "[1, 2, 2, 1, 0] -> 4\n",
      "[0, 2, 2, 0, 2] -> 4\n",
      "[1, 0, 2, 1, 2] -> 3\n",
      "[1, 1, 0, 1, 2] -> 3\n",
      "[2, 2, 2, 0, 0] -> 3\n",
      "[1, 1, 0, 2, 0] -> 3\n",
      "[0, 1, 1, 2, 2] -> 3\n",
      "[1, 1, 2, 1, 0] -> 3\n",
      "[0, 1, 2, 2, 0] -> 3\n",
      "[0, 2, 1, 1, 2] -> 2\n",
      "[0, 2, 2, 0, 1] -> 2\n",
      "[1, 1, 1, 2, 0] -> 2\n",
      "[2, 2, 1, 2, 0] -> 2\n",
      "[2, 1, 2, 0, 0] -> 2\n",
      "[2, 2, 0, 2, 0] -> 2\n",
      "[2, 0, 2, 1, 0] -> 2\n",
      "[1, 2, 1, 0, 1] -> 2\n",
      "[2, 0, 2, 1, 1] -> 1\n",
      "[2, 2, 2, 2, 0] -> 1\n",
      "[2, 1, 0, 2, 1] -> 1\n",
      "[2, 0, 1, 2, 1] -> 1\n",
      "[0, 2, 2, 1, 0] -> 1\n",
      "[2, 1, 1, 0, 2] -> 1\n",
      "[1, 1, 1, 1, 2] -> 1\n",
      "[2, 2, 2, 2, 2] -> 1\n",
      "[1, 1, 1, 0, 2] -> 1\n",
      "[1, 1, 1, 1, 1] -> 1\n",
      "[2, 0, 2, 2, 1] -> 1\n",
      "[0, 2, 2, 1, 2] -> 1\n",
      "[0, 1, 2, 1, 2] -> 1\n",
      "[0, 1, 2, 0, 2] -> 1\n",
      "[2, 2, 2, 0, 2] -> 1\n",
      "[0, 1, 2, 1, 1] -> 1\n",
      "[0, 1, 2, 0, 1] -> 1\n",
      "[2, 2, 0, 1, 2] -> 1\n",
      "[2, 0, 1, 2, 2] -> 1\n",
      "[1, 0, 0, 2, 2] -> 1\n",
      "[0, 1, 1, 2, 1] -> 1\n"
     ]
    }
   ],
   "source": [
    "for rval, count in x.items():\n",
    "    arr = integer_to_arr(rval)\n",
    "    print(f'{arr} -> {count}')"
   ]
  },
  {
   "cell_type": "markdown",
   "id": "grave-lloyd",
   "metadata": {},
   "source": [
    "### Mean Partition"
   ]
  },
  {
   "cell_type": "code",
   "execution_count": 27,
   "id": "senior-stretch",
   "metadata": {},
   "outputs": [],
   "source": [
    "def get_mean_partition(row) -> int:\n",
    "    x = row.value_counts().to_dict()\n",
    "    arr = np.array([v for v in x.values()])\n",
    "    m = np.mean(arr)\n",
    "    return m\n",
    "\n",
    "mean_part_df = df.apply(get_mean_partition, axis=1)"
   ]
  },
  {
   "cell_type": "code",
   "execution_count": 29,
   "id": "stunning-honey",
   "metadata": {},
   "outputs": [
    {
     "data": {
      "text/html": [
       "<div>\n",
       "<style scoped>\n",
       "    .dataframe tbody tr th:only-of-type {\n",
       "        vertical-align: middle;\n",
       "    }\n",
       "\n",
       "    .dataframe tbody tr th {\n",
       "        vertical-align: top;\n",
       "    }\n",
       "\n",
       "    .dataframe thead th {\n",
       "        text-align: right;\n",
       "    }\n",
       "</style>\n",
       "<table border=\"1\" class=\"dataframe\">\n",
       "  <thead>\n",
       "    <tr style=\"text-align: right;\">\n",
       "      <th></th>\n",
       "      <th>mean_partition</th>\n",
       "    </tr>\n",
       "  </thead>\n",
       "  <tbody>\n",
       "    <tr>\n",
       "      <th>aahed</th>\n",
       "      <td>147.409091</td>\n",
       "    </tr>\n",
       "    <tr>\n",
       "      <th>aalii</th>\n",
       "      <td>249.461538</td>\n",
       "    </tr>\n",
       "    <tr>\n",
       "      <th>aargh</th>\n",
       "      <td>156.289157</td>\n",
       "    </tr>\n",
       "    <tr>\n",
       "      <th>aarti</th>\n",
       "      <td>128.435644</td>\n",
       "    </tr>\n",
       "    <tr>\n",
       "      <th>abaca</th>\n",
       "      <td>249.461538</td>\n",
       "    </tr>\n",
       "    <tr>\n",
       "      <th>...</th>\n",
       "      <td>...</td>\n",
       "    </tr>\n",
       "    <tr>\n",
       "      <th>zuzim</th>\n",
       "      <td>212.655738</td>\n",
       "    </tr>\n",
       "    <tr>\n",
       "      <th>zygal</th>\n",
       "      <td>127.176471</td>\n",
       "    </tr>\n",
       "    <tr>\n",
       "      <th>zygon</th>\n",
       "      <td>136.547368</td>\n",
       "    </tr>\n",
       "    <tr>\n",
       "      <th>zymes</th>\n",
       "      <td>112.800000</td>\n",
       "    </tr>\n",
       "    <tr>\n",
       "      <th>zymic</th>\n",
       "      <td>150.837209</td>\n",
       "    </tr>\n",
       "  </tbody>\n",
       "</table>\n",
       "<p>12972 rows × 1 columns</p>\n",
       "</div>"
      ],
      "text/plain": [
       "       mean_partition\n",
       "aahed      147.409091\n",
       "aalii      249.461538\n",
       "aargh      156.289157\n",
       "aarti      128.435644\n",
       "abaca      249.461538\n",
       "...               ...\n",
       "zuzim      212.655738\n",
       "zygal      127.176471\n",
       "zygon      136.547368\n",
       "zymes      112.800000\n",
       "zymic      150.837209\n",
       "\n",
       "[12972 rows x 1 columns]"
      ]
     },
     "execution_count": 29,
     "metadata": {},
     "output_type": "execute_result"
    }
   ],
   "source": [
    "mean_part_df = pd.DataFrame(mean_part_df, columns=['mean_partition'])\n",
    "mean_part_df"
   ]
  },
  {
   "cell_type": "code",
   "execution_count": 30,
   "id": "invisible-fantasy",
   "metadata": {},
   "outputs": [
    {
     "data": {
      "text/plain": [
       "61.18867924528302"
      ]
     },
     "execution_count": 30,
     "metadata": {},
     "output_type": "execute_result"
    }
   ],
   "source": [
    "mean_part_df.mean_partition.min()"
   ]
  },
  {
   "cell_type": "code",
   "execution_count": 31,
   "id": "affecting-profit",
   "metadata": {},
   "outputs": [
    {
     "data": {
      "text/html": [
       "<div>\n",
       "<style scoped>\n",
       "    .dataframe tbody tr th:only-of-type {\n",
       "        vertical-align: middle;\n",
       "    }\n",
       "\n",
       "    .dataframe tbody tr th {\n",
       "        vertical-align: top;\n",
       "    }\n",
       "\n",
       "    .dataframe thead th {\n",
       "        text-align: right;\n",
       "    }\n",
       "</style>\n",
       "<table border=\"1\" class=\"dataframe\">\n",
       "  <thead>\n",
       "    <tr style=\"text-align: right;\">\n",
       "      <th></th>\n",
       "      <th>mean_partition</th>\n",
       "    </tr>\n",
       "  </thead>\n",
       "  <tbody>\n",
       "    <tr>\n",
       "      <th>tares</th>\n",
       "      <td>61.188679</td>\n",
       "    </tr>\n",
       "  </tbody>\n",
       "</table>\n",
       "</div>"
      ],
      "text/plain": [
       "       mean_partition\n",
       "tares       61.188679"
      ]
     },
     "execution_count": 31,
     "metadata": {},
     "output_type": "execute_result"
    }
   ],
   "source": [
    "mean_part_df[mean_part_df.mean_partition < 62]"
   ]
  },
  {
   "cell_type": "code",
   "execution_count": 35,
   "id": "growing-legislature",
   "metadata": {},
   "outputs": [
    {
     "data": {
      "text/html": [
       "<div>\n",
       "<style scoped>\n",
       "    .dataframe tbody tr th:only-of-type {\n",
       "        vertical-align: middle;\n",
       "    }\n",
       "\n",
       "    .dataframe tbody tr th {\n",
       "        vertical-align: top;\n",
       "    }\n",
       "\n",
       "    .dataframe thead th {\n",
       "        text-align: right;\n",
       "    }\n",
       "</style>\n",
       "<table border=\"1\" class=\"dataframe\">\n",
       "  <thead>\n",
       "    <tr style=\"text-align: right;\">\n",
       "      <th></th>\n",
       "      <th>mean_partition</th>\n",
       "    </tr>\n",
       "  </thead>\n",
       "  <tbody>\n",
       "    <tr>\n",
       "      <th>tares</th>\n",
       "      <td>61.188679</td>\n",
       "    </tr>\n",
       "    <tr>\n",
       "      <th>teras</th>\n",
       "      <td>62.066986</td>\n",
       "    </tr>\n",
       "    <tr>\n",
       "      <th>tears</th>\n",
       "      <td>63.588235</td>\n",
       "    </tr>\n",
       "    <tr>\n",
       "      <th>pelas</th>\n",
       "      <td>64.217822</td>\n",
       "    </tr>\n",
       "    <tr>\n",
       "      <th>pares</th>\n",
       "      <td>64.537313</td>\n",
       "    </tr>\n",
       "    <tr>\n",
       "      <th>...</th>\n",
       "      <td>...</td>\n",
       "    </tr>\n",
       "    <tr>\n",
       "      <th>fleas</th>\n",
       "      <td>74.982659</td>\n",
       "    </tr>\n",
       "    <tr>\n",
       "      <th>saber</th>\n",
       "      <td>74.982659</td>\n",
       "    </tr>\n",
       "    <tr>\n",
       "      <th>glias</th>\n",
       "      <td>74.982659</td>\n",
       "    </tr>\n",
       "    <tr>\n",
       "      <th>dearn</th>\n",
       "      <td>74.982659</td>\n",
       "    </tr>\n",
       "    <tr>\n",
       "      <th>wiels</th>\n",
       "      <td>74.982659</td>\n",
       "    </tr>\n",
       "  </tbody>\n",
       "</table>\n",
       "<p>642 rows × 1 columns</p>\n",
       "</div>"
      ],
      "text/plain": [
       "       mean_partition\n",
       "tares       61.188679\n",
       "teras       62.066986\n",
       "tears       63.588235\n",
       "pelas       64.217822\n",
       "pares       64.537313\n",
       "...               ...\n",
       "fleas       74.982659\n",
       "saber       74.982659\n",
       "glias       74.982659\n",
       "dearn       74.982659\n",
       "wiels       74.982659\n",
       "\n",
       "[642 rows x 1 columns]"
      ]
     },
     "execution_count": 35,
     "metadata": {},
     "output_type": "execute_result"
    }
   ],
   "source": [
    "mean_part_df[mean_part_df.mean_partition < 75].sort_values('mean_partition')"
   ]
  },
  {
   "cell_type": "code",
   "execution_count": 37,
   "id": "complex-surgeon",
   "metadata": {},
   "outputs": [
    {
     "data": {
      "text/plain": [
       "mean_partition    74.982659\n",
       "Name: serai, dtype: float64"
      ]
     },
     "execution_count": 37,
     "metadata": {},
     "output_type": "execute_result"
    }
   ],
   "source": [
    "mean_part_df.loc['serai']"
   ]
  },
  {
   "cell_type": "code",
   "execution_count": 59,
   "id": "laughing-behalf",
   "metadata": {},
   "outputs": [
    {
     "data": {
      "text/plain": [
       "mean_partition    72.066667\n",
       "Name: arise, dtype: float64"
      ]
     },
     "execution_count": 59,
     "metadata": {},
     "output_type": "execute_result"
    }
   ],
   "source": [
    "mean_part_df.loc['arise']"
   ]
  },
  {
   "cell_type": "code",
   "execution_count": 60,
   "id": "patient-leave",
   "metadata": {},
   "outputs": [
    {
     "data": {
      "text/plain": [
       "mean_partition    77.676647\n",
       "Name: aesir, dtype: float64"
      ]
     },
     "execution_count": 60,
     "metadata": {},
     "output_type": "execute_result"
    }
   ],
   "source": [
    "mean_part_df.loc['aesir']"
   ]
  },
  {
   "cell_type": "code",
   "execution_count": 65,
   "id": "interior-mongolia",
   "metadata": {},
   "outputs": [
    {
     "data": {
      "text/plain": [
       "mean_partition    qajaq\n",
       "dtype: object"
      ]
     },
     "execution_count": 65,
     "metadata": {},
     "output_type": "execute_result"
    }
   ],
   "source": [
    "mean_part_df.idxmax()"
   ]
  },
  {
   "cell_type": "markdown",
   "id": "concerned-marks",
   "metadata": {},
   "source": [
    "### Worst Partitions"
   ]
  },
  {
   "cell_type": "code",
   "execution_count": 19,
   "id": "brazilian-shannon",
   "metadata": {},
   "outputs": [],
   "source": [
    "def get_worst_partition(row) -> int:\n",
    "    x = row.value_counts().to_dict()\n",
    "    m = max(x.values())\n",
    "    return m\n",
    "\n",
    "# apply function to each row\n",
    "part_df = df.apply(get_worst_partition, axis=1)"
   ]
  },
  {
   "cell_type": "code",
   "execution_count": 20,
   "id": "accepted-amplifier",
   "metadata": {},
   "outputs": [
    {
     "data": {
      "text/html": [
       "<div>\n",
       "<style scoped>\n",
       "    .dataframe tbody tr th:only-of-type {\n",
       "        vertical-align: middle;\n",
       "    }\n",
       "\n",
       "    .dataframe tbody tr th {\n",
       "        vertical-align: top;\n",
       "    }\n",
       "\n",
       "    .dataframe thead th {\n",
       "        text-align: right;\n",
       "    }\n",
       "</style>\n",
       "<table border=\"1\" class=\"dataframe\">\n",
       "  <thead>\n",
       "    <tr style=\"text-align: right;\">\n",
       "      <th></th>\n",
       "      <th>worst_partition</th>\n",
       "    </tr>\n",
       "  </thead>\n",
       "  <tbody>\n",
       "    <tr>\n",
       "      <th>aahed</th>\n",
       "      <td>2543</td>\n",
       "    </tr>\n",
       "    <tr>\n",
       "      <th>aalii</th>\n",
       "      <td>3890</td>\n",
       "    </tr>\n",
       "    <tr>\n",
       "      <th>aargh</th>\n",
       "      <td>3955</td>\n",
       "    </tr>\n",
       "    <tr>\n",
       "      <th>aarti</th>\n",
       "      <td>2609</td>\n",
       "    </tr>\n",
       "    <tr>\n",
       "      <th>abaca</th>\n",
       "      <td>5655</td>\n",
       "    </tr>\n",
       "    <tr>\n",
       "      <th>...</th>\n",
       "      <td>...</td>\n",
       "    </tr>\n",
       "    <tr>\n",
       "      <th>zuzim</th>\n",
       "      <td>6081</td>\n",
       "    </tr>\n",
       "    <tr>\n",
       "      <th>zygal</th>\n",
       "      <td>4070</td>\n",
       "    </tr>\n",
       "    <tr>\n",
       "      <th>zygon</th>\n",
       "      <td>5081</td>\n",
       "    </tr>\n",
       "    <tr>\n",
       "      <th>zymes</th>\n",
       "      <td>2113</td>\n",
       "    </tr>\n",
       "    <tr>\n",
       "      <th>zymic</th>\n",
       "      <td>5269</td>\n",
       "    </tr>\n",
       "  </tbody>\n",
       "</table>\n",
       "<p>12972 rows × 1 columns</p>\n",
       "</div>"
      ],
      "text/plain": [
       "       worst_partition\n",
       "aahed             2543\n",
       "aalii             3890\n",
       "aargh             3955\n",
       "aarti             2609\n",
       "abaca             5655\n",
       "...                ...\n",
       "zuzim             6081\n",
       "zygal             4070\n",
       "zygon             5081\n",
       "zymes             2113\n",
       "zymic             5269\n",
       "\n",
       "[12972 rows x 1 columns]"
      ]
     },
     "execution_count": 20,
     "metadata": {},
     "output_type": "execute_result"
    }
   ],
   "source": [
    "part_df = pd.DataFrame(part_df, columns=['worst_partition'])\n",
    "part_df"
   ]
  },
  {
   "cell_type": "code",
   "execution_count": 21,
   "id": "burning-aquarium",
   "metadata": {},
   "outputs": [
    {
     "data": {
      "text/plain": [
       "697"
      ]
     },
     "execution_count": 21,
     "metadata": {},
     "output_type": "execute_result"
    }
   ],
   "source": [
    "part_df.worst_partition.min()"
   ]
  },
  {
   "cell_type": "code",
   "execution_count": 22,
   "id": "pregnant-video",
   "metadata": {},
   "outputs": [
    {
     "data": {
      "text/html": [
       "<div>\n",
       "<style scoped>\n",
       "    .dataframe tbody tr th:only-of-type {\n",
       "        vertical-align: middle;\n",
       "    }\n",
       "\n",
       "    .dataframe tbody tr th {\n",
       "        vertical-align: top;\n",
       "    }\n",
       "\n",
       "    .dataframe thead th {\n",
       "        text-align: right;\n",
       "    }\n",
       "</style>\n",
       "<table border=\"1\" class=\"dataframe\">\n",
       "  <thead>\n",
       "    <tr style=\"text-align: right;\">\n",
       "      <th></th>\n",
       "      <th>worst_partition</th>\n",
       "    </tr>\n",
       "  </thead>\n",
       "  <tbody>\n",
       "    <tr>\n",
       "      <th>serai</th>\n",
       "      <td>697</td>\n",
       "    </tr>\n",
       "  </tbody>\n",
       "</table>\n",
       "</div>"
      ],
      "text/plain": [
       "       worst_partition\n",
       "serai              697"
      ]
     },
     "execution_count": 22,
     "metadata": {},
     "output_type": "execute_result"
    }
   ],
   "source": [
    "part_df[part_df.worst_partition == 697]"
   ]
  },
  {
   "cell_type": "code",
   "execution_count": 23,
   "id": "heard-above",
   "metadata": {},
   "outputs": [
    {
     "data": {
      "text/plain": [
       "worst_partition    2.451937\n",
       "Name: adieu, dtype: float64"
      ]
     },
     "execution_count": 23,
     "metadata": {},
     "output_type": "execute_result"
    }
   ],
   "source": [
    "part_df.loc['adieu'] / 697"
   ]
  },
  {
   "cell_type": "code",
   "execution_count": 24,
   "id": "local-commander",
   "metadata": {},
   "outputs": [
    {
     "data": {
      "text/plain": [
       "worst_partition    1.265423\n",
       "Name: arise, dtype: float64"
      ]
     },
     "execution_count": 24,
     "metadata": {},
     "output_type": "execute_result"
    }
   ],
   "source": [
    "part_df.loc['arise'] / 697"
   ]
  },
  {
   "cell_type": "code",
   "execution_count": 38,
   "id": "chinese-gravity",
   "metadata": {},
   "outputs": [
    {
     "data": {
      "text/plain": [
       "worst_partition    858\n",
       "Name: tares, dtype: int64"
      ]
     },
     "execution_count": 38,
     "metadata": {},
     "output_type": "execute_result"
    }
   ],
   "source": [
    "part_df.loc['tares']"
   ]
  },
  {
   "cell_type": "code",
   "execution_count": 62,
   "id": "juvenile-candy",
   "metadata": {},
   "outputs": [
    {
     "data": {
      "text/plain": [
       "worst_partition    868\n",
       "Name: aesir, dtype: int64"
      ]
     },
     "execution_count": 62,
     "metadata": {},
     "output_type": "execute_result"
    }
   ],
   "source": [
    "part_df.loc['aesir']"
   ]
  },
  {
   "cell_type": "code",
   "execution_count": 63,
   "id": "therapeutic-vegetation",
   "metadata": {},
   "outputs": [
    {
     "data": {
      "text/plain": [
       "worst_partition    882\n",
       "Name: arise, dtype: int64"
      ]
     },
     "execution_count": 63,
     "metadata": {},
     "output_type": "execute_result"
    }
   ],
   "source": [
    "part_df.loc['arise']"
   ]
  },
  {
   "cell_type": "code",
   "execution_count": 64,
   "id": "computational-cycling",
   "metadata": {},
   "outputs": [
    {
     "data": {
      "text/plain": [
       "worst_partition    gyppy\n",
       "dtype: object"
      ]
     },
     "execution_count": 64,
     "metadata": {},
     "output_type": "execute_result"
    }
   ],
   "source": [
    "part_df.idxmax()"
   ]
  },
  {
   "cell_type": "markdown",
   "id": "binding-triangle",
   "metadata": {},
   "source": [
    "## Solver Evaluation"
   ]
  },
  {
   "cell_type": "code",
   "execution_count": 55,
   "id": "nearby-origin",
   "metadata": {},
   "outputs": [],
   "source": [
    "fp = open('../data-parsed/solver-eval-past-answers.json', 'r')\n",
    "import json\n",
    "d = json.load(fp)\n",
    "fp.close()"
   ]
  },
  {
   "cell_type": "code",
   "execution_count": 56,
   "id": "injured-woman",
   "metadata": {},
   "outputs": [
    {
     "data": {
      "text/html": [
       "<div>\n",
       "<style scoped>\n",
       "    .dataframe tbody tr th:only-of-type {\n",
       "        vertical-align: middle;\n",
       "    }\n",
       "\n",
       "    .dataframe tbody tr th {\n",
       "        vertical-align: top;\n",
       "    }\n",
       "\n",
       "    .dataframe thead th {\n",
       "        text-align: right;\n",
       "    }\n",
       "</style>\n",
       "<table border=\"1\" class=\"dataframe\">\n",
       "  <thead>\n",
       "    <tr style=\"text-align: right;\">\n",
       "      <th></th>\n",
       "      <th>answer</th>\n",
       "      <th>num_guesses</th>\n",
       "      <th>is_solved</th>\n",
       "    </tr>\n",
       "  </thead>\n",
       "  <tbody>\n",
       "    <tr>\n",
       "      <th>0</th>\n",
       "      <td>ABACK</td>\n",
       "      <td>4</td>\n",
       "      <td>True</td>\n",
       "    </tr>\n",
       "    <tr>\n",
       "      <th>1</th>\n",
       "      <td>ABASE</td>\n",
       "      <td>4</td>\n",
       "      <td>True</td>\n",
       "    </tr>\n",
       "    <tr>\n",
       "      <th>2</th>\n",
       "      <td>ABATE</td>\n",
       "      <td>4</td>\n",
       "      <td>True</td>\n",
       "    </tr>\n",
       "    <tr>\n",
       "      <th>3</th>\n",
       "      <td>ABBEY</td>\n",
       "      <td>4</td>\n",
       "      <td>True</td>\n",
       "    </tr>\n",
       "    <tr>\n",
       "      <th>4</th>\n",
       "      <td>ABYSS</td>\n",
       "      <td>4</td>\n",
       "      <td>True</td>\n",
       "    </tr>\n",
       "    <tr>\n",
       "      <th>...</th>\n",
       "      <td>...</td>\n",
       "      <td>...</td>\n",
       "      <td>...</td>\n",
       "    </tr>\n",
       "    <tr>\n",
       "      <th>213</th>\n",
       "      <td>WINCE</td>\n",
       "      <td>4</td>\n",
       "      <td>True</td>\n",
       "    </tr>\n",
       "    <tr>\n",
       "      <th>214</th>\n",
       "      <td>WOOER</td>\n",
       "      <td>5</td>\n",
       "      <td>True</td>\n",
       "    </tr>\n",
       "    <tr>\n",
       "      <th>215</th>\n",
       "      <td>WORLD</td>\n",
       "      <td>3</td>\n",
       "      <td>True</td>\n",
       "    </tr>\n",
       "    <tr>\n",
       "      <th>216</th>\n",
       "      <td>WROTE</td>\n",
       "      <td>6</td>\n",
       "      <td>False</td>\n",
       "    </tr>\n",
       "    <tr>\n",
       "      <th>217</th>\n",
       "      <td>YEARN</td>\n",
       "      <td>4</td>\n",
       "      <td>True</td>\n",
       "    </tr>\n",
       "  </tbody>\n",
       "</table>\n",
       "<p>218 rows × 3 columns</p>\n",
       "</div>"
      ],
      "text/plain": [
       "    answer  num_guesses  is_solved\n",
       "0    ABACK            4       True\n",
       "1    ABASE            4       True\n",
       "2    ABATE            4       True\n",
       "3    ABBEY            4       True\n",
       "4    ABYSS            4       True\n",
       "..     ...          ...        ...\n",
       "213  WINCE            4       True\n",
       "214  WOOER            5       True\n",
       "215  WORLD            3       True\n",
       "216  WROTE            6      False\n",
       "217  YEARN            4       True\n",
       "\n",
       "[218 rows x 3 columns]"
      ]
     },
     "execution_count": 56,
     "metadata": {},
     "output_type": "execute_result"
    }
   ],
   "source": [
    "rows = []\n",
    "for answer, v in d.items():\n",
    "    rows.append({\n",
    "        'answer': answer,\n",
    "        'num_guesses': v['num_guesses'],\n",
    "        'is_solved': v['is_solved']\n",
    "    })\n",
    "\n",
    "solver_df = pd.DataFrame(rows)\n",
    "solver_df"
   ]
  },
  {
   "cell_type": "code",
   "execution_count": 57,
   "id": "directed-bunch",
   "metadata": {},
   "outputs": [
    {
     "data": {
      "text/plain": [
       "4.261467889908257"
      ]
     },
     "execution_count": 57,
     "metadata": {},
     "output_type": "execute_result"
    }
   ],
   "source": [
    "solver_df.num_guesses.mean()"
   ]
  },
  {
   "cell_type": "code",
   "execution_count": 58,
   "id": "serious-paste",
   "metadata": {},
   "outputs": [
    {
     "data": {
      "text/html": [
       "<div>\n",
       "<style scoped>\n",
       "    .dataframe tbody tr th:only-of-type {\n",
       "        vertical-align: middle;\n",
       "    }\n",
       "\n",
       "    .dataframe tbody tr th {\n",
       "        vertical-align: top;\n",
       "    }\n",
       "\n",
       "    .dataframe thead th {\n",
       "        text-align: right;\n",
       "    }\n",
       "</style>\n",
       "<table border=\"1\" class=\"dataframe\">\n",
       "  <thead>\n",
       "    <tr style=\"text-align: right;\">\n",
       "      <th></th>\n",
       "      <th>answer</th>\n",
       "      <th>num_guesses</th>\n",
       "      <th>is_solved</th>\n",
       "    </tr>\n",
       "  </thead>\n",
       "  <tbody>\n",
       "    <tr>\n",
       "      <th>29</th>\n",
       "      <td>BOOZY</td>\n",
       "      <td>6</td>\n",
       "      <td>False</td>\n",
       "    </tr>\n",
       "    <tr>\n",
       "      <th>51</th>\n",
       "      <td>CRAZE</td>\n",
       "      <td>6</td>\n",
       "      <td>False</td>\n",
       "    </tr>\n",
       "    <tr>\n",
       "      <th>98</th>\n",
       "      <td>GRIME</td>\n",
       "      <td>6</td>\n",
       "      <td>False</td>\n",
       "    </tr>\n",
       "    <tr>\n",
       "      <th>148</th>\n",
       "      <td>PROVE</td>\n",
       "      <td>6</td>\n",
       "      <td>False</td>\n",
       "    </tr>\n",
       "    <tr>\n",
       "      <th>187</th>\n",
       "      <td>STORE</td>\n",
       "      <td>6</td>\n",
       "      <td>False</td>\n",
       "    </tr>\n",
       "    <tr>\n",
       "      <th>188</th>\n",
       "      <td>STOUT</td>\n",
       "      <td>6</td>\n",
       "      <td>False</td>\n",
       "    </tr>\n",
       "    <tr>\n",
       "      <th>216</th>\n",
       "      <td>WROTE</td>\n",
       "      <td>6</td>\n",
       "      <td>False</td>\n",
       "    </tr>\n",
       "  </tbody>\n",
       "</table>\n",
       "</div>"
      ],
      "text/plain": [
       "    answer  num_guesses  is_solved\n",
       "29   BOOZY            6      False\n",
       "51   CRAZE            6      False\n",
       "98   GRIME            6      False\n",
       "148  PROVE            6      False\n",
       "187  STORE            6      False\n",
       "188  STOUT            6      False\n",
       "216  WROTE            6      False"
      ]
     },
     "execution_count": 58,
     "metadata": {},
     "output_type": "execute_result"
    }
   ],
   "source": [
    "solver_df[solver_df.is_solved == False]"
   ]
  },
  {
   "cell_type": "markdown",
   "id": "transparent-identity",
   "metadata": {},
   "source": [
    "## Testing"
   ]
  },
  {
   "cell_type": "code",
   "execution_count": 44,
   "id": "later-omega",
   "metadata": {},
   "outputs": [],
   "source": [
    "from possibilities_table import array_to_integer"
   ]
  },
  {
   "cell_type": "code",
   "execution_count": 45,
   "id": "brilliant-priest",
   "metadata": {},
   "outputs": [],
   "source": [
    "def f_eval_guess(guess_i: int, answer_i: int) -> int:\n",
    "    \"\"\"Return an integer\"\"\"\n",
    "    guess = words[guess_i]\n",
    "    answer = words[answer_i]\n",
    "    rval = UNSAFE_eval_guess(guess=guess, answer=answer)\n",
    "    # the numbers are guaranteed to be 0, 1, 2\n",
    "    return array_to_integer(rval)"
   ]
  },
  {
   "cell_type": "code",
   "execution_count": 49,
   "id": "pressed-jackson",
   "metadata": {},
   "outputs": [
    {
     "data": {
      "text/plain": [
       "array([[242,   8,  17, ...,   0,  54,   0],\n",
       "       [  8, 242,   8, ...,   0,   0, 135],\n",
       "       [ 89,   8, 242, ...,  27,   0,   0],\n",
       "       ...,\n",
       "       [  0,   0,   9, ..., 242,   8,   8],\n",
       "       [ 54,   0,   0, ...,   8, 242,  26],\n",
       "       [  0,  54,   0, ...,   8,  26, 242]])"
      ]
     },
     "execution_count": 49,
     "metadata": {},
     "output_type": "execute_result"
    }
   ],
   "source": [
    "import numpy\n",
    "\n",
    "n1 = 12972\n",
    "n2 = 12972\n",
    "\n",
    "a = numpy.arange(n1)\n",
    "b = numpy.arange(n2)\n",
    "\n",
    "def F(x, y):\n",
    "    return x + y\n",
    "\n",
    "# Everything above this is setup, the answer to your question lies here:\n",
    "fv = numpy.vectorize(f_eval_guess)\n",
    "r = fv(a[:, numpy.newaxis], b)\n",
    "r"
   ]
  },
  {
   "cell_type": "code",
   "execution_count": 50,
   "id": "complex-marketplace",
   "metadata": {},
   "outputs": [],
   "source": [
    "path = '../data-parsed/possibilities-table-base-3.npy'\n",
    "table2 = np.load(path)"
   ]
  },
  {
   "cell_type": "code",
   "execution_count": 51,
   "id": "featured-opposition",
   "metadata": {},
   "outputs": [
    {
     "data": {
      "text/plain": [
       "True"
      ]
     },
     "execution_count": 51,
     "metadata": {},
     "output_type": "execute_result"
    }
   ],
   "source": [
    "np.allclose(table2, r, rtol=1e-1, atol=1e-1)"
   ]
  },
  {
   "cell_type": "code",
   "execution_count": null,
   "id": "imported-shape",
   "metadata": {},
   "outputs": [],
   "source": []
  }
 ],
 "metadata": {
  "kernelspec": {
   "display_name": "Python 3",
   "language": "python",
   "name": "python3"
  },
  "language_info": {
   "codemirror_mode": {
    "name": "ipython",
    "version": 3
   },
   "file_extension": ".py",
   "mimetype": "text/x-python",
   "name": "python",
   "nbconvert_exporter": "python",
   "pygments_lexer": "ipython3",
   "version": "3.8.5"
  }
 },
 "nbformat": 4,
 "nbformat_minor": 5
}
