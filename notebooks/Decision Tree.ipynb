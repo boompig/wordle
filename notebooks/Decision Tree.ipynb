{
 "cells": [
  {
   "cell_type": "markdown",
   "id": "waiting-acoustic",
   "metadata": {},
   "source": [
    "# Decision Tree\n",
    "\n",
    "Now that we have our possibilities matrix, can we construct a decision tree of depth 6 or smaller for each dictionary word?"
   ]
  },
  {
   "cell_type": "code",
   "execution_count": 1,
   "id": "approximate-airport",
   "metadata": {},
   "outputs": [],
   "source": [
    "import numpy as np\n",
    "import pandas as pd"
   ]
  },
  {
   "cell_type": "code",
   "execution_count": 2,
   "id": "boolean-scope",
   "metadata": {},
   "outputs": [],
   "source": [
    "# make sure we reload the code\n",
    "%load_ext autoreload\n",
    "%autoreload 2"
   ]
  },
  {
   "cell_type": "code",
   "execution_count": 3,
   "id": "united-pepper",
   "metadata": {},
   "outputs": [],
   "source": [
    "# we have to use some previous code\n",
    "import sys\n",
    "sys.path.append('..')"
   ]
  },
  {
   "cell_type": "code",
   "execution_count": 4,
   "id": "official-blake",
   "metadata": {},
   "outputs": [],
   "source": [
    "from parse_data import read_parsed_words, read_all_answers\n",
    "from possibilities_table import array_to_integer, TABLE_PATH, integer_to_arr\n",
    "from play import UNSAFE_eval_guess, eval_guess, LETTER_ABSENT"
   ]
  },
  {
   "cell_type": "code",
   "execution_count": 5,
   "id": "golden-cloud",
   "metadata": {},
   "outputs": [
    {
     "data": {
      "text/plain": [
       "2315"
      ]
     },
     "execution_count": 5,
     "metadata": {},
     "output_type": "execute_result"
    }
   ],
   "source": [
    "# words = read_parsed_words()\n",
    "words = [w.lower() for w in read_all_answers()]\n",
    "len(words)"
   ]
  },
  {
   "cell_type": "code",
   "execution_count": 6,
   "id": "unknown-effects",
   "metadata": {},
   "outputs": [
    {
     "data": {
      "text/plain": [
       "array([[242,  81,   6, ..., 108, 135,  27],\n",
       "       [  1, 242,   0, ...,  82,  29,   3],\n",
       "       [  6,   0, 242, ..., 226,   0,  38],\n",
       "       ...,\n",
       "       [  4,  12, 216, ..., 242,   4,  28],\n",
       "       [ 64,  14,   0, ...,  37, 242,  27],\n",
       "       [  9,  81,   2, ...,  10,   9, 242]], dtype=uint8)"
      ]
     },
     "execution_count": 6,
     "metadata": {},
     "output_type": "execute_result"
    }
   ],
   "source": [
    "# table = np.load(TABLE_PATH)\n",
    "TABLE_PATH_CHEATING = \"../data-parsed/possibilities-table-cheating-base-3.npy\"\n",
    "table = np.load(TABLE_PATH_CHEATING)\n",
    "table"
   ]
  },
  {
   "cell_type": "code",
   "execution_count": 7,
   "id": "experimental-client",
   "metadata": {},
   "outputs": [
    {
     "data": {
      "text/plain": [
       "(2315, 2315)"
      ]
     },
     "execution_count": 7,
     "metadata": {},
     "output_type": "execute_result"
    }
   ],
   "source": [
    "table.shape"
   ]
  },
  {
   "cell_type": "code",
   "execution_count": 8,
   "id": "junior-dodge",
   "metadata": {},
   "outputs": [
    {
     "data": {
      "text/html": [
       "<div>\n",
       "<style scoped>\n",
       "    .dataframe tbody tr th:only-of-type {\n",
       "        vertical-align: middle;\n",
       "    }\n",
       "\n",
       "    .dataframe tbody tr th {\n",
       "        vertical-align: top;\n",
       "    }\n",
       "\n",
       "    .dataframe thead th {\n",
       "        text-align: right;\n",
       "    }\n",
       "</style>\n",
       "<table border=\"1\" class=\"dataframe\">\n",
       "  <thead>\n",
       "    <tr style=\"text-align: right;\">\n",
       "      <th></th>\n",
       "      <th>cigar</th>\n",
       "      <th>rebut</th>\n",
       "      <th>sissy</th>\n",
       "      <th>humph</th>\n",
       "      <th>awake</th>\n",
       "      <th>blush</th>\n",
       "      <th>focal</th>\n",
       "      <th>evade</th>\n",
       "      <th>naval</th>\n",
       "      <th>serve</th>\n",
       "      <th>...</th>\n",
       "      <th>rival</th>\n",
       "      <th>untie</th>\n",
       "      <th>refit</th>\n",
       "      <th>aorta</th>\n",
       "      <th>adult</th>\n",
       "      <th>judge</th>\n",
       "      <th>rower</th>\n",
       "      <th>artsy</th>\n",
       "      <th>rural</th>\n",
       "      <th>shave</th>\n",
       "    </tr>\n",
       "  </thead>\n",
       "  <tbody>\n",
       "    <tr>\n",
       "      <th>cigar</th>\n",
       "      <td>242</td>\n",
       "      <td>81</td>\n",
       "      <td>6</td>\n",
       "      <td>0</td>\n",
       "      <td>27</td>\n",
       "      <td>0</td>\n",
       "      <td>55</td>\n",
       "      <td>27</td>\n",
       "      <td>54</td>\n",
       "      <td>81</td>\n",
       "      <td>...</td>\n",
       "      <td>141</td>\n",
       "      <td>3</td>\n",
       "      <td>84</td>\n",
       "      <td>108</td>\n",
       "      <td>27</td>\n",
       "      <td>9</td>\n",
       "      <td>162</td>\n",
       "      <td>108</td>\n",
       "      <td>135</td>\n",
       "      <td>27</td>\n",
       "    </tr>\n",
       "    <tr>\n",
       "      <th>rebut</th>\n",
       "      <td>1</td>\n",
       "      <td>242</td>\n",
       "      <td>0</td>\n",
       "      <td>27</td>\n",
       "      <td>3</td>\n",
       "      <td>36</td>\n",
       "      <td>0</td>\n",
       "      <td>3</td>\n",
       "      <td>0</td>\n",
       "      <td>7</td>\n",
       "      <td>...</td>\n",
       "      <td>2</td>\n",
       "      <td>111</td>\n",
       "      <td>170</td>\n",
       "      <td>82</td>\n",
       "      <td>189</td>\n",
       "      <td>30</td>\n",
       "      <td>5</td>\n",
       "      <td>82</td>\n",
       "      <td>29</td>\n",
       "      <td>3</td>\n",
       "    </tr>\n",
       "    <tr>\n",
       "      <th>sissy</th>\n",
       "      <td>6</td>\n",
       "      <td>0</td>\n",
       "      <td>242</td>\n",
       "      <td>0</td>\n",
       "      <td>0</td>\n",
       "      <td>64</td>\n",
       "      <td>0</td>\n",
       "      <td>0</td>\n",
       "      <td>0</td>\n",
       "      <td>38</td>\n",
       "      <td>...</td>\n",
       "      <td>6</td>\n",
       "      <td>3</td>\n",
       "      <td>3</td>\n",
       "      <td>0</td>\n",
       "      <td>0</td>\n",
       "      <td>0</td>\n",
       "      <td>0</td>\n",
       "      <td>226</td>\n",
       "      <td>0</td>\n",
       "      <td>38</td>\n",
       "    </tr>\n",
       "    <tr>\n",
       "      <th>humph</th>\n",
       "      <td>0</td>\n",
       "      <td>3</td>\n",
       "      <td>0</td>\n",
       "      <td>242</td>\n",
       "      <td>0</td>\n",
       "      <td>166</td>\n",
       "      <td>0</td>\n",
       "      <td>0</td>\n",
       "      <td>0</td>\n",
       "      <td>0</td>\n",
       "      <td>...</td>\n",
       "      <td>0</td>\n",
       "      <td>3</td>\n",
       "      <td>0</td>\n",
       "      <td>0</td>\n",
       "      <td>3</td>\n",
       "      <td>6</td>\n",
       "      <td>0</td>\n",
       "      <td>0</td>\n",
       "      <td>6</td>\n",
       "      <td>82</td>\n",
       "    </tr>\n",
       "    <tr>\n",
       "      <th>awake</th>\n",
       "      <td>10</td>\n",
       "      <td>81</td>\n",
       "      <td>0</td>\n",
       "      <td>0</td>\n",
       "      <td>242</td>\n",
       "      <td>0</td>\n",
       "      <td>10</td>\n",
       "      <td>181</td>\n",
       "      <td>10</td>\n",
       "      <td>162</td>\n",
       "      <td>...</td>\n",
       "      <td>10</td>\n",
       "      <td>162</td>\n",
       "      <td>81</td>\n",
       "      <td>11</td>\n",
       "      <td>11</td>\n",
       "      <td>162</td>\n",
       "      <td>84</td>\n",
       "      <td>11</td>\n",
       "      <td>10</td>\n",
       "      <td>181</td>\n",
       "    </tr>\n",
       "    <tr>\n",
       "      <th>...</th>\n",
       "      <td>...</td>\n",
       "      <td>...</td>\n",
       "      <td>...</td>\n",
       "      <td>...</td>\n",
       "      <td>...</td>\n",
       "      <td>...</td>\n",
       "      <td>...</td>\n",
       "      <td>...</td>\n",
       "      <td>...</td>\n",
       "      <td>...</td>\n",
       "      <td>...</td>\n",
       "      <td>...</td>\n",
       "      <td>...</td>\n",
       "      <td>...</td>\n",
       "      <td>...</td>\n",
       "      <td>...</td>\n",
       "      <td>...</td>\n",
       "      <td>...</td>\n",
       "      <td>...</td>\n",
       "      <td>...</td>\n",
       "      <td>...</td>\n",
       "    </tr>\n",
       "    <tr>\n",
       "      <th>judge</th>\n",
       "      <td>27</td>\n",
       "      <td>84</td>\n",
       "      <td>0</td>\n",
       "      <td>6</td>\n",
       "      <td>162</td>\n",
       "      <td>3</td>\n",
       "      <td>0</td>\n",
       "      <td>171</td>\n",
       "      <td>0</td>\n",
       "      <td>162</td>\n",
       "      <td>...</td>\n",
       "      <td>0</td>\n",
       "      <td>165</td>\n",
       "      <td>81</td>\n",
       "      <td>0</td>\n",
       "      <td>12</td>\n",
       "      <td>242</td>\n",
       "      <td>81</td>\n",
       "      <td>0</td>\n",
       "      <td>6</td>\n",
       "      <td>162</td>\n",
       "    </tr>\n",
       "    <tr>\n",
       "      <th>rower</th>\n",
       "      <td>163</td>\n",
       "      <td>110</td>\n",
       "      <td>0</td>\n",
       "      <td>0</td>\n",
       "      <td>36</td>\n",
       "      <td>0</td>\n",
       "      <td>6</td>\n",
       "      <td>27</td>\n",
       "      <td>0</td>\n",
       "      <td>109</td>\n",
       "      <td>...</td>\n",
       "      <td>83</td>\n",
       "      <td>27</td>\n",
       "      <td>110</td>\n",
       "      <td>88</td>\n",
       "      <td>0</td>\n",
       "      <td>27</td>\n",
       "      <td>242</td>\n",
       "      <td>82</td>\n",
       "      <td>83</td>\n",
       "      <td>27</td>\n",
       "    </tr>\n",
       "    <tr>\n",
       "      <th>artsy</th>\n",
       "      <td>4</td>\n",
       "      <td>12</td>\n",
       "      <td>216</td>\n",
       "      <td>0</td>\n",
       "      <td>2</td>\n",
       "      <td>54</td>\n",
       "      <td>1</td>\n",
       "      <td>1</td>\n",
       "      <td>1</td>\n",
       "      <td>30</td>\n",
       "      <td>...</td>\n",
       "      <td>4</td>\n",
       "      <td>18</td>\n",
       "      <td>12</td>\n",
       "      <td>14</td>\n",
       "      <td>11</td>\n",
       "      <td>0</td>\n",
       "      <td>3</td>\n",
       "      <td>242</td>\n",
       "      <td>4</td>\n",
       "      <td>28</td>\n",
       "    </tr>\n",
       "    <tr>\n",
       "      <th>rural</th>\n",
       "      <td>64</td>\n",
       "      <td>14</td>\n",
       "      <td>0</td>\n",
       "      <td>6</td>\n",
       "      <td>27</td>\n",
       "      <td>84</td>\n",
       "      <td>216</td>\n",
       "      <td>27</td>\n",
       "      <td>216</td>\n",
       "      <td>19</td>\n",
       "      <td>...</td>\n",
       "      <td>227</td>\n",
       "      <td>3</td>\n",
       "      <td>11</td>\n",
       "      <td>46</td>\n",
       "      <td>111</td>\n",
       "      <td>6</td>\n",
       "      <td>11</td>\n",
       "      <td>37</td>\n",
       "      <td>242</td>\n",
       "      <td>27</td>\n",
       "    </tr>\n",
       "    <tr>\n",
       "      <th>shave</th>\n",
       "      <td>9</td>\n",
       "      <td>81</td>\n",
       "      <td>2</td>\n",
       "      <td>3</td>\n",
       "      <td>180</td>\n",
       "      <td>4</td>\n",
       "      <td>9</td>\n",
       "      <td>207</td>\n",
       "      <td>36</td>\n",
       "      <td>218</td>\n",
       "      <td>...</td>\n",
       "      <td>36</td>\n",
       "      <td>162</td>\n",
       "      <td>81</td>\n",
       "      <td>9</td>\n",
       "      <td>9</td>\n",
       "      <td>162</td>\n",
       "      <td>81</td>\n",
       "      <td>10</td>\n",
       "      <td>9</td>\n",
       "      <td>242</td>\n",
       "    </tr>\n",
       "  </tbody>\n",
       "</table>\n",
       "<p>2315 rows × 2315 columns</p>\n",
       "</div>"
      ],
      "text/plain": [
       "       cigar  rebut  sissy  humph  awake  blush  focal  evade  naval  serve  \\\n",
       "cigar    242     81      6      0     27      0     55     27     54     81   \n",
       "rebut      1    242      0     27      3     36      0      3      0      7   \n",
       "sissy      6      0    242      0      0     64      0      0      0     38   \n",
       "humph      0      3      0    242      0    166      0      0      0      0   \n",
       "awake     10     81      0      0    242      0     10    181     10    162   \n",
       "...      ...    ...    ...    ...    ...    ...    ...    ...    ...    ...   \n",
       "judge     27     84      0      6    162      3      0    171      0    162   \n",
       "rower    163    110      0      0     36      0      6     27      0    109   \n",
       "artsy      4     12    216      0      2     54      1      1      1     30   \n",
       "rural     64     14      0      6     27     84    216     27    216     19   \n",
       "shave      9     81      2      3    180      4      9    207     36    218   \n",
       "\n",
       "       ...  rival  untie  refit  aorta  adult  judge  rower  artsy  rural  \\\n",
       "cigar  ...    141      3     84    108     27      9    162    108    135   \n",
       "rebut  ...      2    111    170     82    189     30      5     82     29   \n",
       "sissy  ...      6      3      3      0      0      0      0    226      0   \n",
       "humph  ...      0      3      0      0      3      6      0      0      6   \n",
       "awake  ...     10    162     81     11     11    162     84     11     10   \n",
       "...    ...    ...    ...    ...    ...    ...    ...    ...    ...    ...   \n",
       "judge  ...      0    165     81      0     12    242     81      0      6   \n",
       "rower  ...     83     27    110     88      0     27    242     82     83   \n",
       "artsy  ...      4     18     12     14     11      0      3    242      4   \n",
       "rural  ...    227      3     11     46    111      6     11     37    242   \n",
       "shave  ...     36    162     81      9      9    162     81     10      9   \n",
       "\n",
       "       shave  \n",
       "cigar     27  \n",
       "rebut      3  \n",
       "sissy     38  \n",
       "humph     82  \n",
       "awake    181  \n",
       "...      ...  \n",
       "judge    162  \n",
       "rower     27  \n",
       "artsy     28  \n",
       "rural     27  \n",
       "shave    242  \n",
       "\n",
       "[2315 rows x 2315 columns]"
      ]
     },
     "execution_count": 8,
     "metadata": {},
     "output_type": "execute_result"
    }
   ],
   "source": [
    "df = pd.DataFrame(table, index=words, columns=words)\n",
    "df"
   ]
  },
  {
   "cell_type": "markdown",
   "id": "given-solid",
   "metadata": {},
   "source": [
    "Use the mean partition size to select most promising words as first guesses first"
   ]
  },
  {
   "cell_type": "code",
   "execution_count": 9,
   "id": "pointed-basic",
   "metadata": {},
   "outputs": [
    {
     "data": {
      "text/html": [
       "<div>\n",
       "<style scoped>\n",
       "    .dataframe tbody tr th:only-of-type {\n",
       "        vertical-align: middle;\n",
       "    }\n",
       "\n",
       "    .dataframe tbody tr th {\n",
       "        vertical-align: top;\n",
       "    }\n",
       "\n",
       "    .dataframe thead th {\n",
       "        text-align: right;\n",
       "    }\n",
       "</style>\n",
       "<table border=\"1\" class=\"dataframe\">\n",
       "  <thead>\n",
       "    <tr style=\"text-align: right;\">\n",
       "      <th></th>\n",
       "      <th>mean_partition</th>\n",
       "      <th>word_index</th>\n",
       "    </tr>\n",
       "  </thead>\n",
       "  <tbody>\n",
       "    <tr>\n",
       "      <th>trace</th>\n",
       "      <td>15.433333</td>\n",
       "      <td>179</td>\n",
       "    </tr>\n",
       "    <tr>\n",
       "      <th>crate</th>\n",
       "      <td>15.641892</td>\n",
       "      <td>45</td>\n",
       "    </tr>\n",
       "    <tr>\n",
       "      <th>slate</th>\n",
       "      <td>15.748299</td>\n",
       "      <td>878</td>\n",
       "    </tr>\n",
       "    <tr>\n",
       "      <th>parse</th>\n",
       "      <td>15.856164</td>\n",
       "      <td>1640</td>\n",
       "    </tr>\n",
       "    <tr>\n",
       "      <th>crane</th>\n",
       "      <td>16.302817</td>\n",
       "      <td>1729</td>\n",
       "    </tr>\n",
       "    <tr>\n",
       "      <th>...</th>\n",
       "      <td>...</td>\n",
       "      <td>...</td>\n",
       "    </tr>\n",
       "    <tr>\n",
       "      <th>kappa</th>\n",
       "      <td>70.151515</td>\n",
       "      <td>1387</td>\n",
       "    </tr>\n",
       "    <tr>\n",
       "      <th>mamma</th>\n",
       "      <td>72.343750</td>\n",
       "      <td>2137</td>\n",
       "    </tr>\n",
       "    <tr>\n",
       "      <th>jazzy</th>\n",
       "      <td>74.677419</td>\n",
       "      <td>1739</td>\n",
       "    </tr>\n",
       "    <tr>\n",
       "      <th>kayak</th>\n",
       "      <td>74.677419</td>\n",
       "      <td>2100</td>\n",
       "    </tr>\n",
       "    <tr>\n",
       "      <th>queue</th>\n",
       "      <td>92.600000</td>\n",
       "      <td>799</td>\n",
       "    </tr>\n",
       "  </tbody>\n",
       "</table>\n",
       "<p>2315 rows × 2 columns</p>\n",
       "</div>"
      ],
      "text/plain": [
       "       mean_partition  word_index\n",
       "trace       15.433333         179\n",
       "crate       15.641892          45\n",
       "slate       15.748299         878\n",
       "parse       15.856164        1640\n",
       "crane       16.302817        1729\n",
       "...               ...         ...\n",
       "kappa       70.151515        1387\n",
       "mamma       72.343750        2137\n",
       "jazzy       74.677419        1739\n",
       "kayak       74.677419        2100\n",
       "queue       92.600000         799\n",
       "\n",
       "[2315 rows x 2 columns]"
      ]
     },
     "execution_count": 9,
     "metadata": {},
     "output_type": "execute_result"
    }
   ],
   "source": [
    "def get_mean_partition(row) -> int:\n",
    "    x = row.value_counts().to_dict()\n",
    "    arr = np.array([v for v in x.values()])\n",
    "    m = np.mean(arr)\n",
    "    return m\n",
    "\n",
    "mean_part_df = df.apply(get_mean_partition, axis=1)\n",
    "mean_part_df = pd.DataFrame(mean_part_df, columns=['mean_partition'])\n",
    "mean_part_df['word_index'] = np.arange(len(words))\n",
    "mean_part_df.sort_values(by='mean_partition')"
   ]
  },
  {
   "cell_type": "markdown",
   "id": "genuine-crystal",
   "metadata": {},
   "source": [
    "map from a word's index to it's \"score\" -> lower is better"
   ]
  },
  {
   "cell_type": "code",
   "execution_count": 10,
   "id": "romance-investigator",
   "metadata": {},
   "outputs": [],
   "source": [
    "score_dict = mean_part_df.set_index('word_index').to_dict()['mean_partition']\n",
    "# these are indexes\n",
    "sorted_guesses = sorted(np.arange(len(words)), key=lambda i: score_dict[i])"
   ]
  },
  {
   "cell_type": "markdown",
   "id": "careful-perception",
   "metadata": {},
   "source": [
    "## Benchmarking Methods\n",
    "\n",
    "find_possible_answers is a function that we call very often. We need to make it as fast as possible"
   ]
  },
  {
   "cell_type": "markdown",
   "id": "driving-brick",
   "metadata": {},
   "source": [
    "### find_possible_answers"
   ]
  },
  {
   "cell_type": "code",
   "execution_count": 12,
   "id": "minus-naples",
   "metadata": {},
   "outputs": [],
   "source": [
    "from tester import find_possible_answers, NEW_find_possible_answers"
   ]
  },
  {
   "cell_type": "code",
   "execution_count": 13,
   "id": "industrial-shell",
   "metadata": {},
   "outputs": [],
   "source": [
    "# let's use these parameters in testing\n",
    "guesses_w = [\"slate\", \"pudgy\"]\n",
    "guesses = [words.index(i) for i in guesses_w]\n",
    "guess_results = [0, 3]"
   ]
  },
  {
   "cell_type": "code",
   "execution_count": 14,
   "id": "confirmed-working",
   "metadata": {},
   "outputs": [
    {
     "name": "stdout",
     "output_type": "stream",
     "text": [
      "265 µs ± 18 µs per loop (mean ± std. dev. of 7 runs, 1000 loops each)\n"
     ]
    }
   ],
   "source": [
    "%timeit -n 1000 find_possible_answers(guesses, guess_results, table)"
   ]
  },
  {
   "cell_type": "code",
   "execution_count": 15,
   "id": "liable-paste",
   "metadata": {},
   "outputs": [
    {
     "name": "stdout",
     "output_type": "stream",
     "text": [
      "5.63 ms ± 162 µs per loop (mean ± std. dev. of 7 runs, 1000 loops each)\n"
     ]
    }
   ],
   "source": [
    "%timeit -n 1000 NEW_find_possible_answers(guesses, guess_results, table)"
   ]
  },
  {
   "cell_type": "markdown",
   "id": "undefined-russell",
   "metadata": {},
   "source": [
    "#### results\n",
    "\n",
    "`find_possible_answers` is about 20x faster than `NEW_find_possible_answers`"
   ]
  },
  {
   "cell_type": "markdown",
   "id": "adjacent-league",
   "metadata": {},
   "source": [
    "### pick_next_guesses_it"
   ]
  },
  {
   "cell_type": "code",
   "execution_count": 132,
   "id": "together-constraint",
   "metadata": {},
   "outputs": [
    {
     "data": {
      "text/plain": [
       "12972"
      ]
     },
     "execution_count": 132,
     "metadata": {},
     "output_type": "execute_result"
    }
   ],
   "source": [
    "words = read_parsed_words()\n",
    "# words = [w.lower() for w in read_all_answers()]\n",
    "len(words)"
   ]
  },
  {
   "cell_type": "code",
   "execution_count": 134,
   "id": "cooked-battle",
   "metadata": {},
   "outputs": [],
   "source": [
    "table = np.load(TABLE_PATH)\n",
    "# TABLE_PATH_CHEATING = \"../data-parsed/possibilities-table-cheating-base-3.npy\"\n",
    "# table = np.load(TABLE_PATH_CHEATING)"
   ]
  },
  {
   "cell_type": "code",
   "execution_count": 135,
   "id": "indonesian-atmosphere",
   "metadata": {},
   "outputs": [
    {
     "data": {
      "text/html": [
       "<div>\n",
       "<style scoped>\n",
       "    .dataframe tbody tr th:only-of-type {\n",
       "        vertical-align: middle;\n",
       "    }\n",
       "\n",
       "    .dataframe tbody tr th {\n",
       "        vertical-align: top;\n",
       "    }\n",
       "\n",
       "    .dataframe thead th {\n",
       "        text-align: right;\n",
       "    }\n",
       "</style>\n",
       "<table border=\"1\" class=\"dataframe\">\n",
       "  <thead>\n",
       "    <tr style=\"text-align: right;\">\n",
       "      <th></th>\n",
       "      <th>aahed</th>\n",
       "      <th>aalii</th>\n",
       "      <th>aargh</th>\n",
       "      <th>aarti</th>\n",
       "      <th>abaca</th>\n",
       "      <th>abaci</th>\n",
       "      <th>aback</th>\n",
       "      <th>abacs</th>\n",
       "      <th>abaft</th>\n",
       "      <th>abaka</th>\n",
       "      <th>...</th>\n",
       "      <th>zulus</th>\n",
       "      <th>zupan</th>\n",
       "      <th>zupas</th>\n",
       "      <th>zuppa</th>\n",
       "      <th>zurfs</th>\n",
       "      <th>zuzim</th>\n",
       "      <th>zygal</th>\n",
       "      <th>zygon</th>\n",
       "      <th>zymes</th>\n",
       "      <th>zymic</th>\n",
       "    </tr>\n",
       "  </thead>\n",
       "  <tbody>\n",
       "    <tr>\n",
       "      <th>aahed</th>\n",
       "      <td>242</td>\n",
       "      <td>8</td>\n",
       "      <td>17</td>\n",
       "      <td>8</td>\n",
       "      <td>5</td>\n",
       "      <td>5</td>\n",
       "      <td>5</td>\n",
       "      <td>5</td>\n",
       "      <td>5</td>\n",
       "      <td>5</td>\n",
       "      <td>...</td>\n",
       "      <td>0</td>\n",
       "      <td>4</td>\n",
       "      <td>4</td>\n",
       "      <td>4</td>\n",
       "      <td>0</td>\n",
       "      <td>0</td>\n",
       "      <td>4</td>\n",
       "      <td>0</td>\n",
       "      <td>54</td>\n",
       "      <td>0</td>\n",
       "    </tr>\n",
       "    <tr>\n",
       "      <th>aalii</th>\n",
       "      <td>8</td>\n",
       "      <td>242</td>\n",
       "      <td>8</td>\n",
       "      <td>197</td>\n",
       "      <td>5</td>\n",
       "      <td>194</td>\n",
       "      <td>5</td>\n",
       "      <td>5</td>\n",
       "      <td>5</td>\n",
       "      <td>5</td>\n",
       "      <td>...</td>\n",
       "      <td>18</td>\n",
       "      <td>4</td>\n",
       "      <td>4</td>\n",
       "      <td>4</td>\n",
       "      <td>0</td>\n",
       "      <td>135</td>\n",
       "      <td>13</td>\n",
       "      <td>0</td>\n",
       "      <td>0</td>\n",
       "      <td>135</td>\n",
       "    </tr>\n",
       "    <tr>\n",
       "      <th>aargh</th>\n",
       "      <td>89</td>\n",
       "      <td>8</td>\n",
       "      <td>242</td>\n",
       "      <td>26</td>\n",
       "      <td>5</td>\n",
       "      <td>5</td>\n",
       "      <td>5</td>\n",
       "      <td>5</td>\n",
       "      <td>5</td>\n",
       "      <td>5</td>\n",
       "      <td>...</td>\n",
       "      <td>0</td>\n",
       "      <td>4</td>\n",
       "      <td>4</td>\n",
       "      <td>4</td>\n",
       "      <td>18</td>\n",
       "      <td>0</td>\n",
       "      <td>31</td>\n",
       "      <td>27</td>\n",
       "      <td>0</td>\n",
       "      <td>0</td>\n",
       "    </tr>\n",
       "    <tr>\n",
       "      <th>aarti</th>\n",
       "      <td>8</td>\n",
       "      <td>170</td>\n",
       "      <td>26</td>\n",
       "      <td>242</td>\n",
       "      <td>5</td>\n",
       "      <td>167</td>\n",
       "      <td>5</td>\n",
       "      <td>5</td>\n",
       "      <td>32</td>\n",
       "      <td>5</td>\n",
       "      <td>...</td>\n",
       "      <td>0</td>\n",
       "      <td>4</td>\n",
       "      <td>4</td>\n",
       "      <td>4</td>\n",
       "      <td>18</td>\n",
       "      <td>81</td>\n",
       "      <td>4</td>\n",
       "      <td>0</td>\n",
       "      <td>0</td>\n",
       "      <td>81</td>\n",
       "    </tr>\n",
       "    <tr>\n",
       "      <th>abaca</th>\n",
       "      <td>92</td>\n",
       "      <td>92</td>\n",
       "      <td>92</td>\n",
       "      <td>92</td>\n",
       "      <td>242</td>\n",
       "      <td>161</td>\n",
       "      <td>161</td>\n",
       "      <td>161</td>\n",
       "      <td>107</td>\n",
       "      <td>188</td>\n",
       "      <td>...</td>\n",
       "      <td>0</td>\n",
       "      <td>91</td>\n",
       "      <td>91</td>\n",
       "      <td>172</td>\n",
       "      <td>0</td>\n",
       "      <td>0</td>\n",
       "      <td>91</td>\n",
       "      <td>0</td>\n",
       "      <td>0</td>\n",
       "      <td>27</td>\n",
       "    </tr>\n",
       "    <tr>\n",
       "      <th>...</th>\n",
       "      <td>...</td>\n",
       "      <td>...</td>\n",
       "      <td>...</td>\n",
       "      <td>...</td>\n",
       "      <td>...</td>\n",
       "      <td>...</td>\n",
       "      <td>...</td>\n",
       "      <td>...</td>\n",
       "      <td>...</td>\n",
       "      <td>...</td>\n",
       "      <td>...</td>\n",
       "      <td>...</td>\n",
       "      <td>...</td>\n",
       "      <td>...</td>\n",
       "      <td>...</td>\n",
       "      <td>...</td>\n",
       "      <td>...</td>\n",
       "      <td>...</td>\n",
       "      <td>...</td>\n",
       "      <td>...</td>\n",
       "      <td>...</td>\n",
       "    </tr>\n",
       "    <tr>\n",
       "      <th>zuzim</th>\n",
       "      <td>0</td>\n",
       "      <td>54</td>\n",
       "      <td>0</td>\n",
       "      <td>27</td>\n",
       "      <td>0</td>\n",
       "      <td>27</td>\n",
       "      <td>0</td>\n",
       "      <td>0</td>\n",
       "      <td>0</td>\n",
       "      <td>0</td>\n",
       "      <td>...</td>\n",
       "      <td>17</td>\n",
       "      <td>17</td>\n",
       "      <td>17</td>\n",
       "      <td>17</td>\n",
       "      <td>17</td>\n",
       "      <td>242</td>\n",
       "      <td>11</td>\n",
       "      <td>11</td>\n",
       "      <td>92</td>\n",
       "      <td>146</td>\n",
       "    </tr>\n",
       "    <tr>\n",
       "      <th>zygal</th>\n",
       "      <td>27</td>\n",
       "      <td>108</td>\n",
       "      <td>36</td>\n",
       "      <td>27</td>\n",
       "      <td>27</td>\n",
       "      <td>27</td>\n",
       "      <td>27</td>\n",
       "      <td>27</td>\n",
       "      <td>27</td>\n",
       "      <td>27</td>\n",
       "      <td>...</td>\n",
       "      <td>83</td>\n",
       "      <td>56</td>\n",
       "      <td>56</td>\n",
       "      <td>29</td>\n",
       "      <td>2</td>\n",
       "      <td>2</td>\n",
       "      <td>242</td>\n",
       "      <td>26</td>\n",
       "      <td>8</td>\n",
       "      <td>8</td>\n",
       "    </tr>\n",
       "    <tr>\n",
       "      <th>zygon</th>\n",
       "      <td>0</td>\n",
       "      <td>0</td>\n",
       "      <td>9</td>\n",
       "      <td>0</td>\n",
       "      <td>0</td>\n",
       "      <td>0</td>\n",
       "      <td>0</td>\n",
       "      <td>0</td>\n",
       "      <td>0</td>\n",
       "      <td>0</td>\n",
       "      <td>...</td>\n",
       "      <td>2</td>\n",
       "      <td>164</td>\n",
       "      <td>2</td>\n",
       "      <td>2</td>\n",
       "      <td>2</td>\n",
       "      <td>2</td>\n",
       "      <td>26</td>\n",
       "      <td>242</td>\n",
       "      <td>8</td>\n",
       "      <td>8</td>\n",
       "    </tr>\n",
       "    <tr>\n",
       "      <th>zymes</th>\n",
       "      <td>54</td>\n",
       "      <td>0</td>\n",
       "      <td>0</td>\n",
       "      <td>0</td>\n",
       "      <td>0</td>\n",
       "      <td>0</td>\n",
       "      <td>0</td>\n",
       "      <td>162</td>\n",
       "      <td>0</td>\n",
       "      <td>0</td>\n",
       "      <td>...</td>\n",
       "      <td>164</td>\n",
       "      <td>2</td>\n",
       "      <td>164</td>\n",
       "      <td>2</td>\n",
       "      <td>164</td>\n",
       "      <td>11</td>\n",
       "      <td>8</td>\n",
       "      <td>8</td>\n",
       "      <td>242</td>\n",
       "      <td>26</td>\n",
       "    </tr>\n",
       "    <tr>\n",
       "      <th>zymic</th>\n",
       "      <td>0</td>\n",
       "      <td>54</td>\n",
       "      <td>0</td>\n",
       "      <td>27</td>\n",
       "      <td>81</td>\n",
       "      <td>108</td>\n",
       "      <td>81</td>\n",
       "      <td>81</td>\n",
       "      <td>0</td>\n",
       "      <td>0</td>\n",
       "      <td>...</td>\n",
       "      <td>2</td>\n",
       "      <td>2</td>\n",
       "      <td>2</td>\n",
       "      <td>2</td>\n",
       "      <td>2</td>\n",
       "      <td>65</td>\n",
       "      <td>8</td>\n",
       "      <td>8</td>\n",
       "      <td>26</td>\n",
       "      <td>242</td>\n",
       "    </tr>\n",
       "  </tbody>\n",
       "</table>\n",
       "<p>12972 rows × 12972 columns</p>\n",
       "</div>"
      ],
      "text/plain": [
       "       aahed  aalii  aargh  aarti  abaca  abaci  aback  abacs  abaft  abaka  \\\n",
       "aahed    242      8     17      8      5      5      5      5      5      5   \n",
       "aalii      8    242      8    197      5    194      5      5      5      5   \n",
       "aargh     89      8    242     26      5      5      5      5      5      5   \n",
       "aarti      8    170     26    242      5    167      5      5     32      5   \n",
       "abaca     92     92     92     92    242    161    161    161    107    188   \n",
       "...      ...    ...    ...    ...    ...    ...    ...    ...    ...    ...   \n",
       "zuzim      0     54      0     27      0     27      0      0      0      0   \n",
       "zygal     27    108     36     27     27     27     27     27     27     27   \n",
       "zygon      0      0      9      0      0      0      0      0      0      0   \n",
       "zymes     54      0      0      0      0      0      0    162      0      0   \n",
       "zymic      0     54      0     27     81    108     81     81      0      0   \n",
       "\n",
       "       ...  zulus  zupan  zupas  zuppa  zurfs  zuzim  zygal  zygon  zymes  \\\n",
       "aahed  ...      0      4      4      4      0      0      4      0     54   \n",
       "aalii  ...     18      4      4      4      0    135     13      0      0   \n",
       "aargh  ...      0      4      4      4     18      0     31     27      0   \n",
       "aarti  ...      0      4      4      4     18     81      4      0      0   \n",
       "abaca  ...      0     91     91    172      0      0     91      0      0   \n",
       "...    ...    ...    ...    ...    ...    ...    ...    ...    ...    ...   \n",
       "zuzim  ...     17     17     17     17     17    242     11     11     92   \n",
       "zygal  ...     83     56     56     29      2      2    242     26      8   \n",
       "zygon  ...      2    164      2      2      2      2     26    242      8   \n",
       "zymes  ...    164      2    164      2    164     11      8      8    242   \n",
       "zymic  ...      2      2      2      2      2     65      8      8     26   \n",
       "\n",
       "       zymic  \n",
       "aahed      0  \n",
       "aalii    135  \n",
       "aargh      0  \n",
       "aarti     81  \n",
       "abaca     27  \n",
       "...      ...  \n",
       "zuzim    146  \n",
       "zygal      8  \n",
       "zygon      8  \n",
       "zymes     26  \n",
       "zymic    242  \n",
       "\n",
       "[12972 rows x 12972 columns]"
      ]
     },
     "execution_count": 135,
     "metadata": {},
     "output_type": "execute_result"
    }
   ],
   "source": [
    "df = pd.DataFrame(table, index=words, columns=words)\n",
    "df"
   ]
  },
  {
   "cell_type": "code",
   "execution_count": 136,
   "id": "focal-lying",
   "metadata": {},
   "outputs": [
    {
     "data": {
      "text/html": [
       "<div>\n",
       "<style scoped>\n",
       "    .dataframe tbody tr th:only-of-type {\n",
       "        vertical-align: middle;\n",
       "    }\n",
       "\n",
       "    .dataframe tbody tr th {\n",
       "        vertical-align: top;\n",
       "    }\n",
       "\n",
       "    .dataframe thead th {\n",
       "        text-align: right;\n",
       "    }\n",
       "</style>\n",
       "<table border=\"1\" class=\"dataframe\">\n",
       "  <thead>\n",
       "    <tr style=\"text-align: right;\">\n",
       "      <th></th>\n",
       "      <th>mean_partition</th>\n",
       "      <th>word_index</th>\n",
       "    </tr>\n",
       "  </thead>\n",
       "  <tbody>\n",
       "    <tr>\n",
       "      <th>tares</th>\n",
       "      <td>61.188679</td>\n",
       "      <td>11115</td>\n",
       "    </tr>\n",
       "    <tr>\n",
       "      <th>teras</th>\n",
       "      <td>62.066986</td>\n",
       "      <td>11249</td>\n",
       "    </tr>\n",
       "    <tr>\n",
       "      <th>tears</th>\n",
       "      <td>63.588235</td>\n",
       "      <td>11183</td>\n",
       "    </tr>\n",
       "    <tr>\n",
       "      <th>pelas</th>\n",
       "      <td>64.217822</td>\n",
       "      <td>8095</td>\n",
       "    </tr>\n",
       "    <tr>\n",
       "      <th>pares</th>\n",
       "      <td>64.537313</td>\n",
       "      <td>7975</td>\n",
       "    </tr>\n",
       "    <tr>\n",
       "      <th>...</th>\n",
       "      <td>...</td>\n",
       "      <td>...</td>\n",
       "    </tr>\n",
       "    <tr>\n",
       "      <th>cocco</th>\n",
       "      <td>360.333333</td>\n",
       "      <td>2157</td>\n",
       "    </tr>\n",
       "    <tr>\n",
       "      <th>queue</th>\n",
       "      <td>370.628571</td>\n",
       "      <td>8780</td>\n",
       "    </tr>\n",
       "    <tr>\n",
       "      <th>taata</th>\n",
       "      <td>370.628571</td>\n",
       "      <td>11012</td>\n",
       "    </tr>\n",
       "    <tr>\n",
       "      <th>ayaya</th>\n",
       "      <td>381.529412</td>\n",
       "      <td>713</td>\n",
       "    </tr>\n",
       "    <tr>\n",
       "      <th>qajaq</th>\n",
       "      <td>463.285714</td>\n",
       "      <td>8742</td>\n",
       "    </tr>\n",
       "  </tbody>\n",
       "</table>\n",
       "<p>12972 rows × 2 columns</p>\n",
       "</div>"
      ],
      "text/plain": [
       "       mean_partition  word_index\n",
       "tares       61.188679       11115\n",
       "teras       62.066986       11249\n",
       "tears       63.588235       11183\n",
       "pelas       64.217822        8095\n",
       "pares       64.537313        7975\n",
       "...               ...         ...\n",
       "cocco      360.333333        2157\n",
       "queue      370.628571        8780\n",
       "taata      370.628571       11012\n",
       "ayaya      381.529412         713\n",
       "qajaq      463.285714        8742\n",
       "\n",
       "[12972 rows x 2 columns]"
      ]
     },
     "execution_count": 136,
     "metadata": {},
     "output_type": "execute_result"
    }
   ],
   "source": [
    "def get_mean_partition(row) -> int:\n",
    "    x = row.value_counts().to_dict()\n",
    "    arr = np.array([v for v in x.values()])\n",
    "    m = np.mean(arr)\n",
    "    return m\n",
    "\n",
    "mean_part_df = df.apply(get_mean_partition, axis=1)\n",
    "mean_part_df = pd.DataFrame(mean_part_df, columns=['mean_partition'])\n",
    "mean_part_df['word_index'] = np.arange(len(words))\n",
    "mean_part_df.sort_values(by='mean_partition')"
   ]
  },
  {
   "cell_type": "code",
   "execution_count": 137,
   "id": "embedded-writing",
   "metadata": {},
   "outputs": [
    {
     "data": {
      "text/plain": [
       "array([11115, 11249, 11183, ..., 11012,   713,  8742])"
      ]
     },
     "execution_count": 137,
     "metadata": {},
     "output_type": "execute_result"
    }
   ],
   "source": [
    "# these are indexes\n",
    "sorted_guesses = mean_part_df.sort_values('mean_partition').word_index.values\n",
    "sorted_guesses"
   ]
  },
  {
   "cell_type": "code",
   "execution_count": 138,
   "id": "dental-blanket",
   "metadata": {},
   "outputs": [],
   "source": [
    "# let's use these parameters in testing\n",
    "guesses_w = [\"crane\", \"polis\"]\n",
    "guesses = [words.index(i) for i in guesses_w]\n",
    "guess_results = [0, 168]"
   ]
  },
  {
   "cell_type": "code",
   "execution_count": 139,
   "id": "average-presence",
   "metadata": {},
   "outputs": [],
   "source": [
    "possible_answers = find_possible_answers(guesses, guess_results, table)"
   ]
  },
  {
   "cell_type": "code",
   "execution_count": 140,
   "id": "registered-provider",
   "metadata": {},
   "outputs": [],
   "source": [
    "from decision_tree import pick_next_guesses_it, NEW_pick_next_guesses_it"
   ]
  },
  {
   "cell_type": "code",
   "execution_count": 195,
   "id": "sufficient-sharp",
   "metadata": {},
   "outputs": [
    {
     "name": "stdout",
     "output_type": "stream",
     "text": [
      "11.7 ms ± 686 µs per loop (mean ± std. dev. of 7 runs, 100 loops each)\n"
     ]
    }
   ],
   "source": [
    "def f1():\n",
    "    n = 0\n",
    "    next_guesses_it = pick_next_guesses_it(guesses, guess_results, sorted_guesses, words)\n",
    "    for guess in next_guesses_it:\n",
    "        n += 1\n",
    "        \n",
    "%timeit f1()"
   ]
  },
  {
   "cell_type": "code",
   "execution_count": 197,
   "id": "varied-elements",
   "metadata": {},
   "outputs": [
    {
     "name": "stdout",
     "output_type": "stream",
     "text": [
      "396 ms ± 10.6 ms per loop (mean ± std. dev. of 7 runs, 1 loop each)\n"
     ]
    }
   ],
   "source": [
    "def f2():\n",
    "    n = 0\n",
    "    next_guesses_it = NEW_pick_next_guesses_it(guesses, guess_results, table, possible_answers)\n",
    "    for guess in next_guesses_it:\n",
    "        n += 1\n",
    "        \n",
    "%timeit f2()"
   ]
  },
  {
   "cell_type": "code",
   "execution_count": 143,
   "id": "persistent-payment",
   "metadata": {},
   "outputs": [
    {
     "data": {
      "text/plain": [
       "array([[242,   8,  17, ...,   0,  54,   0],\n",
       "       [  8, 242,   8, ...,   0,   0, 135],\n",
       "       [ 89,   8, 242, ...,  27,   0,   0],\n",
       "       ...,\n",
       "       [  0,   0,   9, ..., 242,   8,   8],\n",
       "       [ 54,   0,   0, ...,   8, 242,  26],\n",
       "       [  0,  54,   0, ...,   8,  26, 242]], dtype=uint8)"
      ]
     },
     "execution_count": 143,
     "metadata": {},
     "output_type": "execute_result"
    }
   ],
   "source": [
    "table"
   ]
  },
  {
   "cell_type": "code",
   "execution_count": 200,
   "id": "pointed-relay",
   "metadata": {},
   "outputs": [
    {
     "data": {
      "text/html": [
       "<div>\n",
       "<style scoped>\n",
       "    .dataframe tbody tr th:only-of-type {\n",
       "        vertical-align: middle;\n",
       "    }\n",
       "\n",
       "    .dataframe tbody tr th {\n",
       "        vertical-align: top;\n",
       "    }\n",
       "\n",
       "    .dataframe thead th {\n",
       "        text-align: right;\n",
       "    }\n",
       "</style>\n",
       "<table border=\"1\" class=\"dataframe\">\n",
       "  <thead>\n",
       "    <tr style=\"text-align: right;\">\n",
       "      <th></th>\n",
       "      <th>aahed</th>\n",
       "      <th>aalii</th>\n",
       "      <th>aargh</th>\n",
       "      <th>aarti</th>\n",
       "      <th>abaca</th>\n",
       "      <th>abaci</th>\n",
       "      <th>aback</th>\n",
       "      <th>abacs</th>\n",
       "      <th>abaft</th>\n",
       "      <th>abaka</th>\n",
       "      <th>...</th>\n",
       "      <th>zulus</th>\n",
       "      <th>zupan</th>\n",
       "      <th>zupas</th>\n",
       "      <th>zuppa</th>\n",
       "      <th>zurfs</th>\n",
       "      <th>zuzim</th>\n",
       "      <th>zygal</th>\n",
       "      <th>zygon</th>\n",
       "      <th>zymes</th>\n",
       "      <th>zymic</th>\n",
       "    </tr>\n",
       "  </thead>\n",
       "  <tbody>\n",
       "    <tr>\n",
       "      <th>aahed</th>\n",
       "      <td>242</td>\n",
       "      <td>8</td>\n",
       "      <td>17</td>\n",
       "      <td>8</td>\n",
       "      <td>5</td>\n",
       "      <td>5</td>\n",
       "      <td>5</td>\n",
       "      <td>5</td>\n",
       "      <td>5</td>\n",
       "      <td>5</td>\n",
       "      <td>...</td>\n",
       "      <td>0</td>\n",
       "      <td>4</td>\n",
       "      <td>4</td>\n",
       "      <td>4</td>\n",
       "      <td>0</td>\n",
       "      <td>0</td>\n",
       "      <td>4</td>\n",
       "      <td>0</td>\n",
       "      <td>54</td>\n",
       "      <td>0</td>\n",
       "    </tr>\n",
       "    <tr>\n",
       "      <th>aalii</th>\n",
       "      <td>8</td>\n",
       "      <td>242</td>\n",
       "      <td>8</td>\n",
       "      <td>197</td>\n",
       "      <td>5</td>\n",
       "      <td>194</td>\n",
       "      <td>5</td>\n",
       "      <td>5</td>\n",
       "      <td>5</td>\n",
       "      <td>5</td>\n",
       "      <td>...</td>\n",
       "      <td>18</td>\n",
       "      <td>4</td>\n",
       "      <td>4</td>\n",
       "      <td>4</td>\n",
       "      <td>0</td>\n",
       "      <td>135</td>\n",
       "      <td>13</td>\n",
       "      <td>0</td>\n",
       "      <td>0</td>\n",
       "      <td>135</td>\n",
       "    </tr>\n",
       "    <tr>\n",
       "      <th>aargh</th>\n",
       "      <td>89</td>\n",
       "      <td>8</td>\n",
       "      <td>242</td>\n",
       "      <td>26</td>\n",
       "      <td>5</td>\n",
       "      <td>5</td>\n",
       "      <td>5</td>\n",
       "      <td>5</td>\n",
       "      <td>5</td>\n",
       "      <td>5</td>\n",
       "      <td>...</td>\n",
       "      <td>0</td>\n",
       "      <td>4</td>\n",
       "      <td>4</td>\n",
       "      <td>4</td>\n",
       "      <td>18</td>\n",
       "      <td>0</td>\n",
       "      <td>31</td>\n",
       "      <td>27</td>\n",
       "      <td>0</td>\n",
       "      <td>0</td>\n",
       "    </tr>\n",
       "    <tr>\n",
       "      <th>aarti</th>\n",
       "      <td>8</td>\n",
       "      <td>170</td>\n",
       "      <td>26</td>\n",
       "      <td>242</td>\n",
       "      <td>5</td>\n",
       "      <td>167</td>\n",
       "      <td>5</td>\n",
       "      <td>5</td>\n",
       "      <td>32</td>\n",
       "      <td>5</td>\n",
       "      <td>...</td>\n",
       "      <td>0</td>\n",
       "      <td>4</td>\n",
       "      <td>4</td>\n",
       "      <td>4</td>\n",
       "      <td>18</td>\n",
       "      <td>81</td>\n",
       "      <td>4</td>\n",
       "      <td>0</td>\n",
       "      <td>0</td>\n",
       "      <td>81</td>\n",
       "    </tr>\n",
       "    <tr>\n",
       "      <th>abaca</th>\n",
       "      <td>92</td>\n",
       "      <td>92</td>\n",
       "      <td>92</td>\n",
       "      <td>92</td>\n",
       "      <td>242</td>\n",
       "      <td>161</td>\n",
       "      <td>161</td>\n",
       "      <td>161</td>\n",
       "      <td>107</td>\n",
       "      <td>188</td>\n",
       "      <td>...</td>\n",
       "      <td>0</td>\n",
       "      <td>91</td>\n",
       "      <td>91</td>\n",
       "      <td>172</td>\n",
       "      <td>0</td>\n",
       "      <td>0</td>\n",
       "      <td>91</td>\n",
       "      <td>0</td>\n",
       "      <td>0</td>\n",
       "      <td>27</td>\n",
       "    </tr>\n",
       "    <tr>\n",
       "      <th>...</th>\n",
       "      <td>...</td>\n",
       "      <td>...</td>\n",
       "      <td>...</td>\n",
       "      <td>...</td>\n",
       "      <td>...</td>\n",
       "      <td>...</td>\n",
       "      <td>...</td>\n",
       "      <td>...</td>\n",
       "      <td>...</td>\n",
       "      <td>...</td>\n",
       "      <td>...</td>\n",
       "      <td>...</td>\n",
       "      <td>...</td>\n",
       "      <td>...</td>\n",
       "      <td>...</td>\n",
       "      <td>...</td>\n",
       "      <td>...</td>\n",
       "      <td>...</td>\n",
       "      <td>...</td>\n",
       "      <td>...</td>\n",
       "      <td>...</td>\n",
       "    </tr>\n",
       "    <tr>\n",
       "      <th>zuzim</th>\n",
       "      <td>0</td>\n",
       "      <td>54</td>\n",
       "      <td>0</td>\n",
       "      <td>27</td>\n",
       "      <td>0</td>\n",
       "      <td>27</td>\n",
       "      <td>0</td>\n",
       "      <td>0</td>\n",
       "      <td>0</td>\n",
       "      <td>0</td>\n",
       "      <td>...</td>\n",
       "      <td>17</td>\n",
       "      <td>17</td>\n",
       "      <td>17</td>\n",
       "      <td>17</td>\n",
       "      <td>17</td>\n",
       "      <td>242</td>\n",
       "      <td>11</td>\n",
       "      <td>11</td>\n",
       "      <td>92</td>\n",
       "      <td>146</td>\n",
       "    </tr>\n",
       "    <tr>\n",
       "      <th>zygal</th>\n",
       "      <td>27</td>\n",
       "      <td>108</td>\n",
       "      <td>36</td>\n",
       "      <td>27</td>\n",
       "      <td>27</td>\n",
       "      <td>27</td>\n",
       "      <td>27</td>\n",
       "      <td>27</td>\n",
       "      <td>27</td>\n",
       "      <td>27</td>\n",
       "      <td>...</td>\n",
       "      <td>83</td>\n",
       "      <td>56</td>\n",
       "      <td>56</td>\n",
       "      <td>29</td>\n",
       "      <td>2</td>\n",
       "      <td>2</td>\n",
       "      <td>242</td>\n",
       "      <td>26</td>\n",
       "      <td>8</td>\n",
       "      <td>8</td>\n",
       "    </tr>\n",
       "    <tr>\n",
       "      <th>zygon</th>\n",
       "      <td>0</td>\n",
       "      <td>0</td>\n",
       "      <td>9</td>\n",
       "      <td>0</td>\n",
       "      <td>0</td>\n",
       "      <td>0</td>\n",
       "      <td>0</td>\n",
       "      <td>0</td>\n",
       "      <td>0</td>\n",
       "      <td>0</td>\n",
       "      <td>...</td>\n",
       "      <td>2</td>\n",
       "      <td>164</td>\n",
       "      <td>2</td>\n",
       "      <td>2</td>\n",
       "      <td>2</td>\n",
       "      <td>2</td>\n",
       "      <td>26</td>\n",
       "      <td>242</td>\n",
       "      <td>8</td>\n",
       "      <td>8</td>\n",
       "    </tr>\n",
       "    <tr>\n",
       "      <th>zymes</th>\n",
       "      <td>54</td>\n",
       "      <td>0</td>\n",
       "      <td>0</td>\n",
       "      <td>0</td>\n",
       "      <td>0</td>\n",
       "      <td>0</td>\n",
       "      <td>0</td>\n",
       "      <td>162</td>\n",
       "      <td>0</td>\n",
       "      <td>0</td>\n",
       "      <td>...</td>\n",
       "      <td>164</td>\n",
       "      <td>2</td>\n",
       "      <td>164</td>\n",
       "      <td>2</td>\n",
       "      <td>164</td>\n",
       "      <td>11</td>\n",
       "      <td>8</td>\n",
       "      <td>8</td>\n",
       "      <td>242</td>\n",
       "      <td>26</td>\n",
       "    </tr>\n",
       "    <tr>\n",
       "      <th>zymic</th>\n",
       "      <td>0</td>\n",
       "      <td>54</td>\n",
       "      <td>0</td>\n",
       "      <td>27</td>\n",
       "      <td>81</td>\n",
       "      <td>108</td>\n",
       "      <td>81</td>\n",
       "      <td>81</td>\n",
       "      <td>0</td>\n",
       "      <td>0</td>\n",
       "      <td>...</td>\n",
       "      <td>2</td>\n",
       "      <td>2</td>\n",
       "      <td>2</td>\n",
       "      <td>2</td>\n",
       "      <td>2</td>\n",
       "      <td>65</td>\n",
       "      <td>8</td>\n",
       "      <td>8</td>\n",
       "      <td>26</td>\n",
       "      <td>242</td>\n",
       "    </tr>\n",
       "  </tbody>\n",
       "</table>\n",
       "<p>12972 rows × 12972 columns</p>\n",
       "</div>"
      ],
      "text/plain": [
       "       aahed  aalii  aargh  aarti  abaca  abaci  aback  abacs  abaft  abaka  \\\n",
       "aahed    242      8     17      8      5      5      5      5      5      5   \n",
       "aalii      8    242      8    197      5    194      5      5      5      5   \n",
       "aargh     89      8    242     26      5      5      5      5      5      5   \n",
       "aarti      8    170     26    242      5    167      5      5     32      5   \n",
       "abaca     92     92     92     92    242    161    161    161    107    188   \n",
       "...      ...    ...    ...    ...    ...    ...    ...    ...    ...    ...   \n",
       "zuzim      0     54      0     27      0     27      0      0      0      0   \n",
       "zygal     27    108     36     27     27     27     27     27     27     27   \n",
       "zygon      0      0      9      0      0      0      0      0      0      0   \n",
       "zymes     54      0      0      0      0      0      0    162      0      0   \n",
       "zymic      0     54      0     27     81    108     81     81      0      0   \n",
       "\n",
       "       ...  zulus  zupan  zupas  zuppa  zurfs  zuzim  zygal  zygon  zymes  \\\n",
       "aahed  ...      0      4      4      4      0      0      4      0     54   \n",
       "aalii  ...     18      4      4      4      0    135     13      0      0   \n",
       "aargh  ...      0      4      4      4     18      0     31     27      0   \n",
       "aarti  ...      0      4      4      4     18     81      4      0      0   \n",
       "abaca  ...      0     91     91    172      0      0     91      0      0   \n",
       "...    ...    ...    ...    ...    ...    ...    ...    ...    ...    ...   \n",
       "zuzim  ...     17     17     17     17     17    242     11     11     92   \n",
       "zygal  ...     83     56     56     29      2      2    242     26      8   \n",
       "zygon  ...      2    164      2      2      2      2     26    242      8   \n",
       "zymes  ...    164      2    164      2    164     11      8      8    242   \n",
       "zymic  ...      2      2      2      2      2     65      8      8     26   \n",
       "\n",
       "       zymic  \n",
       "aahed      0  \n",
       "aalii    135  \n",
       "aargh      0  \n",
       "aarti     81  \n",
       "abaca     27  \n",
       "...      ...  \n",
       "zuzim    146  \n",
       "zygal      8  \n",
       "zygon      8  \n",
       "zymes     26  \n",
       "zymic    242  \n",
       "\n",
       "[12972 rows x 12972 columns]"
      ]
     },
     "execution_count": 200,
     "metadata": {},
     "output_type": "execute_result"
    }
   ],
   "source": [
    "df = pd.DataFrame(table, index=words, columns=words)\n",
    "df"
   ]
  },
  {
   "cell_type": "code",
   "execution_count": 210,
   "id": "enormous-charles",
   "metadata": {},
   "outputs": [],
   "source": [
    "possible_answers_arr = np.array(list(possible_answers))"
   ]
  },
  {
   "cell_type": "code",
   "execution_count": 211,
   "id": "received-usage",
   "metadata": {},
   "outputs": [],
   "source": [
    "m = table[:, possible_answers_arr]"
   ]
  },
  {
   "cell_type": "code",
   "execution_count": 223,
   "id": "intelligent-equipment",
   "metadata": {},
   "outputs": [],
   "source": [
    "m_out = np.unique(m, axis=1)"
   ]
  },
  {
   "cell_type": "code",
   "execution_count": 227,
   "id": "ceramic-harris",
   "metadata": {},
   "outputs": [
    {
     "data": {
      "text/plain": [
       "{0, 9, 18, 81, 90}"
      ]
     },
     "execution_count": 227,
     "metadata": {},
     "output_type": "execute_result"
    }
   ],
   "source": [
    "set(m_out[0])"
   ]
  },
  {
   "cell_type": "code",
   "execution_count": 229,
   "id": "above-federation",
   "metadata": {},
   "outputs": [
    {
     "data": {
      "text/plain": [
       "array([ 0,  9, 18, 81, 90], dtype=uint8)"
      ]
     },
     "execution_count": 229,
     "metadata": {},
     "output_type": "execute_result"
    }
   ],
   "source": [
    "np.unique(m[0])"
   ]
  },
  {
   "cell_type": "code",
   "execution_count": 230,
   "id": "czech-concentration",
   "metadata": {},
   "outputs": [],
   "source": [
    "m_out, counts = np.unique(m, axis=1, return_counts=True)"
   ]
  },
  {
   "cell_type": "code",
   "execution_count": 231,
   "id": "statistical-amateur",
   "metadata": {},
   "outputs": [
    {
     "data": {
      "text/plain": [
       "array([[  0,   0,   0, ...,  81,  90,  90],\n",
       "       [  0,   0,   0, ...,   0,   0,   0],\n",
       "       [  0,   0,   0, ...,  27,  81,  81],\n",
       "       ...,\n",
       "       [ 27,  27,  27, ...,  36,  27,  30],\n",
       "       [162, 162, 180, ..., 162, 162, 165],\n",
       "       [  0,   0,  18, ...,   0,   0,   3]], dtype=uint8)"
      ]
     },
     "execution_count": 231,
     "metadata": {},
     "output_type": "execute_result"
    }
   ],
   "source": [
    "m_out"
   ]
  },
  {
   "cell_type": "code",
   "execution_count": 232,
   "id": "persistent-palestinian",
   "metadata": {},
   "outputs": [
    {
     "data": {
      "text/plain": [
       "{0, 9, 18, 81, 90}"
      ]
     },
     "execution_count": 232,
     "metadata": {},
     "output_type": "execute_result"
    }
   ],
   "source": [
    "set(m_out[0])"
   ]
  },
  {
   "cell_type": "code",
   "execution_count": 233,
   "id": "posted-trigger",
   "metadata": {},
   "outputs": [
    {
     "data": {
      "text/plain": [
       "array([1, 1, 1, 1, 1, 1, 1, 1, 1, 1, 1, 1, 1, 1, 1, 1, 1, 1, 1, 1, 1, 1,\n",
       "       1, 1, 1, 1, 1, 1, 1, 1, 1, 1, 1, 1, 1, 1, 1, 1, 1, 1, 1, 1, 1, 1,\n",
       "       1, 1, 1, 1, 1, 1, 1, 1, 1, 1, 1, 1, 1, 1, 1, 1, 1, 1, 1, 1, 1, 1,\n",
       "       1, 1, 1, 1, 1, 1, 1, 1, 1, 1, 1, 1, 1, 1, 1, 1, 1, 1, 1, 1, 1, 1,\n",
       "       1, 1, 1, 1, 1, 1, 1, 1, 1, 1, 1, 1, 1, 1, 1, 1, 1, 1, 1, 1, 1, 1,\n",
       "       1, 1, 1, 1, 1, 1, 1, 1, 1, 1])"
      ]
     },
     "execution_count": 233,
     "metadata": {},
     "output_type": "execute_result"
    }
   ],
   "source": [
    "counts"
   ]
  },
  {
   "cell_type": "code",
   "execution_count": 239,
   "id": "portable-captain",
   "metadata": {},
   "outputs": [
    {
     "data": {
      "text/plain": [
       "array([[1, 2, 1],\n",
       "       [2, 2, 2],\n",
       "       [3, 3, 3],\n",
       "       [1, 4, 5]])"
      ]
     },
     "execution_count": 239,
     "metadata": {},
     "output_type": "execute_result"
    }
   ],
   "source": [
    "# how about an example\n",
    "\n",
    "m_sample = np.array([\n",
    "    [1, 2, 1],\n",
    "    [2, 2, 2],\n",
    "    [3, 3, 3],\n",
    "    [1, 4, 5],\n",
    "])\n",
    "m_sample"
   ]
  },
  {
   "cell_type": "code",
   "execution_count": 242,
   "id": "loose-vehicle",
   "metadata": {},
   "outputs": [
    {
     "data": {
      "text/plain": [
       "(array([[1, 1, 2],\n",
       "        [2, 2, 2],\n",
       "        [3, 3, 3],\n",
       "        [1, 5, 4]]),\n",
       " array([1, 1, 1]))"
      ]
     },
     "execution_count": 242,
     "metadata": {},
     "output_type": "execute_result"
    }
   ],
   "source": [
    "np.unique(m_sample, axis=1, return_counts=True)"
   ]
  },
  {
   "cell_type": "code",
   "execution_count": 243,
   "id": "objective-pressure",
   "metadata": {},
   "outputs": [
    {
     "data": {
      "text/plain": [
       "(array([[1, 2, 1],\n",
       "        [1, 4, 5],\n",
       "        [2, 2, 2],\n",
       "        [3, 3, 3]]),\n",
       " array([1, 1, 1, 1]))"
      ]
     },
     "execution_count": 243,
     "metadata": {},
     "output_type": "execute_result"
    }
   ],
   "source": [
    "np.unique(m_sample, axis=0, return_counts=True)"
   ]
  },
  {
   "cell_type": "code",
   "execution_count": 209,
   "id": "primary-flower",
   "metadata": {},
   "outputs": [],
   "source": [
    "def my_pick_next_guesses_it(guesses, guess_results, table, possible_answers):\n",
    "    possible_answers_arr = np.array(list(possible_answers))\n",
    "    m = table[:, possible_answers_arr]\n",
    "    sort_arr = np.apply_along_axis(get_mean_partition, axis=1, arr=m)\n",
    "    pass\n"
   ]
  },
  {
   "cell_type": "code",
   "execution_count": null,
   "id": "southern-grenada",
   "metadata": {},
   "outputs": [],
   "source": []
  },
  {
   "cell_type": "code",
   "execution_count": 208,
   "id": "departmental-perspective",
   "metadata": {},
   "outputs": [
    {
     "name": "stdout",
     "output_type": "stream",
     "text": [
      "5.31 s ± 181 ms per loop (mean ± std. dev. of 7 runs, 1 loop each)\n"
     ]
    }
   ],
   "source": [
    "%timeit df.apply(get_mean_partition, axis=0)\n",
    "# v"
   ]
  },
  {
   "cell_type": "markdown",
   "id": "different-vacuum",
   "metadata": {},
   "source": [
    "Fastest way to create numpy array from set"
   ]
  },
  {
   "cell_type": "code",
   "execution_count": 154,
   "id": "flying-ballot",
   "metadata": {},
   "outputs": [
    {
     "name": "stdout",
     "output_type": "stream",
     "text": [
      "8.79 µs ± 161 ns per loop (mean ± std. dev. of 7 runs, 100000 loops each)\n"
     ]
    }
   ],
   "source": [
    "%timeit np.array(list(possible_answers))"
   ]
  },
  {
   "cell_type": "code",
   "execution_count": 155,
   "id": "chronic-volume",
   "metadata": {},
   "outputs": [
    {
     "name": "stdout",
     "output_type": "stream",
     "text": [
      "10.8 µs ± 101 ns per loop (mean ± std. dev. of 7 runs, 100000 loops each)\n"
     ]
    }
   ],
   "source": [
    "%timeit np.array([answer for answer in possible_answers])"
   ]
  },
  {
   "cell_type": "code",
   "execution_count": 156,
   "id": "original-newspaper",
   "metadata": {},
   "outputs": [],
   "source": [
    "pas = np.array(list(possible_answers))\n",
    "m1 = table[:, pas]\n"
   ]
  },
  {
   "cell_type": "code",
   "execution_count": 168,
   "id": "governing-liberia",
   "metadata": {},
   "outputs": [
    {
     "name": "stdout",
     "output_type": "stream",
     "text": [
      "5.59 µs ± 94.6 ns per loop (mean ± std. dev. of 7 runs, 100000 loops each)\n"
     ]
    }
   ],
   "source": [
    "%timeit np.unique(m1[0])"
   ]
  },
  {
   "cell_type": "code",
   "execution_count": 167,
   "id": "realistic-nirvana",
   "metadata": {},
   "outputs": [
    {
     "name": "stdout",
     "output_type": "stream",
     "text": [
      "11.3 µs ± 311 ns per loop (mean ± std. dev. of 7 runs, 100000 loops each)\n"
     ]
    }
   ],
   "source": [
    "%timeit set(m1[0])"
   ]
  },
  {
   "cell_type": "code",
   "execution_count": 175,
   "id": "contrary-spirituality",
   "metadata": {},
   "outputs": [
    {
     "name": "stdout",
     "output_type": "stream",
     "text": [
      "3.7 µs ± 71.6 ns per loop (mean ± std. dev. of 7 runs, 100000 loops each)\n"
     ]
    }
   ],
   "source": [
    "%timeit np.bincount(m1[0]).max()"
   ]
  },
  {
   "cell_type": "code",
   "execution_count": 176,
   "id": "alpha-jacket",
   "metadata": {},
   "outputs": [
    {
     "name": "stdout",
     "output_type": "stream",
     "text": [
      "15.8 ns ± 0.294 ns per loop (mean ± std. dev. of 7 runs, 100000000 loops each)\n"
     ]
    }
   ],
   "source": [
    "def f2():\n",
    "    _, counts = np.unique(m1[0], return_counts=True)\n",
    "    return counts.max()\n",
    "\n",
    "%timeit f2"
   ]
  },
  {
   "cell_type": "code",
   "execution_count": 180,
   "id": "junior-formation",
   "metadata": {
    "collapsed": true,
    "jupyter": {
     "outputs_hidden": true
    }
   },
   "outputs": [
    {
     "ename": "KeyboardInterrupt",
     "evalue": "",
     "output_type": "error",
     "traceback": [
      "\u001b[0;31m---------------------------------------------------------------------------\u001b[0m",
      "\u001b[0;31mKeyboardInterrupt\u001b[0m                         Traceback (most recent call last)",
      "\u001b[0;32m<ipython-input-180-1b92c0e3ccdb>\u001b[0m in \u001b[0;36m<module>\u001b[0;34m\u001b[0m\n\u001b[1;32m      3\u001b[0m     \u001b[0;32mreturn\u001b[0m \u001b[0mcounts\u001b[0m\u001b[0;34m.\u001b[0m\u001b[0mmax\u001b[0m\u001b[0;34m(\u001b[0m\u001b[0;34m)\u001b[0m\u001b[0;34m\u001b[0m\u001b[0;34m\u001b[0m\u001b[0m\n\u001b[1;32m      4\u001b[0m \u001b[0;34m\u001b[0m\u001b[0m\n\u001b[0;32m----> 5\u001b[0;31m \u001b[0mget_ipython\u001b[0m\u001b[0;34m(\u001b[0m\u001b[0;34m)\u001b[0m\u001b[0;34m.\u001b[0m\u001b[0mrun_line_magic\u001b[0m\u001b[0;34m(\u001b[0m\u001b[0;34m'timeit'\u001b[0m\u001b[0;34m,\u001b[0m \u001b[0;34m'-n 5 np.apply_along_axis(worst_partition_unique, axis=1, arr=table)'\u001b[0m\u001b[0;34m)\u001b[0m\u001b[0;34m\u001b[0m\u001b[0;34m\u001b[0m\u001b[0m\n\u001b[0m",
      "\u001b[0;32m/Users/Daniel_Kats/opt/anaconda3/lib/python3.8/site-packages/IPython/core/interactiveshell.py\u001b[0m in \u001b[0;36mrun_line_magic\u001b[0;34m(self, magic_name, line, _stack_depth)\u001b[0m\n\u001b[1;32m   2334\u001b[0m                 \u001b[0mkwargs\u001b[0m\u001b[0;34m[\u001b[0m\u001b[0;34m'local_ns'\u001b[0m\u001b[0;34m]\u001b[0m \u001b[0;34m=\u001b[0m \u001b[0mself\u001b[0m\u001b[0;34m.\u001b[0m\u001b[0mget_local_scope\u001b[0m\u001b[0;34m(\u001b[0m\u001b[0mstack_depth\u001b[0m\u001b[0;34m)\u001b[0m\u001b[0;34m\u001b[0m\u001b[0;34m\u001b[0m\u001b[0m\n\u001b[1;32m   2335\u001b[0m             \u001b[0;32mwith\u001b[0m \u001b[0mself\u001b[0m\u001b[0;34m.\u001b[0m\u001b[0mbuiltin_trap\u001b[0m\u001b[0;34m:\u001b[0m\u001b[0;34m\u001b[0m\u001b[0;34m\u001b[0m\u001b[0m\n\u001b[0;32m-> 2336\u001b[0;31m                 \u001b[0mresult\u001b[0m \u001b[0;34m=\u001b[0m \u001b[0mfn\u001b[0m\u001b[0;34m(\u001b[0m\u001b[0;34m*\u001b[0m\u001b[0margs\u001b[0m\u001b[0;34m,\u001b[0m \u001b[0;34m**\u001b[0m\u001b[0mkwargs\u001b[0m\u001b[0;34m)\u001b[0m\u001b[0;34m\u001b[0m\u001b[0;34m\u001b[0m\u001b[0m\n\u001b[0m\u001b[1;32m   2337\u001b[0m             \u001b[0;32mreturn\u001b[0m \u001b[0mresult\u001b[0m\u001b[0;34m\u001b[0m\u001b[0;34m\u001b[0m\u001b[0m\n\u001b[1;32m   2338\u001b[0m \u001b[0;34m\u001b[0m\u001b[0m\n",
      "\u001b[0;32m<decorator-gen-53>\u001b[0m in \u001b[0;36mtimeit\u001b[0;34m(self, line, cell, local_ns)\u001b[0m\n",
      "\u001b[0;32m/Users/Daniel_Kats/opt/anaconda3/lib/python3.8/site-packages/IPython/core/magic.py\u001b[0m in \u001b[0;36m<lambda>\u001b[0;34m(f, *a, **k)\u001b[0m\n\u001b[1;32m    185\u001b[0m     \u001b[0;31m# but it's overkill for just that one bit of state.\u001b[0m\u001b[0;34m\u001b[0m\u001b[0;34m\u001b[0m\u001b[0;34m\u001b[0m\u001b[0m\n\u001b[1;32m    186\u001b[0m     \u001b[0;32mdef\u001b[0m \u001b[0mmagic_deco\u001b[0m\u001b[0;34m(\u001b[0m\u001b[0marg\u001b[0m\u001b[0;34m)\u001b[0m\u001b[0;34m:\u001b[0m\u001b[0;34m\u001b[0m\u001b[0;34m\u001b[0m\u001b[0m\n\u001b[0;32m--> 187\u001b[0;31m         \u001b[0mcall\u001b[0m \u001b[0;34m=\u001b[0m \u001b[0;32mlambda\u001b[0m \u001b[0mf\u001b[0m\u001b[0;34m,\u001b[0m \u001b[0;34m*\u001b[0m\u001b[0ma\u001b[0m\u001b[0;34m,\u001b[0m \u001b[0;34m**\u001b[0m\u001b[0mk\u001b[0m\u001b[0;34m:\u001b[0m \u001b[0mf\u001b[0m\u001b[0;34m(\u001b[0m\u001b[0;34m*\u001b[0m\u001b[0ma\u001b[0m\u001b[0;34m,\u001b[0m \u001b[0;34m**\u001b[0m\u001b[0mk\u001b[0m\u001b[0;34m)\u001b[0m\u001b[0;34m\u001b[0m\u001b[0;34m\u001b[0m\u001b[0m\n\u001b[0m\u001b[1;32m    188\u001b[0m \u001b[0;34m\u001b[0m\u001b[0m\n\u001b[1;32m    189\u001b[0m         \u001b[0;32mif\u001b[0m \u001b[0mcallable\u001b[0m\u001b[0;34m(\u001b[0m\u001b[0marg\u001b[0m\u001b[0;34m)\u001b[0m\u001b[0;34m:\u001b[0m\u001b[0;34m\u001b[0m\u001b[0;34m\u001b[0m\u001b[0m\n",
      "\u001b[0;32m/Users/Daniel_Kats/opt/anaconda3/lib/python3.8/site-packages/IPython/core/magics/execution.py\u001b[0m in \u001b[0;36mtimeit\u001b[0;34m(self, line, cell, local_ns)\u001b[0m\n\u001b[1;32m   1171\u001b[0m                     \u001b[0;32mbreak\u001b[0m\u001b[0;34m\u001b[0m\u001b[0;34m\u001b[0m\u001b[0m\n\u001b[1;32m   1172\u001b[0m \u001b[0;34m\u001b[0m\u001b[0m\n\u001b[0;32m-> 1173\u001b[0;31m         \u001b[0mall_runs\u001b[0m \u001b[0;34m=\u001b[0m \u001b[0mtimer\u001b[0m\u001b[0;34m.\u001b[0m\u001b[0mrepeat\u001b[0m\u001b[0;34m(\u001b[0m\u001b[0mrepeat\u001b[0m\u001b[0;34m,\u001b[0m \u001b[0mnumber\u001b[0m\u001b[0;34m)\u001b[0m\u001b[0;34m\u001b[0m\u001b[0;34m\u001b[0m\u001b[0m\n\u001b[0m\u001b[1;32m   1174\u001b[0m         \u001b[0mbest\u001b[0m \u001b[0;34m=\u001b[0m \u001b[0mmin\u001b[0m\u001b[0;34m(\u001b[0m\u001b[0mall_runs\u001b[0m\u001b[0;34m)\u001b[0m \u001b[0;34m/\u001b[0m \u001b[0mnumber\u001b[0m\u001b[0;34m\u001b[0m\u001b[0;34m\u001b[0m\u001b[0m\n\u001b[1;32m   1175\u001b[0m         \u001b[0mworst\u001b[0m \u001b[0;34m=\u001b[0m \u001b[0mmax\u001b[0m\u001b[0;34m(\u001b[0m\u001b[0mall_runs\u001b[0m\u001b[0;34m)\u001b[0m \u001b[0;34m/\u001b[0m \u001b[0mnumber\u001b[0m\u001b[0;34m\u001b[0m\u001b[0;34m\u001b[0m\u001b[0m\n",
      "\u001b[0;32m/Users/Daniel_Kats/opt/anaconda3/lib/python3.8/timeit.py\u001b[0m in \u001b[0;36mrepeat\u001b[0;34m(self, repeat, number)\u001b[0m\n\u001b[1;32m    203\u001b[0m         \u001b[0mr\u001b[0m \u001b[0;34m=\u001b[0m \u001b[0;34m[\u001b[0m\u001b[0;34m]\u001b[0m\u001b[0;34m\u001b[0m\u001b[0;34m\u001b[0m\u001b[0m\n\u001b[1;32m    204\u001b[0m         \u001b[0;32mfor\u001b[0m \u001b[0mi\u001b[0m \u001b[0;32min\u001b[0m \u001b[0mrange\u001b[0m\u001b[0;34m(\u001b[0m\u001b[0mrepeat\u001b[0m\u001b[0;34m)\u001b[0m\u001b[0;34m:\u001b[0m\u001b[0;34m\u001b[0m\u001b[0;34m\u001b[0m\u001b[0m\n\u001b[0;32m--> 205\u001b[0;31m             \u001b[0mt\u001b[0m \u001b[0;34m=\u001b[0m \u001b[0mself\u001b[0m\u001b[0;34m.\u001b[0m\u001b[0mtimeit\u001b[0m\u001b[0;34m(\u001b[0m\u001b[0mnumber\u001b[0m\u001b[0;34m)\u001b[0m\u001b[0;34m\u001b[0m\u001b[0;34m\u001b[0m\u001b[0m\n\u001b[0m\u001b[1;32m    206\u001b[0m             \u001b[0mr\u001b[0m\u001b[0;34m.\u001b[0m\u001b[0mappend\u001b[0m\u001b[0;34m(\u001b[0m\u001b[0mt\u001b[0m\u001b[0;34m)\u001b[0m\u001b[0;34m\u001b[0m\u001b[0;34m\u001b[0m\u001b[0m\n\u001b[1;32m    207\u001b[0m         \u001b[0;32mreturn\u001b[0m \u001b[0mr\u001b[0m\u001b[0;34m\u001b[0m\u001b[0;34m\u001b[0m\u001b[0m\n",
      "\u001b[0;32m/Users/Daniel_Kats/opt/anaconda3/lib/python3.8/site-packages/IPython/core/magics/execution.py\u001b[0m in \u001b[0;36mtimeit\u001b[0;34m(self, number)\u001b[0m\n\u001b[1;32m    167\u001b[0m         \u001b[0mgc\u001b[0m\u001b[0;34m.\u001b[0m\u001b[0mdisable\u001b[0m\u001b[0;34m(\u001b[0m\u001b[0;34m)\u001b[0m\u001b[0;34m\u001b[0m\u001b[0;34m\u001b[0m\u001b[0m\n\u001b[1;32m    168\u001b[0m         \u001b[0;32mtry\u001b[0m\u001b[0;34m:\u001b[0m\u001b[0;34m\u001b[0m\u001b[0;34m\u001b[0m\u001b[0m\n\u001b[0;32m--> 169\u001b[0;31m             \u001b[0mtiming\u001b[0m \u001b[0;34m=\u001b[0m \u001b[0mself\u001b[0m\u001b[0;34m.\u001b[0m\u001b[0minner\u001b[0m\u001b[0;34m(\u001b[0m\u001b[0mit\u001b[0m\u001b[0;34m,\u001b[0m \u001b[0mself\u001b[0m\u001b[0;34m.\u001b[0m\u001b[0mtimer\u001b[0m\u001b[0;34m)\u001b[0m\u001b[0;34m\u001b[0m\u001b[0;34m\u001b[0m\u001b[0m\n\u001b[0m\u001b[1;32m    170\u001b[0m         \u001b[0;32mfinally\u001b[0m\u001b[0;34m:\u001b[0m\u001b[0;34m\u001b[0m\u001b[0;34m\u001b[0m\u001b[0m\n\u001b[1;32m    171\u001b[0m             \u001b[0;32mif\u001b[0m \u001b[0mgcold\u001b[0m\u001b[0;34m:\u001b[0m\u001b[0;34m\u001b[0m\u001b[0;34m\u001b[0m\u001b[0m\n",
      "\u001b[0;32m<magic-timeit>\u001b[0m in \u001b[0;36minner\u001b[0;34m(_it, _timer)\u001b[0m\n",
      "\u001b[0;32m<__array_function__ internals>\u001b[0m in \u001b[0;36mapply_along_axis\u001b[0;34m(*args, **kwargs)\u001b[0m\n",
      "\u001b[0;32m/Users/Daniel_Kats/opt/anaconda3/lib/python3.8/site-packages/numpy/lib/shape_base.py\u001b[0m in \u001b[0;36mapply_along_axis\u001b[0;34m(func1d, axis, arr, *args, **kwargs)\u001b[0m\n\u001b[1;32m    400\u001b[0m     \u001b[0mbuff\u001b[0m\u001b[0;34m[\u001b[0m\u001b[0mind0\u001b[0m\u001b[0;34m]\u001b[0m \u001b[0;34m=\u001b[0m \u001b[0mres\u001b[0m\u001b[0;34m\u001b[0m\u001b[0;34m\u001b[0m\u001b[0m\n\u001b[1;32m    401\u001b[0m     \u001b[0;32mfor\u001b[0m \u001b[0mind\u001b[0m \u001b[0;32min\u001b[0m \u001b[0minds\u001b[0m\u001b[0;34m:\u001b[0m\u001b[0;34m\u001b[0m\u001b[0;34m\u001b[0m\u001b[0m\n\u001b[0;32m--> 402\u001b[0;31m         \u001b[0mbuff\u001b[0m\u001b[0;34m[\u001b[0m\u001b[0mind\u001b[0m\u001b[0;34m]\u001b[0m \u001b[0;34m=\u001b[0m \u001b[0masanyarray\u001b[0m\u001b[0;34m(\u001b[0m\u001b[0mfunc1d\u001b[0m\u001b[0;34m(\u001b[0m\u001b[0minarr_view\u001b[0m\u001b[0;34m[\u001b[0m\u001b[0mind\u001b[0m\u001b[0;34m]\u001b[0m\u001b[0;34m,\u001b[0m \u001b[0;34m*\u001b[0m\u001b[0margs\u001b[0m\u001b[0;34m,\u001b[0m \u001b[0;34m**\u001b[0m\u001b[0mkwargs\u001b[0m\u001b[0;34m)\u001b[0m\u001b[0;34m)\u001b[0m\u001b[0;34m\u001b[0m\u001b[0;34m\u001b[0m\u001b[0m\n\u001b[0m\u001b[1;32m    403\u001b[0m \u001b[0;34m\u001b[0m\u001b[0m\n\u001b[1;32m    404\u001b[0m     \u001b[0;32mif\u001b[0m \u001b[0;32mnot\u001b[0m \u001b[0misinstance\u001b[0m\u001b[0;34m(\u001b[0m\u001b[0mres\u001b[0m\u001b[0;34m,\u001b[0m \u001b[0mmatrix\u001b[0m\u001b[0;34m)\u001b[0m\u001b[0;34m:\u001b[0m\u001b[0;34m\u001b[0m\u001b[0;34m\u001b[0m\u001b[0m\n",
      "\u001b[0;32m<ipython-input-180-1b92c0e3ccdb>\u001b[0m in \u001b[0;36mworst_partition_unique\u001b[0;34m(row)\u001b[0m\n\u001b[1;32m      1\u001b[0m \u001b[0;32mdef\u001b[0m \u001b[0mworst_partition_unique\u001b[0m\u001b[0;34m(\u001b[0m\u001b[0mrow\u001b[0m\u001b[0;34m)\u001b[0m\u001b[0;34m:\u001b[0m\u001b[0;34m\u001b[0m\u001b[0;34m\u001b[0m\u001b[0m\n\u001b[0;32m----> 2\u001b[0;31m     \u001b[0m_\u001b[0m\u001b[0;34m,\u001b[0m \u001b[0mcounts\u001b[0m \u001b[0;34m=\u001b[0m \u001b[0mnp\u001b[0m\u001b[0;34m.\u001b[0m\u001b[0munique\u001b[0m\u001b[0;34m(\u001b[0m\u001b[0mrow\u001b[0m\u001b[0;34m,\u001b[0m \u001b[0mreturn_counts\u001b[0m\u001b[0;34m=\u001b[0m\u001b[0;32mTrue\u001b[0m\u001b[0;34m)\u001b[0m\u001b[0;34m\u001b[0m\u001b[0;34m\u001b[0m\u001b[0m\n\u001b[0m\u001b[1;32m      3\u001b[0m     \u001b[0;32mreturn\u001b[0m \u001b[0mcounts\u001b[0m\u001b[0;34m.\u001b[0m\u001b[0mmax\u001b[0m\u001b[0;34m(\u001b[0m\u001b[0;34m)\u001b[0m\u001b[0;34m\u001b[0m\u001b[0;34m\u001b[0m\u001b[0m\n\u001b[1;32m      4\u001b[0m \u001b[0;34m\u001b[0m\u001b[0m\n\u001b[1;32m      5\u001b[0m \u001b[0mget_ipython\u001b[0m\u001b[0;34m(\u001b[0m\u001b[0;34m)\u001b[0m\u001b[0;34m.\u001b[0m\u001b[0mrun_line_magic\u001b[0m\u001b[0;34m(\u001b[0m\u001b[0;34m'timeit'\u001b[0m\u001b[0;34m,\u001b[0m \u001b[0;34m'-n 5 np.apply_along_axis(worst_partition_unique, axis=1, arr=table)'\u001b[0m\u001b[0;34m)\u001b[0m\u001b[0;34m\u001b[0m\u001b[0;34m\u001b[0m\u001b[0m\n",
      "\u001b[0;32m<__array_function__ internals>\u001b[0m in \u001b[0;36munique\u001b[0;34m(*args, **kwargs)\u001b[0m\n",
      "\u001b[0;32m/Users/Daniel_Kats/opt/anaconda3/lib/python3.8/site-packages/numpy/lib/arraysetops.py\u001b[0m in \u001b[0;36munique\u001b[0;34m(ar, return_index, return_inverse, return_counts, axis)\u001b[0m\n\u001b[1;32m    259\u001b[0m     \u001b[0mar\u001b[0m \u001b[0;34m=\u001b[0m \u001b[0mnp\u001b[0m\u001b[0;34m.\u001b[0m\u001b[0masanyarray\u001b[0m\u001b[0;34m(\u001b[0m\u001b[0mar\u001b[0m\u001b[0;34m)\u001b[0m\u001b[0;34m\u001b[0m\u001b[0;34m\u001b[0m\u001b[0m\n\u001b[1;32m    260\u001b[0m     \u001b[0;32mif\u001b[0m \u001b[0maxis\u001b[0m \u001b[0;32mis\u001b[0m \u001b[0;32mNone\u001b[0m\u001b[0;34m:\u001b[0m\u001b[0;34m\u001b[0m\u001b[0;34m\u001b[0m\u001b[0m\n\u001b[0;32m--> 261\u001b[0;31m         \u001b[0mret\u001b[0m \u001b[0;34m=\u001b[0m \u001b[0m_unique1d\u001b[0m\u001b[0;34m(\u001b[0m\u001b[0mar\u001b[0m\u001b[0;34m,\u001b[0m \u001b[0mreturn_index\u001b[0m\u001b[0;34m,\u001b[0m \u001b[0mreturn_inverse\u001b[0m\u001b[0;34m,\u001b[0m \u001b[0mreturn_counts\u001b[0m\u001b[0;34m)\u001b[0m\u001b[0;34m\u001b[0m\u001b[0;34m\u001b[0m\u001b[0m\n\u001b[0m\u001b[1;32m    262\u001b[0m         \u001b[0;32mreturn\u001b[0m \u001b[0m_unpack_tuple\u001b[0m\u001b[0;34m(\u001b[0m\u001b[0mret\u001b[0m\u001b[0;34m)\u001b[0m\u001b[0;34m\u001b[0m\u001b[0;34m\u001b[0m\u001b[0m\n\u001b[1;32m    263\u001b[0m \u001b[0;34m\u001b[0m\u001b[0m\n",
      "\u001b[0;32m/Users/Daniel_Kats/opt/anaconda3/lib/python3.8/site-packages/numpy/lib/arraysetops.py\u001b[0m in \u001b[0;36m_unique1d\u001b[0;34m(ar, return_index, return_inverse, return_counts)\u001b[0m\n\u001b[1;32m    320\u001b[0m         \u001b[0maux\u001b[0m \u001b[0;34m=\u001b[0m \u001b[0mar\u001b[0m\u001b[0;34m[\u001b[0m\u001b[0mperm\u001b[0m\u001b[0;34m]\u001b[0m\u001b[0;34m\u001b[0m\u001b[0;34m\u001b[0m\u001b[0m\n\u001b[1;32m    321\u001b[0m     \u001b[0;32melse\u001b[0m\u001b[0;34m:\u001b[0m\u001b[0;34m\u001b[0m\u001b[0;34m\u001b[0m\u001b[0m\n\u001b[0;32m--> 322\u001b[0;31m         \u001b[0mar\u001b[0m\u001b[0;34m.\u001b[0m\u001b[0msort\u001b[0m\u001b[0;34m(\u001b[0m\u001b[0;34m)\u001b[0m\u001b[0;34m\u001b[0m\u001b[0;34m\u001b[0m\u001b[0m\n\u001b[0m\u001b[1;32m    323\u001b[0m         \u001b[0maux\u001b[0m \u001b[0;34m=\u001b[0m \u001b[0mar\u001b[0m\u001b[0;34m\u001b[0m\u001b[0;34m\u001b[0m\u001b[0m\n\u001b[1;32m    324\u001b[0m     \u001b[0mmask\u001b[0m \u001b[0;34m=\u001b[0m \u001b[0mnp\u001b[0m\u001b[0;34m.\u001b[0m\u001b[0mempty\u001b[0m\u001b[0;34m(\u001b[0m\u001b[0maux\u001b[0m\u001b[0;34m.\u001b[0m\u001b[0mshape\u001b[0m\u001b[0;34m,\u001b[0m \u001b[0mdtype\u001b[0m\u001b[0;34m=\u001b[0m\u001b[0mnp\u001b[0m\u001b[0;34m.\u001b[0m\u001b[0mbool_\u001b[0m\u001b[0;34m)\u001b[0m\u001b[0;34m\u001b[0m\u001b[0;34m\u001b[0m\u001b[0m\n",
      "\u001b[0;31mKeyboardInterrupt\u001b[0m: "
     ]
    }
   ],
   "source": [
    "def worst_partition_unique(row):\n",
    "    _, counts = np.unique(row, return_counts=True)\n",
    "    return counts.max()\n",
    "\n",
    "%timeit -n 5 np.apply_along_axis(worst_partition_unique, axis=1, arr=table)"
   ]
  },
  {
   "cell_type": "code",
   "execution_count": 179,
   "id": "dressed-investing",
   "metadata": {},
   "outputs": [
    {
     "name": "stdout",
     "output_type": "stream",
     "text": [
      "371 ms ± 3.51 ms per loop (mean ± std. dev. of 7 runs, 10 loops each)\n"
     ]
    }
   ],
   "source": [
    "def worst_partition_bincount(row):\n",
    "    return np.bincount(row).max()\n",
    "\n",
    "%timeit -n 10 np.apply_along_axis(worst_partition_bincount, axis=1, arr=table)"
   ]
  },
  {
   "cell_type": "code",
   "execution_count": 194,
   "id": "positive-robert",
   "metadata": {},
   "outputs": [
    {
     "name": "stdout",
     "output_type": "stream",
     "text": [
      "3.4 s ± 60.9 ms per loop (mean ± std. dev. of 7 runs, 1 loop each)\n"
     ]
    }
   ],
   "source": [
    "def get_mean_partition(row: np.ndarray) -> float:\n",
    "    _, counts = np.unique(row, return_counts=True)\n",
    "    return np.mean(counts)\n",
    "\n",
    "%timeit np.apply_along_axis(get_mean_partition, axis=1, arr=table)"
   ]
  },
  {
   "cell_type": "code",
   "execution_count": null,
   "id": "martial-david",
   "metadata": {},
   "outputs": [],
   "source": []
  },
  {
   "cell_type": "markdown",
   "id": "continued-address",
   "metadata": {},
   "source": [
    "#### Results\n",
    "\n",
    "`pick_next_guesses_it` based on a static heuristic is about 38x faster than our more sophisticated path for computing the heuristic. I just hope it isn't 38x worse."
   ]
  },
  {
   "cell_type": "markdown",
   "id": "dimensional-garden",
   "metadata": {},
   "source": [
    "## Checking the Generated Decision Tree\n",
    "\n",
    "I generated some decision trees using the answers dictionary. I think the program would take a monstrous amount of time to run if I tried running it on the full dictionary.\n",
    "\n",
    "### Answers Only\n",
    "\n",
    "It takes about 2 minutes to run this program for a given root word without optimizations.\n",
    "\n",
    "- With optimization #1 only: ~40s\n",
    "- With optimizations #1 and #2: rebut, 5.4s, 5,341 states opened\n",
    "    - slate: 6.3s, 7,880 states opened\n",
    "    - crane: 11.8s, 21,762 states opened\n",
    "- With optimizations #1, #2, #3: ~18s, 5595 states opened (fewer states but slower)\n",
    "\n",
    "Optimization #3 is not very good because the method takes about 40x longer to compute, but on average saves us very few states, since often we recurse on 1 state."
   ]
  },
  {
   "cell_type": "code",
   "execution_count": 84,
   "id": "valued-sunday",
   "metadata": {},
   "outputs": [],
   "source": [
    "import json"
   ]
  },
  {
   "cell_type": "code",
   "execution_count": 90,
   "id": "assured-promotion",
   "metadata": {},
   "outputs": [
    {
     "data": {
      "text/plain": [
       "242"
      ]
     },
     "execution_count": 90,
     "metadata": {},
     "output_type": "execute_result"
    }
   ],
   "source": [
    "ALL_LETTERS_CORRECT = (3 ** 5) - 1\n",
    "ALL_LETTERS_CORRECT"
   ]
  },
  {
   "cell_type": "code",
   "execution_count": 91,
   "id": "aware-bottom",
   "metadata": {},
   "outputs": [],
   "source": [
    "IS_DEBUG = False\n",
    "\n",
    "def print_debug(s):\n",
    "    if IS_DEBUG:\n",
    "        print(s)"
   ]
  },
  {
   "cell_type": "code",
   "execution_count": 99,
   "id": "animal-bride",
   "metadata": {},
   "outputs": [],
   "source": [
    "def find_answer(answer: str, tree: dict, depth: int) -> int:\n",
    "    # get the top-level key\n",
    "    root_words = list(tree.keys())\n",
    "    assert len(root_words) == 1\n",
    "    root_word = root_words[0]\n",
    "    guess = words[int(root_word)]\n",
    "    print_debug(f'depth {depth}, guessing {guess}')\n",
    "    \n",
    "    rv = eval_guess(guess, answer)\n",
    "    print_debug(rv)\n",
    "    rvi = array_to_integer(rv)\n",
    "    if rvi == 242:\n",
    "        print_debug('Correct')\n",
    "        return depth\n",
    "    \n",
    "    action_map = tree[root_word]\n",
    "    if str(rvi) in action_map:\n",
    "        return find_answer(\n",
    "            answer=answer,\n",
    "            tree=action_map[str(rvi)],\n",
    "            depth=depth+1\n",
    "        )"
   ]
  },
  {
   "cell_type": "code",
   "execution_count": 116,
   "id": "domestic-insertion",
   "metadata": {},
   "outputs": [],
   "source": [
    "def check_tree_answers(path: str):\n",
    "    tree = {}\n",
    "    with open(path) as fp:\n",
    "        tree = json.load(fp)\n",
    "        \n",
    "    words = [w.lower() for w in read_all_answers()]\n",
    "    # what is the root word?\n",
    "    root_word = list(tree.keys())[0]\n",
    "    print('root word is', words[int(root_word)])\n",
    "    \n",
    "    \n",
    "    d = {}\n",
    "\n",
    "    for answer in words:\n",
    "        depth = find_answer(answer, tree, depth=1)\n",
    "        d[answer] = depth\n",
    "        \n",
    "    ws = [w for w in d.keys()]\n",
    "    vs = [v for v in d.values()]\n",
    "\n",
    "    dt_df = pd.DataFrame({\n",
    "        'word': ws,\n",
    "        'depth': vs\n",
    "    })\n",
    "    display(dt_df)\n",
    "    \n",
    "    mean = dt_df.depth.mean()\n",
    "    print(f'mean {mean:.2f}')\n",
    "    return dt_df"
   ]
  },
  {
   "cell_type": "code",
   "execution_count": 130,
   "id": "genetic-median",
   "metadata": {},
   "outputs": [],
   "source": [
    "path = '../out/decision-trees/answers/paper.json'"
   ]
  },
  {
   "cell_type": "code",
   "execution_count": 131,
   "id": "demonstrated-forest",
   "metadata": {},
   "outputs": [
    {
     "name": "stdout",
     "output_type": "stream",
     "text": [
      "root word is paper\n"
     ]
    },
    {
     "data": {
      "text/html": [
       "<div>\n",
       "<style scoped>\n",
       "    .dataframe tbody tr th:only-of-type {\n",
       "        vertical-align: middle;\n",
       "    }\n",
       "\n",
       "    .dataframe tbody tr th {\n",
       "        vertical-align: top;\n",
       "    }\n",
       "\n",
       "    .dataframe thead th {\n",
       "        text-align: right;\n",
       "    }\n",
       "</style>\n",
       "<table border=\"1\" class=\"dataframe\">\n",
       "  <thead>\n",
       "    <tr style=\"text-align: right;\">\n",
       "      <th></th>\n",
       "      <th>word</th>\n",
       "      <th>depth</th>\n",
       "    </tr>\n",
       "  </thead>\n",
       "  <tbody>\n",
       "    <tr>\n",
       "      <th>0</th>\n",
       "      <td>cigar</td>\n",
       "      <td>4</td>\n",
       "    </tr>\n",
       "    <tr>\n",
       "      <th>1</th>\n",
       "      <td>rebut</td>\n",
       "      <td>4</td>\n",
       "    </tr>\n",
       "    <tr>\n",
       "      <th>2</th>\n",
       "      <td>sissy</td>\n",
       "      <td>5</td>\n",
       "    </tr>\n",
       "    <tr>\n",
       "      <th>3</th>\n",
       "      <td>humph</td>\n",
       "      <td>4</td>\n",
       "    </tr>\n",
       "    <tr>\n",
       "      <th>4</th>\n",
       "      <td>awake</td>\n",
       "      <td>6</td>\n",
       "    </tr>\n",
       "    <tr>\n",
       "      <th>...</th>\n",
       "      <td>...</td>\n",
       "      <td>...</td>\n",
       "    </tr>\n",
       "    <tr>\n",
       "      <th>2310</th>\n",
       "      <td>judge</td>\n",
       "      <td>6</td>\n",
       "    </tr>\n",
       "    <tr>\n",
       "      <th>2311</th>\n",
       "      <td>rower</td>\n",
       "      <td>6</td>\n",
       "    </tr>\n",
       "    <tr>\n",
       "      <th>2312</th>\n",
       "      <td>artsy</td>\n",
       "      <td>3</td>\n",
       "    </tr>\n",
       "    <tr>\n",
       "      <th>2313</th>\n",
       "      <td>rural</td>\n",
       "      <td>5</td>\n",
       "    </tr>\n",
       "    <tr>\n",
       "      <th>2314</th>\n",
       "      <td>shave</td>\n",
       "      <td>6</td>\n",
       "    </tr>\n",
       "  </tbody>\n",
       "</table>\n",
       "<p>2315 rows × 2 columns</p>\n",
       "</div>"
      ],
      "text/plain": [
       "       word  depth\n",
       "0     cigar      4\n",
       "1     rebut      4\n",
       "2     sissy      5\n",
       "3     humph      4\n",
       "4     awake      6\n",
       "...     ...    ...\n",
       "2310  judge      6\n",
       "2311  rower      6\n",
       "2312  artsy      3\n",
       "2313  rural      5\n",
       "2314  shave      6\n",
       "\n",
       "[2315 rows x 2 columns]"
      ]
     },
     "metadata": {},
     "output_type": "display_data"
    },
    {
     "name": "stdout",
     "output_type": "stream",
     "text": [
      "mean 4.49\n"
     ]
    }
   ],
   "source": [
    "dt_df = check_tree_answers(path)"
   ]
  },
  {
   "cell_type": "markdown",
   "id": "straight-variety",
   "metadata": {},
   "source": [
    "So obviously this is not the optimal depth for this decision tree, but it always solves the puzzle"
   ]
  },
  {
   "cell_type": "code",
   "execution_count": 129,
   "id": "mounted-expansion",
   "metadata": {},
   "outputs": [
    {
     "data": {
      "text/html": [
       "<div>\n",
       "<style scoped>\n",
       "    .dataframe tbody tr th:only-of-type {\n",
       "        vertical-align: middle;\n",
       "    }\n",
       "\n",
       "    .dataframe tbody tr th {\n",
       "        vertical-align: top;\n",
       "    }\n",
       "\n",
       "    .dataframe thead th {\n",
       "        text-align: right;\n",
       "    }\n",
       "</style>\n",
       "<table border=\"1\" class=\"dataframe\">\n",
       "  <thead>\n",
       "    <tr style=\"text-align: right;\">\n",
       "      <th></th>\n",
       "      <th>word</th>\n",
       "      <th>depth</th>\n",
       "    </tr>\n",
       "  </thead>\n",
       "  <tbody>\n",
       "  </tbody>\n",
       "</table>\n",
       "</div>"
      ],
      "text/plain": [
       "Empty DataFrame\n",
       "Columns: [word, depth]\n",
       "Index: []"
      ]
     },
     "execution_count": 129,
     "metadata": {},
     "output_type": "execute_result"
    }
   ],
   "source": [
    "dt_df[dt_df.depth > 6]"
   ]
  },
  {
   "cell_type": "markdown",
   "id": "furnished-appeal",
   "metadata": {},
   "source": [
    "## Solving the Full Dictionary\n",
    "\n",
    "Now that solving with the answers dictionary is trivial, we can try using the full dictionary.\n",
    "\n",
    "Optimizations #1 and #2 are must-haves and are very powerful. If only these two are on, then the initial path chosen looks like:\n",
    "\n",
    "> crane -> 0 -> toils\n",
    "\n",
    "To get to iteration 118, it takes about 30 seconds. That one looks like:\n",
    "\n",
    "> crane -> 0 -> toils -> 162\n",
    "\n",
    "I profiled the program while running it this way for about a minute and a half. A large fraction of the time is spent:\n",
    "\n",
    "- 20/98 -> `pick_next_guess_it`\n",
    "    - most of that in filtering out guesses using black letters\n",
    "    - 99740 calls\n",
    "    - 18687614 calls to the listcomp looking for black letters\n",
    "    - just as many calls to `any`\n",
    "- 15/98 -> `np.where`\n",
    "    - 2555504 calls\n",
    "    - this is only used in the computation of possible answers\n",
    "- 6/98 -> `np.unique`\n",
    "    - this is only used to find the unique values for a guess\n",
    "    - 31936 calls\n",
    "- 6/98 -> `np.sort`\n",
    "    - I have no idea where this is called...\n",
    "    - I think it's being called by unique, because it's called exactly 1 time more than unique"
   ]
  },
  {
   "cell_type": "markdown",
   "id": "initial-assets",
   "metadata": {},
   "source": [
    "### new optimizations\n",
    "\n",
    "These optimizations aren't numbered because I don't see why you wouldn't use them.\n",
    "\n",
    "- Opt 5: early exit on failed subtree. When, for a given result, no further guess is able to solve that subtree, we know that we don't need to look any further for other guess results. We have failed and can early exit from the guess_result loop\n",
    "\n",
    "- Opt 6: sort guess results by partition size. When we iterate over guess results, we shouldn't iterate over them in some arbitrary order, but should try the cases that are most likely to fail first."
   ]
  },
  {
   "cell_type": "markdown",
   "id": "referenced-purple",
   "metadata": {},
   "source": [
    "### enabling optimization #4\n",
    "\n",
    "The program runs noticeably faster with optimization #4 enabled.It looks like we are able to choose better paths at higher levels and avoid entire subtrees.\n",
    "\n",
    "Optimization #4 uses a heuristic to pick the guess which creates the smallest mean partition size (thus optimizing for a large number of small partitions). This optimization is only enabled at levels 1 and 2 (when choosing guesses 2 and 3) and not at the lower levels. The function that computes it is fairly expensive (see above).\n",
    "\n",
    "First slow path (iteration 125, takes about 50 seconds to get there):\n",
    "\n",
    "> crane -> 0 -> polis -> 168\n",
    "\n",
    "I killed the program before that path is fully resolved.\n",
    "\n",
    "When using a profiler, the hot paths have changed. We are using a lot of `np.where` and `np.unique` as before, but `pick_next_guess_it` is no longer called as many times (only 372,582). I think this shows that pruning at higher levels is very effective.\n",
    "\n",
    "- most time is spent in `NEW_pick_next_guesses_it` with `apply_along_axis` taking the longest amount of time\n",
    "\n",
    "The runtime seems to be dominated by calls to `get_mean_partition`: 1,089,648 of them"
   ]
  },
  {
   "cell_type": "markdown",
   "id": "confidential-southeast",
   "metadata": {},
   "source": [
    "### optimization #4 - switching to worst_partition\n",
    "\n",
    "I found a very efficient way to write `get_worst_partition` using the numpy method `bincount`. What if we use that as the heuristic instead of `get_mean_partition`?\n",
    "\n",
    "Instead of picking `polis` for a second word, we pick `molts`. But we're moving very quickly through the possible values. That was a lie no we're not.\n",
    "\n",
    "So now we're back to `get_mean_partition`"
   ]
  },
  {
   "cell_type": "markdown",
   "id": "portuguese-commodity",
   "metadata": {},
   "source": [
    "### optimization #3\n",
    "\n",
    "I did not previously enable optimization #3 because it made the program much slower. However, I've found a way to fix it so it's much faster.\n",
    "\n",
    "The idea is, once we get down to depth 4 (choosing our 5th guess), we can pick either the optimal word to partition the space such that all partitions have only 1 possible answer, or we're not going to solve that subtree, so we can exit early.\n",
    "\n",
    "This saves on exploring and failing to solve a bunch of stuff at depth 4.\n",
    "\n",
    "Once we have this optimization enabled, we are able to progress much further.\n",
    "\n",
    "First slow path (iteration 40, takes about 30s to get there):\n",
    "\n",
    "> crane -> 0 -> polis -> 207"
   ]
  },
  {
   "cell_type": "markdown",
   "id": "quiet-cassette",
   "metadata": {},
   "source": [
    "### optimization #7\n",
    "\n",
    "We can save bad paths between runs. We know those paths don't work out. Don't explore them."
   ]
  },
  {
   "cell_type": "code",
   "execution_count": null,
   "id": "aerial-lotus",
   "metadata": {},
   "outputs": [],
   "source": []
  }
 ],
 "metadata": {
  "kernelspec": {
   "display_name": "Python 3",
   "language": "python",
   "name": "python3"
  },
  "language_info": {
   "codemirror_mode": {
    "name": "ipython",
    "version": 3
   },
   "file_extension": ".py",
   "mimetype": "text/x-python",
   "name": "python",
   "nbconvert_exporter": "python",
   "pygments_lexer": "ipython3",
   "version": "3.8.5"
  }
 },
 "nbformat": 4,
 "nbformat_minor": 5
}
