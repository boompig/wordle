{
 "cells": [
  {
   "cell_type": "markdown",
   "id": "played-cooperative",
   "metadata": {},
   "source": [
    "Someone on Twitter asked me to check this word list"
   ]
  },
  {
   "cell_type": "code",
   "execution_count": 1,
   "id": "cross-philippines",
   "metadata": {},
   "outputs": [
    {
     "data": {
      "text/plain": [
       "['arson', 'cited', 'lumpy']"
      ]
     },
     "execution_count": 1,
     "metadata": {},
     "output_type": "execute_result"
    }
   ],
   "source": [
    "first_guess_words = [w.lower() for w in 'Arson, Cited, Lumpy'.split(', ')]\n",
    "first_guess_words"
   ]
  },
  {
   "cell_type": "markdown",
   "id": "encouraging-casino",
   "metadata": {},
   "source": [
    "import utilities"
   ]
  },
  {
   "cell_type": "code",
   "execution_count": 2,
   "id": "satisfied-wales",
   "metadata": {},
   "outputs": [
    {
     "data": {
      "text/plain": [
       "'/Users/Daniel_Kats/prog/wordle/notebooks/..'"
      ]
     },
     "execution_count": 2,
     "metadata": {},
     "output_type": "execute_result"
    }
   ],
   "source": [
    "import os\n",
    "\n",
    "os.getcwd() + '/..'"
   ]
  },
  {
   "cell_type": "code",
   "execution_count": 3,
   "id": "controlled-fields",
   "metadata": {},
   "outputs": [],
   "source": [
    "import sys\n",
    "sys.path.append('..')"
   ]
  },
  {
   "cell_type": "code",
   "execution_count": 4,
   "id": "convinced-necklace",
   "metadata": {},
   "outputs": [],
   "source": [
    "# read_parsed_words -> all valid 5-letter words\n",
    "# read_parsed_answers -> all actual wordle answers\n",
    "\n",
    "from parse_data import read_parsed_answers, read_parsed_words"
   ]
  },
  {
   "cell_type": "markdown",
   "id": "colonial-world",
   "metadata": {},
   "source": [
    "## Cheating\n",
    "\n",
    "Use just the list of known answers"
   ]
  },
  {
   "cell_type": "code",
   "execution_count": 5,
   "id": "editorial-milton",
   "metadata": {},
   "outputs": [
    {
     "data": {
      "text/plain": [
       "(12972, 2315)"
      ]
     },
     "execution_count": 5,
     "metadata": {},
     "output_type": "execute_result"
    }
   ],
   "source": [
    "import numpy as np\n",
    "\n",
    "# recall - the possibilities table is an n x m matrix where each entry is a base 3 number smaller than 255\n",
    "# the number of rows = number of guess words\n",
    "# the number of cols = number of answer words\n",
    "# so entry (i, j) is the result you get by guessing word i when the solution is answer word j\n",
    "# in the asymmetric case, the first n words are the answer words in alphabetical order\n",
    "# the remaining guess words are sorted in alphabetical order\n",
    "\n",
    "table = np.load('../data-parsed/possibilities-table-asymmetric-base-3.npy')\n",
    "table.shape"
   ]
  },
  {
   "cell_type": "code",
   "execution_count": 6,
   "id": "future-association",
   "metadata": {},
   "outputs": [
    {
     "data": {
      "text/html": [
       "<div>\n",
       "<style scoped>\n",
       "    .dataframe tbody tr th:only-of-type {\n",
       "        vertical-align: middle;\n",
       "    }\n",
       "\n",
       "    .dataframe tbody tr th {\n",
       "        vertical-align: top;\n",
       "    }\n",
       "\n",
       "    .dataframe thead th {\n",
       "        text-align: right;\n",
       "    }\n",
       "</style>\n",
       "<table border=\"1\" class=\"dataframe\">\n",
       "  <thead>\n",
       "    <tr style=\"text-align: right;\">\n",
       "      <th></th>\n",
       "      <th>date</th>\n",
       "      <th>day</th>\n",
       "      <th>answer</th>\n",
       "    </tr>\n",
       "  </thead>\n",
       "  <tbody>\n",
       "    <tr>\n",
       "      <th>0</th>\n",
       "      <td>2021-06-19</td>\n",
       "      <td>0</td>\n",
       "      <td>CIGAR</td>\n",
       "    </tr>\n",
       "    <tr>\n",
       "      <th>1</th>\n",
       "      <td>2021-06-20</td>\n",
       "      <td>1</td>\n",
       "      <td>REBUT</td>\n",
       "    </tr>\n",
       "    <tr>\n",
       "      <th>2</th>\n",
       "      <td>2021-06-21</td>\n",
       "      <td>2</td>\n",
       "      <td>SISSY</td>\n",
       "    </tr>\n",
       "    <tr>\n",
       "      <th>3</th>\n",
       "      <td>2021-06-22</td>\n",
       "      <td>3</td>\n",
       "      <td>HUMPH</td>\n",
       "    </tr>\n",
       "    <tr>\n",
       "      <th>4</th>\n",
       "      <td>2021-06-23</td>\n",
       "      <td>4</td>\n",
       "      <td>AWAKE</td>\n",
       "    </tr>\n",
       "    <tr>\n",
       "      <th>...</th>\n",
       "      <td>...</td>\n",
       "      <td>...</td>\n",
       "      <td>...</td>\n",
       "    </tr>\n",
       "    <tr>\n",
       "      <th>2310</th>\n",
       "      <td>2027-10-16</td>\n",
       "      <td>2310</td>\n",
       "      <td>JUDGE</td>\n",
       "    </tr>\n",
       "    <tr>\n",
       "      <th>2311</th>\n",
       "      <td>2027-10-17</td>\n",
       "      <td>2311</td>\n",
       "      <td>ROWER</td>\n",
       "    </tr>\n",
       "    <tr>\n",
       "      <th>2312</th>\n",
       "      <td>2027-10-18</td>\n",
       "      <td>2312</td>\n",
       "      <td>ARTSY</td>\n",
       "    </tr>\n",
       "    <tr>\n",
       "      <th>2313</th>\n",
       "      <td>2027-10-19</td>\n",
       "      <td>2313</td>\n",
       "      <td>RURAL</td>\n",
       "    </tr>\n",
       "    <tr>\n",
       "      <th>2314</th>\n",
       "      <td>2027-10-20</td>\n",
       "      <td>2314</td>\n",
       "      <td>SHAVE</td>\n",
       "    </tr>\n",
       "  </tbody>\n",
       "</table>\n",
       "<p>2315 rows × 3 columns</p>\n",
       "</div>"
      ],
      "text/plain": [
       "           date   day answer\n",
       "0    2021-06-19     0  CIGAR\n",
       "1    2021-06-20     1  REBUT\n",
       "2    2021-06-21     2  SISSY\n",
       "3    2021-06-22     3  HUMPH\n",
       "4    2021-06-23     4  AWAKE\n",
       "...         ...   ...    ...\n",
       "2310 2027-10-16  2310  JUDGE\n",
       "2311 2027-10-17  2311  ROWER\n",
       "2312 2027-10-18  2312  ARTSY\n",
       "2313 2027-10-19  2313  RURAL\n",
       "2314 2027-10-20  2314  SHAVE\n",
       "\n",
       "[2315 rows x 3 columns]"
      ]
     },
     "execution_count": 6,
     "metadata": {},
     "output_type": "execute_result"
    }
   ],
   "source": [
    "answers = read_parsed_answers()\n",
    "answers"
   ]
  },
  {
   "cell_type": "code",
   "execution_count": 7,
   "id": "convenient-alias",
   "metadata": {},
   "outputs": [
    {
     "data": {
      "text/plain": [
       "2315"
      ]
     },
     "execution_count": 7,
     "metadata": {},
     "output_type": "execute_result"
    }
   ],
   "source": [
    "answer_words = list(answers.answer.str.lower().values)\n",
    "answer_words_chrono = answer_words[:]\n",
    "\n",
    "answer_words.sort()\n",
    "\n",
    "len(answer_words)"
   ]
  },
  {
   "cell_type": "markdown",
   "id": "pending-token",
   "metadata": {},
   "source": [
    "massage guess words to be in the right order"
   ]
  },
  {
   "cell_type": "code",
   "execution_count": 8,
   "id": "animal-philadelphia",
   "metadata": {},
   "outputs": [],
   "source": [
    "guess_words = read_parsed_words()\n",
    "guess_words\n",
    "\n",
    "guess_words_orig = guess_words[:]\n",
    "\n",
    "# we need to recalibrate how these guess words are ordered\n",
    "s_guess_words = set(guess_words)\n",
    "s_answer_words = set(answer_words)\n",
    "s_remaining_words = s_guess_words - s_answer_words\n",
    "# len(s_remaining_words)\n",
    "\n",
    "remaining_words = list(s_remaining_words)\n",
    "guess_words = answer_words + remaining_words\n",
    "len(guess_words)\n",
    "\n",
    "assert len(guess_words) == len(guess_words_orig)\n",
    "assert set(guess_words) == set(guess_words_orig)\n",
    "assert set(guess_words[:len(answer_words)]) == set(answer_words)\n"
   ]
  },
  {
   "cell_type": "code",
   "execution_count": 53,
   "id": "passing-hacker",
   "metadata": {},
   "outputs": [
    {
     "data": {
      "text/plain": [
       "[352, 357, 390, 2247, 392, 619, 2197]"
      ]
     },
     "execution_count": 53,
     "metadata": {},
     "output_type": "execute_result"
    }
   ],
   "source": [
    "from decision_tree import find_possible_answers, ALL_LETTERS_CORRECT\n",
    "from possibilities_table import guess_response_to_string\n",
    "from typing import List\n",
    "\n",
    "\n",
    "def try_strategy(answer_word: str,\n",
    "                answer_words: List[str],\n",
    "                table: np.ndarray) -> List[int]:\n",
    "    \"\"\"Return a list of possible answers after applying the strategy\n",
    "    Those answers are indexes into answer_words\n",
    "    \"\"\"\n",
    "    \n",
    "    j = answer_words.index(answer_word)\n",
    "    guess_results = []\n",
    "    guesses = []\n",
    "    \n",
    "    for gw in first_guess_words:\n",
    "        i = guess_words.index(gw)\n",
    "        guesses.append(i)\n",
    "        guess_results.append(table[i, j])\n",
    "        if guess_results[-1] == ALL_LETTERS_CORRECT:\n",
    "            break\n",
    "        \n",
    "#     print(answer_word)\n",
    "    \n",
    "#     print('guess results:')\n",
    "#     for g, gr in zip(guesses, guess_results):\n",
    "#         grv = guess_response_to_string(gr)\n",
    "#         print(f'{g} -> {grv}')\n",
    "#     print(guess_results)\n",
    "    \n",
    "    pas = find_possible_answers(guesses, guess_results, table)\n",
    "#     print(pas)\n",
    "    \n",
    "#     print('')\n",
    "#     print('possible answers:')\n",
    "#     for pa in pas:\n",
    "#         print(guess_words[pa])\n",
    "        \n",
    "    return list(pas)\n",
    "    \n",
    "    \n",
    "try_strategy('cigar', answer_words, table)"
   ]
  },
  {
   "cell_type": "code",
   "execution_count": 32,
   "id": "concerned-sapphire",
   "metadata": {},
   "outputs": [],
   "source": [
    "rows = []\n",
    "d = {}\n",
    "\n",
    "for i, answer_word in enumerate(answer_words_chrono):\n",
    "    pas = try_strategy(answer_word)\n",
    "    d[answer_word] = pas\n",
    "    \n",
    "    rows.append({\n",
    "        'answer_day': i,\n",
    "        'answer_word': answer_word,\n",
    "        'num_possibilities': len(pas)\n",
    "    })"
   ]
  },
  {
   "cell_type": "code",
   "execution_count": 33,
   "id": "enclosed-palmer",
   "metadata": {},
   "outputs": [
    {
     "data": {
      "text/html": [
       "<div>\n",
       "<style scoped>\n",
       "    .dataframe tbody tr th:only-of-type {\n",
       "        vertical-align: middle;\n",
       "    }\n",
       "\n",
       "    .dataframe tbody tr th {\n",
       "        vertical-align: top;\n",
       "    }\n",
       "\n",
       "    .dataframe thead th {\n",
       "        text-align: right;\n",
       "    }\n",
       "</style>\n",
       "<table border=\"1\" class=\"dataframe\">\n",
       "  <thead>\n",
       "    <tr style=\"text-align: right;\">\n",
       "      <th></th>\n",
       "      <th>answer_day</th>\n",
       "      <th>answer_word</th>\n",
       "      <th>num_possibilities</th>\n",
       "    </tr>\n",
       "  </thead>\n",
       "  <tbody>\n",
       "    <tr>\n",
       "      <th>0</th>\n",
       "      <td>0</td>\n",
       "      <td>cigar</td>\n",
       "      <td>7</td>\n",
       "    </tr>\n",
       "    <tr>\n",
       "      <th>1</th>\n",
       "      <td>1</td>\n",
       "      <td>rebut</td>\n",
       "      <td>2</td>\n",
       "    </tr>\n",
       "    <tr>\n",
       "      <th>2</th>\n",
       "      <td>2</td>\n",
       "      <td>sissy</td>\n",
       "      <td>2</td>\n",
       "    </tr>\n",
       "    <tr>\n",
       "      <th>3</th>\n",
       "      <td>3</td>\n",
       "      <td>humph</td>\n",
       "      <td>1</td>\n",
       "    </tr>\n",
       "    <tr>\n",
       "      <th>4</th>\n",
       "      <td>4</td>\n",
       "      <td>awake</td>\n",
       "      <td>4</td>\n",
       "    </tr>\n",
       "    <tr>\n",
       "      <th>...</th>\n",
       "      <td>...</td>\n",
       "      <td>...</td>\n",
       "      <td>...</td>\n",
       "    </tr>\n",
       "    <tr>\n",
       "      <th>2310</th>\n",
       "      <td>2310</td>\n",
       "      <td>judge</td>\n",
       "      <td>7</td>\n",
       "    </tr>\n",
       "    <tr>\n",
       "      <th>2311</th>\n",
       "      <td>2311</td>\n",
       "      <td>rower</td>\n",
       "      <td>11</td>\n",
       "    </tr>\n",
       "    <tr>\n",
       "      <th>2312</th>\n",
       "      <td>2312</td>\n",
       "      <td>artsy</td>\n",
       "      <td>1</td>\n",
       "    </tr>\n",
       "    <tr>\n",
       "      <th>2313</th>\n",
       "      <td>2313</td>\n",
       "      <td>rural</td>\n",
       "      <td>1</td>\n",
       "    </tr>\n",
       "    <tr>\n",
       "      <th>2314</th>\n",
       "      <td>2314</td>\n",
       "      <td>shave</td>\n",
       "      <td>5</td>\n",
       "    </tr>\n",
       "  </tbody>\n",
       "</table>\n",
       "<p>2315 rows × 3 columns</p>\n",
       "</div>"
      ],
      "text/plain": [
       "      answer_day answer_word  num_possibilities\n",
       "0              0       cigar                  7\n",
       "1              1       rebut                  2\n",
       "2              2       sissy                  2\n",
       "3              3       humph                  1\n",
       "4              4       awake                  4\n",
       "...          ...         ...                ...\n",
       "2310        2310       judge                  7\n",
       "2311        2311       rower                 11\n",
       "2312        2312       artsy                  1\n",
       "2313        2313       rural                  1\n",
       "2314        2314       shave                  5\n",
       "\n",
       "[2315 rows x 3 columns]"
      ]
     },
     "execution_count": 33,
     "metadata": {},
     "output_type": "execute_result"
    }
   ],
   "source": [
    "import pandas as pd\n",
    "\n",
    "df = pd.DataFrame(rows)\n",
    "df"
   ]
  },
  {
   "cell_type": "code",
   "execution_count": 46,
   "id": "powerful-framework",
   "metadata": {},
   "outputs": [
    {
     "data": {
      "text/plain": [
       "answer_day              32\n",
       "answer_word          helix\n",
       "num_possibilities       17\n",
       "Name: 32, dtype: object"
      ]
     },
     "execution_count": 46,
     "metadata": {},
     "output_type": "execute_result"
    }
   ],
   "source": [
    "df.iloc[df.num_possibilities.idxmax()]"
   ]
  },
  {
   "cell_type": "code",
   "execution_count": 47,
   "id": "level-cable",
   "metadata": {},
   "outputs": [
    {
     "data": {
      "text/plain": [
       "3.493304535637149"
      ]
     },
     "execution_count": 47,
     "metadata": {},
     "output_type": "execute_result"
    }
   ],
   "source": [
    "df.num_possibilities.mean()"
   ]
  },
  {
   "cell_type": "code",
   "execution_count": 36,
   "id": "skilled-garage",
   "metadata": {},
   "outputs": [
    {
     "data": {
      "text/plain": [
       "answer_day               3\n",
       "answer_word          humph\n",
       "num_possibilities        1\n",
       "Name: 3, dtype: object"
      ]
     },
     "execution_count": 36,
     "metadata": {},
     "output_type": "execute_result"
    }
   ],
   "source": [
    "df.iloc[df.num_possibilities.idxmin()]"
   ]
  },
  {
   "cell_type": "code",
   "execution_count": 37,
   "id": "consecutive-permission",
   "metadata": {},
   "outputs": [
    {
     "data": {
      "text/plain": [
       "['arson', 'cited', 'lumpy']"
      ]
     },
     "execution_count": 37,
     "metadata": {},
     "output_type": "execute_result"
    }
   ],
   "source": [
    "first_guess_words"
   ]
  },
  {
   "cell_type": "code",
   "execution_count": 41,
   "id": "typical-receipt",
   "metadata": {},
   "outputs": [
    {
     "data": {
      "text/plain": [
       "1165"
      ]
     },
     "execution_count": 41,
     "metadata": {},
     "output_type": "execute_result"
    }
   ],
   "source": [
    "answer_words.index('lumpy')"
   ]
  },
  {
   "cell_type": "code",
   "execution_count": 45,
   "id": "supported-remove",
   "metadata": {},
   "outputs": [
    {
     "data": {
      "text/html": [
       "<div>\n",
       "<style scoped>\n",
       "    .dataframe tbody tr th:only-of-type {\n",
       "        vertical-align: middle;\n",
       "    }\n",
       "\n",
       "    .dataframe tbody tr th {\n",
       "        vertical-align: top;\n",
       "    }\n",
       "\n",
       "    .dataframe thead th {\n",
       "        text-align: right;\n",
       "    }\n",
       "</style>\n",
       "<table border=\"1\" class=\"dataframe\">\n",
       "  <thead>\n",
       "    <tr style=\"text-align: right;\">\n",
       "      <th></th>\n",
       "      <th>answer_day</th>\n",
       "      <th>answer_word</th>\n",
       "      <th>num_possibilities</th>\n",
       "    </tr>\n",
       "  </thead>\n",
       "  <tbody>\n",
       "    <tr>\n",
       "      <th>3</th>\n",
       "      <td>3</td>\n",
       "      <td>humph</td>\n",
       "      <td>1</td>\n",
       "    </tr>\n",
       "  </tbody>\n",
       "</table>\n",
       "</div>"
      ],
      "text/plain": [
       "   answer_day answer_word  num_possibilities\n",
       "3           3       humph                  1"
      ]
     },
     "execution_count": 45,
     "metadata": {},
     "output_type": "execute_result"
    }
   ],
   "source": [
    "df[df['answer_word'] == 'humph']"
   ]
  },
  {
   "cell_type": "code",
   "execution_count": 49,
   "id": "current-region",
   "metadata": {},
   "outputs": [
    {
     "data": {
      "text/html": [
       "<div>\n",
       "<style scoped>\n",
       "    .dataframe tbody tr th:only-of-type {\n",
       "        vertical-align: middle;\n",
       "    }\n",
       "\n",
       "    .dataframe tbody tr th {\n",
       "        vertical-align: top;\n",
       "    }\n",
       "\n",
       "    .dataframe thead th {\n",
       "        text-align: right;\n",
       "    }\n",
       "</style>\n",
       "<table border=\"1\" class=\"dataframe\">\n",
       "  <thead>\n",
       "    <tr style=\"text-align: right;\">\n",
       "      <th></th>\n",
       "      <th>num_possibilities</th>\n",
       "    </tr>\n",
       "  </thead>\n",
       "  <tbody>\n",
       "    <tr>\n",
       "      <th>0</th>\n",
       "      <td>7</td>\n",
       "    </tr>\n",
       "    <tr>\n",
       "      <th>1</th>\n",
       "      <td>2</td>\n",
       "    </tr>\n",
       "    <tr>\n",
       "      <th>2</th>\n",
       "      <td>2</td>\n",
       "    </tr>\n",
       "    <tr>\n",
       "      <th>3</th>\n",
       "      <td>1</td>\n",
       "    </tr>\n",
       "    <tr>\n",
       "      <th>4</th>\n",
       "      <td>4</td>\n",
       "    </tr>\n",
       "    <tr>\n",
       "      <th>...</th>\n",
       "      <td>...</td>\n",
       "    </tr>\n",
       "    <tr>\n",
       "      <th>2310</th>\n",
       "      <td>7</td>\n",
       "    </tr>\n",
       "    <tr>\n",
       "      <th>2311</th>\n",
       "      <td>11</td>\n",
       "    </tr>\n",
       "    <tr>\n",
       "      <th>2312</th>\n",
       "      <td>1</td>\n",
       "    </tr>\n",
       "    <tr>\n",
       "      <th>2313</th>\n",
       "      <td>1</td>\n",
       "    </tr>\n",
       "    <tr>\n",
       "      <th>2314</th>\n",
       "      <td>5</td>\n",
       "    </tr>\n",
       "  </tbody>\n",
       "</table>\n",
       "<p>2315 rows × 1 columns</p>\n",
       "</div>"
      ],
      "text/plain": [
       "      num_possibilities\n",
       "0                     7\n",
       "1                     2\n",
       "2                     2\n",
       "3                     1\n",
       "4                     4\n",
       "...                 ...\n",
       "2310                  7\n",
       "2311                 11\n",
       "2312                  1\n",
       "2313                  1\n",
       "2314                  5\n",
       "\n",
       "[2315 rows x 1 columns]"
      ]
     },
     "execution_count": 49,
     "metadata": {},
     "output_type": "execute_result"
    }
   ],
   "source": [
    "df[['num_possibilities']]"
   ]
  },
  {
   "cell_type": "markdown",
   "id": "vital-location",
   "metadata": {},
   "source": [
    "## All 5-letter Words"
   ]
  },
  {
   "cell_type": "code",
   "execution_count": 54,
   "id": "valued-municipality",
   "metadata": {},
   "outputs": [
    {
     "data": {
      "text/html": [
       "<div>\n",
       "<style scoped>\n",
       "    .dataframe tbody tr th:only-of-type {\n",
       "        vertical-align: middle;\n",
       "    }\n",
       "\n",
       "    .dataframe tbody tr th {\n",
       "        vertical-align: top;\n",
       "    }\n",
       "\n",
       "    .dataframe thead th {\n",
       "        text-align: right;\n",
       "    }\n",
       "</style>\n",
       "<table border=\"1\" class=\"dataframe\">\n",
       "  <thead>\n",
       "    <tr style=\"text-align: right;\">\n",
       "      <th></th>\n",
       "      <th>answer_day</th>\n",
       "      <th>answer_word</th>\n",
       "      <th>num_possibilities</th>\n",
       "    </tr>\n",
       "  </thead>\n",
       "  <tbody>\n",
       "    <tr>\n",
       "      <th>0</th>\n",
       "      <td>0</td>\n",
       "      <td>aback</td>\n",
       "      <td>1</td>\n",
       "    </tr>\n",
       "    <tr>\n",
       "      <th>1</th>\n",
       "      <td>1</td>\n",
       "      <td>abase</td>\n",
       "      <td>8</td>\n",
       "    </tr>\n",
       "    <tr>\n",
       "      <th>2</th>\n",
       "      <td>2</td>\n",
       "      <td>abate</td>\n",
       "      <td>2</td>\n",
       "    </tr>\n",
       "    <tr>\n",
       "      <th>3</th>\n",
       "      <td>3</td>\n",
       "      <td>abbey</td>\n",
       "      <td>2</td>\n",
       "    </tr>\n",
       "    <tr>\n",
       "      <th>4</th>\n",
       "      <td>4</td>\n",
       "      <td>abbot</td>\n",
       "      <td>2</td>\n",
       "    </tr>\n",
       "    <tr>\n",
       "      <th>...</th>\n",
       "      <td>...</td>\n",
       "      <td>...</td>\n",
       "      <td>...</td>\n",
       "    </tr>\n",
       "    <tr>\n",
       "      <th>12967</th>\n",
       "      <td>12967</td>\n",
       "      <td>jonty</td>\n",
       "      <td>41</td>\n",
       "    </tr>\n",
       "    <tr>\n",
       "      <th>12968</th>\n",
       "      <td>12968</td>\n",
       "      <td>parol</td>\n",
       "      <td>24</td>\n",
       "    </tr>\n",
       "    <tr>\n",
       "      <th>12969</th>\n",
       "      <td>12969</td>\n",
       "      <td>spoom</td>\n",
       "      <td>60</td>\n",
       "    </tr>\n",
       "    <tr>\n",
       "      <th>12970</th>\n",
       "      <td>12970</td>\n",
       "      <td>munts</td>\n",
       "      <td>20</td>\n",
       "    </tr>\n",
       "    <tr>\n",
       "      <th>12971</th>\n",
       "      <td>12971</td>\n",
       "      <td>docht</td>\n",
       "      <td>9</td>\n",
       "    </tr>\n",
       "  </tbody>\n",
       "</table>\n",
       "<p>12972 rows × 3 columns</p>\n",
       "</div>"
      ],
      "text/plain": [
       "       answer_day answer_word  num_possibilities\n",
       "0               0       aback                  1\n",
       "1               1       abase                  8\n",
       "2               2       abate                  2\n",
       "3               3       abbey                  2\n",
       "4               4       abbot                  2\n",
       "...           ...         ...                ...\n",
       "12967       12967       jonty                 41\n",
       "12968       12968       parol                 24\n",
       "12969       12969       spoom                 60\n",
       "12970       12970       munts                 20\n",
       "12971       12971       docht                  9\n",
       "\n",
       "[12972 rows x 3 columns]"
      ]
     },
     "execution_count": 54,
     "metadata": {},
     "output_type": "execute_result"
    }
   ],
   "source": [
    "rows = []\n",
    "d = {}\n",
    "\n",
    "my_table = np.load('../data-parsed/possibilities-table-base-3.npy')\n",
    "\n",
    "for i, answer_word in enumerate(guess_words):\n",
    "    pas = try_strategy(\n",
    "        answer_word,\n",
    "        answer_words=guess_words,\n",
    "        table=my_table\n",
    "    )\n",
    "    d[answer_word] = pas\n",
    "    \n",
    "    rows.append({\n",
    "        'answer_day': i,\n",
    "        'answer_word': answer_word,\n",
    "        'num_possibilities': len(pas)\n",
    "    })\n",
    "    \n",
    "master_df = pd.DataFrame(rows)\n",
    "master_df"
   ]
  },
  {
   "cell_type": "code",
   "execution_count": 56,
   "id": "greatest-siemens",
   "metadata": {},
   "outputs": [
    {
     "data": {
      "text/plain": [
       "answer_day            3573\n",
       "answer_word          sapan\n",
       "num_possibilities      169\n",
       "Name: 3573, dtype: object"
      ]
     },
     "execution_count": 56,
     "metadata": {},
     "output_type": "execute_result"
    }
   ],
   "source": [
    "master_df.iloc[master_df.num_possibilities.idxmax()]"
   ]
  },
  {
   "cell_type": "code",
   "execution_count": null,
   "id": "suffering-stable",
   "metadata": {},
   "outputs": [],
   "source": []
  }
 ],
 "metadata": {
  "kernelspec": {
   "display_name": "Python 3",
   "language": "python",
   "name": "python3"
  },
  "language_info": {
   "codemirror_mode": {
    "name": "ipython",
    "version": 3
   },
   "file_extension": ".py",
   "mimetype": "text/x-python",
   "name": "python",
   "nbconvert_exporter": "python",
   "pygments_lexer": "ipython3",
   "version": "3.8.5"
  }
 },
 "nbformat": 4,
 "nbformat_minor": 5
}
